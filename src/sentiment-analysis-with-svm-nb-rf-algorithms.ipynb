{
  "cells": [
    {
      "cell_type": "markdown",
      "metadata": {
        "id": "view-in-github",
        "colab_type": "text"
      },
      "source": [
        "<a href=\"https://colab.research.google.com/github/kangnurrohman/sentiment-analysis-projects/blob/main/src/sentiment-analysis-with-svm-nb-rf-algorithms.ipynb\" target=\"_parent\"><img src=\"https://colab.research.google.com/assets/colab-badge.svg\" alt=\"Open In Colab\"/></a>"
      ]
    },
    {
      "source": [
        "<a href=\"https://www.kaggle.com/code/mohainurrohman/sentiment-analysis-with-svm-nb-rf-algorithms?scriptVersionId=115386413\" target=\"_blank\"><img align=\"left\" alt=\"Kaggle\" title=\"Open in Kaggle\" src=\"https://kaggle.com/static/images/open-in-kaggle.svg\"></a>"
      ],
      "metadata": {
        "id": "asuyKR2HSbr9"
      },
      "cell_type": "markdown",
      "id": "asuyKR2HSbr9"
    },
    {
      "cell_type": "markdown",
      "id": "7cce230c",
      "metadata": {
        "papermill": {
          "duration": 0.01253,
          "end_time": "2023-01-03T14:12:17.389636",
          "exception": false,
          "start_time": "2023-01-03T14:12:17.377106",
          "status": "completed"
        },
        "tags": [],
        "id": "7cce230c"
      },
      "source": [
        "# Table of Contents\n",
        "\n",
        "* [Abstract](#abstract)\n",
        "* [1. Introduction](#1)\n",
        "* [2. Literature Review](#2)\n",
        "* [3. Design System](#3)\n",
        "* [4. Experiment](#4)\n",
        "    - [4.1 Install Library](#4.1)\n",
        "    - [4.2 Load Library](#4.2)\n",
        "    - [4.3 Load Data](#4.3)\n",
        "    - [4.4 Exploratory Data Analysis](#4.4)\n",
        "        - [4.4.1 Sentiment Distribution](#4.4.1)\n",
        "    - [4.5 Data Preparation](#4.5)\n",
        "        - [4.5.1 Data Cleaning](#4.5.1)\n",
        "        - [4.5.2 TF-IDF](#4.5.2)\n",
        "        - [4.5.3 Splitting Data](#4.5.3)\n",
        "        - [4.5.4 Handling Data Imbalance (Over Sampling)](#4.5.4)\n",
        "    - [4.6 Modelling](#4.6)\n",
        "        - [4.6.1 Naive Bayes](#4.6.1)\n",
        "        - [4.6.2 SVM](#4.6.2)\n",
        "        - [4.6.3 Random Forest](#4.6.3)\n",
        "* [5. Result](#5)\n",
        "* [6. Conclusion](#6)"
      ]
    },
    {
      "cell_type": "markdown",
      "id": "ee08367e",
      "metadata": {
        "papermill": {
          "duration": 0.01222,
          "end_time": "2023-01-03T14:12:17.417317",
          "exception": false,
          "start_time": "2023-01-03T14:12:17.405097",
          "status": "completed"
        },
        "tags": [],
        "id": "ee08367e"
      },
      "source": [
        "<a id=\"abstract\"></a>\n",
        "## Abstrak"
      ]
    },
    {
      "cell_type": "markdown",
      "id": "7bf4452b",
      "metadata": {
        "papermill": {
          "duration": 0.01101,
          "end_time": "2023-01-03T14:12:17.439733",
          "exception": false,
          "start_time": "2023-01-03T14:12:17.428723",
          "status": "completed"
        },
        "tags": [],
        "id": "7bf4452b"
      },
      "source": [
        "The PLN Mobile application is part of the transformation that PLN is carrying out to improve service to customers. Since it was launched with a new appearance and various features at the end of 2020, PLN has continuously updated features and various services to customers. To find out how good the PLN Mobile application is, a special technique is needed, namely Sentiment Analysis. This experiment performs sentiment analysis on the PLN Mobile application using the Naive Bayes, SVM, and Random Forest algorithms. With 90% of training data and 10% of test data. The results show that Random Forest produces the best accuracy, precision and f1-score with values of 93%, 81% and 84%. Meanwhile, Naive Bayes showed the best recall of 90%."
      ]
    },
    {
      "cell_type": "markdown",
      "id": "565dac30",
      "metadata": {
        "papermill": {
          "duration": 0.012889,
          "end_time": "2023-01-03T14:12:17.465833",
          "exception": false,
          "start_time": "2023-01-03T14:12:17.452944",
          "status": "completed"
        },
        "tags": [],
        "id": "565dac30"
      },
      "source": [
        "<a id=\"1\"></a>\n",
        "### 1. Introduction\n",
        "The PLN Mobile application is part of the transformation that PLN is carrying out to improve service to customers. Since it was launched with a new appearance and various features at the end of 2020, PLN has continuously updated features and various services to customers.\n",
        "\n",
        "To find out how good the PLN Mobile application is, a special technique is needed, namely Sentiment Analysis. In this experiment, sentiment analysis was carried out using three algorithms, namely Naive Bayes, Support Vector Machine (SVM) and Decision tree. Naive Bayes algorithm was chosen because it works very fast and simple, SVM was chosen because it is effective in high-dimensional space, Random Forest was chosen because it balances the bias-variance trade-off well. For testing using the confusion matrix. after that compare the three algorithms to find the best results.\n",
        "\n",
        "### Research Problem\n",
        "How to do sentiment analysis using Naive Bayes, SVM, and Random Forest algorithms?\n",
        "\n",
        "### Research Question\n",
        "How accurate are Naive Bayes, SVM, and Random Forest in sentiment analysis?\n",
        "\n",
        "### Research Objective\n",
        "The purpose of this experiment is to compare the accuracy of the Naive Bayes, SVM, and Random Forest algorithms."
      ]
    },
    {
      "cell_type": "markdown",
      "id": "9b9c7db8",
      "metadata": {
        "papermill": {
          "duration": 0.012667,
          "end_time": "2023-01-03T14:12:17.491542",
          "exception": false,
          "start_time": "2023-01-03T14:12:17.478875",
          "status": "completed"
        },
        "tags": [],
        "id": "9b9c7db8"
      },
      "source": [
        "<a id=\"2\"></a>\n",
        "### 2. Literature Review\n",
        "\n",
        "**Naive Bayes**\n",
        "\n",
        "The Naive Bayes classifier separates data into different classes according to the Bayes’ Theorem, along with the assumption that all the predictors are independent of one another. It assumes that a particular feature in a class is not related to the presence of other features. \n",
        "\n",
        "**Pros**\n",
        "\n",
        "* This algorithm works very fast and can easily predict the class of a test dataset. \n",
        "* You can use it to solve multi-class prediction problems as it’s quite useful with them. \n",
        "* Naive Bayes classifier performs better than other models with less training data if the assumption of independence of features holds. \n",
        "* If you have categorical input variables, the Naive Bayes algorithm performs exceptionally well in comparison to numerical variables. \n",
        "* It can be used for Binary and Multi-class Classifications.\n",
        "* It effectively works in Multi-class predictions.\n",
        "\n",
        "**Cons**\n",
        "\n",
        "* If your test data set has a categorical variable of a category that wasn’t present in the training data set, the Naive Bayes model will assign it zero probability and won’t be able to make any predictions in this regard. This phenomenon is called ‘Zero Frequency,’ and you’ll have to use a smoothing technique to solve this problem.\n",
        "* This algorithm is also notorious as a lousy estimator. So, you shouldn’t take the probability outputs of ‘predict_proba’ too seriously. \n",
        "* It assumes that all the features are independent. While it might sound great in theory, in real life, you’ll hardly find a set of independent features. \n",
        "\n",
        "([source:upgrade.com](https://www.upgrad.com/blog/naive-bayes-classifier/))\n",
        "\n",
        "**SVM**\n",
        "\n",
        "“Support Vector Machine” (SVM) is a supervised machine learning algorithm that can be used for both classification or regression challenges. However,  it is mostly used in classification problems. In the SVM algorithm, we plot each data item as a point in n-dimensional space (where n is a number of features you have) with the value of each feature being the value of a particular coordinate. Then, we perform classification by finding the hyper-plane that differentiates the two classes very well (look at the below snapshot). \n",
        "\n",
        "**Pros**\n",
        "\n",
        "* It works really well with a clear margin of separation\n",
        "* It is effective in high dimensional spaces.\n",
        "* It is effective in cases where the number of dimensions is greater than the number of samples.\n",
        "* It uses a subset of training points in the decision function (called support vectors), so it is also memory efficient.\n",
        "\n",
        "**Cons**\n",
        "\n",
        "* It doesn’t perform well when we have large data set because the required training time is higher\n",
        "* It also doesn’t perform very well, when the data set has more noise i.e. target classes are overlapping\n",
        "* SVM doesn’t directly provide probability estimates, these are calculated using an expensive five-fold cross-validation. It is included in the related SVC method of Python scikit-learn library.\n",
        "\n",
        "([source:analyticsvidhya.com](https://www.analyticsvidhya.com/blog/2017/09/understaing-support-vector-machine-example-code/))\n",
        "\n",
        "**Random Forest**\n",
        "\n",
        "Random forest is a supervised learning algorithm. It builds a forest with an ensemble of decision trees. It is an easy to use machine learning algorithm that produces a great result most of the time even without hyperparameter tuning.\n",
        "\n",
        "**Pros**\n",
        "\n",
        "* Random Forests can be used for both classification and regression tasks.\n",
        "* Random Forests work well with both categorical and numerical data. No scaling or transformation of variables is usually necessary.\n",
        "* Random Forests implicitly perform feature selection and generate uncorrelated decision trees. It does this by choosing a random set of features to build each decision tree. This also makes it a great model when you have to work with a high number of features in the data.\n",
        "* Random Forests are not influenced by outliers to a fair degree. It does this by binning the variables.\n",
        "* Random Forests can handle linear and non-linear relationships well.\n",
        "* Random Forests generally provide high accuracy and balance the bias-variance trade-off well. Since the model’s principle is to average the results across the multiple decision trees it builds, it averages the variance as well.\n",
        "\n",
        "**Cons**\n",
        "\n",
        "* Random Forests are not easily interpretable. They provide feature importance but it does not provide complete visibility into the coefficients as linear regression.\n",
        "* Random Forests can be computationally intensive for large datasets.\n",
        "* Random forest is like a black box algorithm, you have very little control over what the model does.\n",
        "\n",
        "([source:medium.datadriveninvestor.com](https://medium.datadriveninvestor.com/random-forest-pros-and-cons-c1c42fb64f04))"
      ]
    },
    {
      "cell_type": "markdown",
      "id": "bd1f62db",
      "metadata": {
        "papermill": {
          "duration": 0.012609,
          "end_time": "2023-01-03T14:12:17.519854",
          "exception": false,
          "start_time": "2023-01-03T14:12:17.507245",
          "status": "completed"
        },
        "tags": [],
        "id": "bd1f62db"
      },
      "source": [
        "<a id=\"3\"></a>\n",
        "### 3. Design System\n",
        "\n",
        "![Kaggle.drawio.png](data:image/png;base64,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)"
      ]
    },
    {
      "cell_type": "markdown",
      "id": "2d7616a9",
      "metadata": {
        "papermill": {
          "duration": 0.009968,
          "end_time": "2023-01-03T14:12:17.540133",
          "exception": false,
          "start_time": "2023-01-03T14:12:17.530165",
          "status": "completed"
        },
        "tags": [],
        "id": "2d7616a9"
      },
      "source": [
        "<a id=\"4\"></a>\n",
        "### 4. Experiment"
      ]
    },
    {
      "cell_type": "markdown",
      "id": "da21ea2c",
      "metadata": {
        "papermill": {
          "duration": 0.009056,
          "end_time": "2023-01-03T14:12:17.559295",
          "exception": false,
          "start_time": "2023-01-03T14:12:17.550239",
          "status": "completed"
        },
        "tags": [],
        "id": "da21ea2c"
      },
      "source": [
        "<a id=\"4.1\"></a>\n",
        "### 4.1 Install Library"
      ]
    },
    {
      "cell_type": "code",
      "execution_count": null,
      "id": "e189ee3e",
      "metadata": {
        "execution": {
          "iopub.execute_input": "2023-01-03T14:12:17.582036Z",
          "iopub.status.busy": "2023-01-03T14:12:17.581027Z",
          "iopub.status.idle": "2023-01-03T14:12:44.174883Z",
          "shell.execute_reply": "2023-01-03T14:12:44.173096Z"
        },
        "papermill": {
          "duration": 26.609176,
          "end_time": "2023-01-03T14:12:44.178409",
          "exception": false,
          "start_time": "2023-01-03T14:12:17.569233",
          "status": "completed"
        },
        "tags": [],
        "id": "e189ee3e",
        "outputId": "53907ed1-a20a-49cb-9353-d32002b43ffa"
      },
      "outputs": [
        {
          "name": "stdout",
          "output_type": "stream",
          "text": [
            "Collecting sastrawi\r\n",
            "  Downloading Sastrawi-1.0.1-py2.py3-none-any.whl (209 kB)\r\n",
            "\u001b[2K     \u001b[90m━━━━━━━━━━━━━━━━━━━━━━━━━━━━━━━━━━━━━━━\u001b[0m \u001b[32m209.7/209.7 kB\u001b[0m \u001b[31m1.3 MB/s\u001b[0m eta \u001b[36m0:00:00\u001b[0m\r\n",
            "\u001b[?25hInstalling collected packages: sastrawi\r\n",
            "Successfully installed sastrawi-1.0.1\r\n",
            "\u001b[33mWARNING: Running pip as the 'root' user can result in broken permissions and conflicting behaviour with the system package manager. It is recommended to use a virtual environment instead: https://pip.pypa.io/warnings/venv\u001b[0m\u001b[33m\r\n",
            "\u001b[0mCollecting contractions\r\n",
            "  Downloading contractions-0.1.73-py2.py3-none-any.whl (8.7 kB)\r\n",
            "Collecting textsearch>=0.0.21\r\n",
            "  Downloading textsearch-0.0.24-py2.py3-none-any.whl (7.6 kB)\r\n",
            "Collecting pyahocorasick\r\n",
            "  Downloading pyahocorasick-1.4.4-cp37-cp37m-manylinux_2_17_x86_64.manylinux2014_x86_64.whl (106 kB)\r\n",
            "\u001b[2K     \u001b[90m━━━━━━━━━━━━━━━━━━━━━━━━━━━━━━━━━━━━━\u001b[0m \u001b[32m106.5/106.5 kB\u001b[0m \u001b[31m830.8 kB/s\u001b[0m eta \u001b[36m0:00:00\u001b[0m\r\n",
            "\u001b[?25hCollecting anyascii\r\n",
            "  Downloading anyascii-0.3.1-py3-none-any.whl (287 kB)\r\n",
            "\u001b[2K     \u001b[90m━━━━━━━━━━━━━━━━━━━━━━━━━━━━━━━━━━━━━━━\u001b[0m \u001b[32m287.5/287.5 kB\u001b[0m \u001b[31m3.2 MB/s\u001b[0m eta \u001b[36m0:00:00\u001b[0m\r\n",
            "\u001b[?25hInstalling collected packages: pyahocorasick, anyascii, textsearch, contractions\r\n",
            "Successfully installed anyascii-0.3.1 contractions-0.1.73 pyahocorasick-1.4.4 textsearch-0.0.24\r\n",
            "\u001b[33mWARNING: Running pip as the 'root' user can result in broken permissions and conflicting behaviour with the system package manager. It is recommended to use a virtual environment instead: https://pip.pypa.io/warnings/venv\u001b[0m\u001b[33m\r\n",
            "\u001b[0m"
          ]
        }
      ],
      "source": [
        "!pip install sastrawi\n",
        "!pip install contractions\n",
        "\n",
        "import warnings\n",
        "warnings.filterwarnings('ignore')"
      ]
    },
    {
      "cell_type": "markdown",
      "id": "2d2b1d7b",
      "metadata": {
        "papermill": {
          "duration": 0.010403,
          "end_time": "2023-01-03T14:12:44.199911",
          "exception": false,
          "start_time": "2023-01-03T14:12:44.189508",
          "status": "completed"
        },
        "tags": [],
        "id": "2d2b1d7b"
      },
      "source": [
        "<a id=\"4.2\"></a>\n",
        "### 4.2 Load Library"
      ]
    },
    {
      "cell_type": "code",
      "execution_count": null,
      "id": "58dd20fc",
      "metadata": {
        "execution": {
          "iopub.execute_input": "2023-01-03T14:12:44.224821Z",
          "iopub.status.busy": "2023-01-03T14:12:44.223462Z",
          "iopub.status.idle": "2023-01-03T14:12:46.466066Z",
          "shell.execute_reply": "2023-01-03T14:12:46.464836Z"
        },
        "papermill": {
          "duration": 2.258387,
          "end_time": "2023-01-03T14:12:46.469105",
          "exception": false,
          "start_time": "2023-01-03T14:12:44.210718",
          "status": "completed"
        },
        "tags": [],
        "id": "58dd20fc"
      },
      "outputs": [],
      "source": [
        "import re\n",
        "import tqdm\n",
        "import nltk\n",
        "import string\n",
        "import numpy as np\n",
        "import unicodedata\n",
        "import pandas as pd\n",
        "import contractions\n",
        "import seaborn as sns\n",
        "import matplotlib.pyplot as plt\n",
        "\n",
        "from bs4 import BeautifulSoup\n",
        "from sklearn.pipeline import Pipeline\n",
        "from nltk.tokenize import word_tokenize\n",
        "from Sastrawi.Stemmer.StemmerFactory import StemmerFactory"
      ]
    },
    {
      "cell_type": "markdown",
      "id": "0088dc27",
      "metadata": {
        "papermill": {
          "duration": 0.010618,
          "end_time": "2023-01-03T14:12:46.490949",
          "exception": false,
          "start_time": "2023-01-03T14:12:46.480331",
          "status": "completed"
        },
        "tags": [],
        "id": "0088dc27"
      },
      "source": [
        "<a id=\"4.3\"></a>\n",
        "### 4.3 Load Data"
      ]
    },
    {
      "cell_type": "code",
      "execution_count": null,
      "id": "e6ffd3a0",
      "metadata": {
        "execution": {
          "iopub.execute_input": "2023-01-03T14:12:46.51555Z",
          "iopub.status.busy": "2023-01-03T14:12:46.515078Z",
          "iopub.status.idle": "2023-01-03T14:12:47.498366Z",
          "shell.execute_reply": "2023-01-03T14:12:47.49682Z"
        },
        "papermill": {
          "duration": 0.999082,
          "end_time": "2023-01-03T14:12:47.501405",
          "exception": false,
          "start_time": "2023-01-03T14:12:46.502323",
          "status": "completed"
        },
        "tags": [],
        "id": "e6ffd3a0",
        "outputId": "e61e7c95-dd15-4a5e-c4f3-3230c5d8d27a"
      },
      "outputs": [
        {
          "name": "stdout",
          "output_type": "stream",
          "text": [
            "<class 'pandas.core.frame.DataFrame'>\n",
            "RangeIndex: 218172 entries, 0 to 218171\n",
            "Data columns (total 4 columns):\n",
            " #   Column     Non-Null Count   Dtype \n",
            "---  ------     --------------   ----- \n",
            " 0   user       218172 non-null  object\n",
            " 1   review     218172 non-null  object\n",
            " 2   sentiment  218172 non-null  int64 \n",
            " 3   date       218172 non-null  object\n",
            "dtypes: int64(1), object(3)\n",
            "memory usage: 6.7+ MB\n"
          ]
        }
      ],
      "source": [
        "df = pd.read_csv('/kaggle/input/pln-mobile-reviews/PLN Mobile Reviews.csv')\n",
        "df.rename(columns = {'rating':'sentiment'}, inplace = True)\n",
        "df.info()"
      ]
    },
    {
      "cell_type": "code",
      "execution_count": null,
      "id": "54a852f9",
      "metadata": {
        "execution": {
          "iopub.execute_input": "2023-01-03T14:12:47.527415Z",
          "iopub.status.busy": "2023-01-03T14:12:47.52612Z",
          "iopub.status.idle": "2023-01-03T14:12:47.715833Z",
          "shell.execute_reply": "2023-01-03T14:12:47.714316Z"
        },
        "papermill": {
          "duration": 0.20536,
          "end_time": "2023-01-03T14:12:47.718479",
          "exception": false,
          "start_time": "2023-01-03T14:12:47.513119",
          "status": "completed"
        },
        "tags": [],
        "id": "54a852f9",
        "outputId": "365ac6b8-92ae-4222-a250-c82f682e567a"
      },
      "outputs": [
        {
          "data": {
            "text/html": [
              "<div>\n",
              "<style scoped>\n",
              "    .dataframe tbody tr th:only-of-type {\n",
              "        vertical-align: middle;\n",
              "    }\n",
              "\n",
              "    .dataframe tbody tr th {\n",
              "        vertical-align: top;\n",
              "    }\n",
              "\n",
              "    .dataframe thead th {\n",
              "        text-align: right;\n",
              "    }\n",
              "</style>\n",
              "<table border=\"1\" class=\"dataframe\">\n",
              "  <thead>\n",
              "    <tr style=\"text-align: right;\">\n",
              "      <th></th>\n",
              "      <th>review</th>\n",
              "      <th>sentiment</th>\n",
              "    </tr>\n",
              "  </thead>\n",
              "  <tbody>\n",
              "    <tr>\n",
              "      <th>0</th>\n",
              "      <td>Pengaduan lebih cepat tanggap</td>\n",
              "      <td>5</td>\n",
              "    </tr>\n",
              "    <tr>\n",
              "      <th>1</th>\n",
              "      <td>pln mobile memang mantab</td>\n",
              "      <td>5</td>\n",
              "    </tr>\n",
              "    <tr>\n",
              "      <th>2</th>\n",
              "      <td>Alhamdulilah sangat membantu aplikasi ini🙏🙏🙏</td>\n",
              "      <td>5</td>\n",
              "    </tr>\n",
              "    <tr>\n",
              "      <th>3</th>\n",
              "      <td>Saat pengaduan susah untuk uplode poto, eror trus</td>\n",
              "      <td>1</td>\n",
              "    </tr>\n",
              "    <tr>\n",
              "      <th>4</th>\n",
              "      <td>Susah untuk buka aplikasi apa sih jelek banget</td>\n",
              "      <td>5</td>\n",
              "    </tr>\n",
              "  </tbody>\n",
              "</table>\n",
              "</div>"
            ],
            "text/plain": [
              "                                              review  sentiment\n",
              "0                      Pengaduan lebih cepat tanggap          5\n",
              "1                           pln mobile memang mantab          5\n",
              "2       Alhamdulilah sangat membantu aplikasi ini🙏🙏🙏          5\n",
              "3  Saat pengaduan susah untuk uplode poto, eror trus          1\n",
              "4     Susah untuk buka aplikasi apa sih jelek banget          5"
            ]
          },
          "execution_count": 4,
          "metadata": {},
          "output_type": "execute_result"
        }
      ],
      "source": [
        "df = df.sort_values(by='date', ascending=False)\n",
        "df = df[['review', 'sentiment']]\n",
        "df.head()"
      ]
    },
    {
      "cell_type": "markdown",
      "id": "fffc176a",
      "metadata": {
        "papermill": {
          "duration": 0.01143,
          "end_time": "2023-01-03T14:12:47.742145",
          "exception": false,
          "start_time": "2023-01-03T14:12:47.730715",
          "status": "completed"
        },
        "tags": [],
        "id": "fffc176a"
      },
      "source": [
        "<a id=\"4.4\"></a>\n",
        "### 4.4 Exploratory Data Analysis"
      ]
    },
    {
      "cell_type": "code",
      "execution_count": null,
      "id": "3c421bfa",
      "metadata": {
        "execution": {
          "iopub.execute_input": "2023-01-03T14:12:47.76679Z",
          "iopub.status.busy": "2023-01-03T14:12:47.766288Z",
          "iopub.status.idle": "2023-01-03T14:12:47.801698Z",
          "shell.execute_reply": "2023-01-03T14:12:47.800164Z"
        },
        "papermill": {
          "duration": 0.050791,
          "end_time": "2023-01-03T14:12:47.804211",
          "exception": false,
          "start_time": "2023-01-03T14:12:47.75342",
          "status": "completed"
        },
        "tags": [],
        "id": "3c421bfa",
        "outputId": "d06044ca-45d5-462d-ac96-1f166558d4fb"
      },
      "outputs": [
        {
          "data": {
            "text/html": [
              "<div>\n",
              "<style scoped>\n",
              "    .dataframe tbody tr th:only-of-type {\n",
              "        vertical-align: middle;\n",
              "    }\n",
              "\n",
              "    .dataframe tbody tr th {\n",
              "        vertical-align: top;\n",
              "    }\n",
              "\n",
              "    .dataframe thead th {\n",
              "        text-align: right;\n",
              "    }\n",
              "</style>\n",
              "<table border=\"1\" class=\"dataframe\">\n",
              "  <thead>\n",
              "    <tr style=\"text-align: right;\">\n",
              "      <th></th>\n",
              "      <th>review</th>\n",
              "      <th>sentiment</th>\n",
              "    </tr>\n",
              "  </thead>\n",
              "  <tbody>\n",
              "    <tr>\n",
              "      <th>0</th>\n",
              "      <td>Pengaduan lebih cepat tanggap</td>\n",
              "      <td>positive</td>\n",
              "    </tr>\n",
              "    <tr>\n",
              "      <th>1</th>\n",
              "      <td>pln mobile memang mantab</td>\n",
              "      <td>positive</td>\n",
              "    </tr>\n",
              "    <tr>\n",
              "      <th>2</th>\n",
              "      <td>Alhamdulilah sangat membantu aplikasi ini🙏🙏🙏</td>\n",
              "      <td>positive</td>\n",
              "    </tr>\n",
              "    <tr>\n",
              "      <th>3</th>\n",
              "      <td>Saat pengaduan susah untuk uplode poto, eror trus</td>\n",
              "      <td>negative</td>\n",
              "    </tr>\n",
              "    <tr>\n",
              "      <th>4</th>\n",
              "      <td>Susah untuk buka aplikasi apa sih jelek banget</td>\n",
              "      <td>positive</td>\n",
              "    </tr>\n",
              "  </tbody>\n",
              "</table>\n",
              "</div>"
            ],
            "text/plain": [
              "                                              review sentiment\n",
              "0                      Pengaduan lebih cepat tanggap  positive\n",
              "1                           pln mobile memang mantab  positive\n",
              "2       Alhamdulilah sangat membantu aplikasi ini🙏🙏🙏  positive\n",
              "3  Saat pengaduan susah untuk uplode poto, eror trus  negative\n",
              "4     Susah untuk buka aplikasi apa sih jelek banget  positive"
            ]
          },
          "execution_count": 5,
          "metadata": {},
          "output_type": "execute_result"
        }
      ],
      "source": [
        "df = df.replace({'sentiment' : {1:'negative', 2:'negative', 3:'neutral', 4:'positive', 5: 'positive' }})\n",
        "df.head()"
      ]
    },
    {
      "cell_type": "markdown",
      "id": "435cab84",
      "metadata": {
        "papermill": {
          "duration": 0.010946,
          "end_time": "2023-01-03T14:12:47.826726",
          "exception": false,
          "start_time": "2023-01-03T14:12:47.81578",
          "status": "completed"
        },
        "tags": [],
        "id": "435cab84"
      },
      "source": [
        "<a id=\"4.4.1\"></a>\n",
        "### 4.4.1 Sentiment Distribution"
      ]
    },
    {
      "cell_type": "code",
      "execution_count": null,
      "id": "b7640311",
      "metadata": {
        "execution": {
          "iopub.execute_input": "2023-01-03T14:12:47.851762Z",
          "iopub.status.busy": "2023-01-03T14:12:47.851211Z",
          "iopub.status.idle": "2023-01-03T14:12:47.871268Z",
          "shell.execute_reply": "2023-01-03T14:12:47.870024Z"
        },
        "papermill": {
          "duration": 0.035524,
          "end_time": "2023-01-03T14:12:47.873704",
          "exception": false,
          "start_time": "2023-01-03T14:12:47.83818",
          "status": "completed"
        },
        "tags": [],
        "id": "b7640311",
        "outputId": "6a202028-588d-4f68-cfc9-1d5c3ecdd3aa"
      },
      "outputs": [
        {
          "data": {
            "text/plain": [
              "positive    191711\n",
              "negative     20913\n",
              "neutral       5548\n",
              "Name: sentiment, dtype: int64"
            ]
          },
          "execution_count": 6,
          "metadata": {},
          "output_type": "execute_result"
        }
      ],
      "source": [
        "x = df.sentiment.value_counts()\n",
        "x"
      ]
    },
    {
      "cell_type": "code",
      "execution_count": null,
      "id": "cd541b29",
      "metadata": {
        "execution": {
          "iopub.execute_input": "2023-01-03T14:12:47.899199Z",
          "iopub.status.busy": "2023-01-03T14:12:47.898711Z",
          "iopub.status.idle": "2023-01-03T14:12:48.16695Z",
          "shell.execute_reply": "2023-01-03T14:12:48.165764Z"
        },
        "papermill": {
          "duration": 0.284196,
          "end_time": "2023-01-03T14:12:48.169453",
          "exception": false,
          "start_time": "2023-01-03T14:12:47.885257",
          "status": "completed"
        },
        "tags": [],
        "id": "cd541b29",
        "outputId": "ad64590f-062f-4402-f28e-35e13770122a"
      },
      "outputs": [
        {
          "data": {
            "text/plain": [
              "Text(0, 0.5, 'sample')"
            ]
          },
          "execution_count": 7,
          "metadata": {},
          "output_type": "execute_result"
        },
        {
          "data": {
            "image/png": "[encoded data removed]",
            "text/plain": [
              "<Figure size 432x288 with 1 Axes>"
            ]
          },
          "metadata": {
            "needs_background": "light"
          },
          "output_type": "display_data"
        }
      ],
      "source": [
        "sns.barplot(x.index, x)\n",
        "plt.gca().set_ylabel('sample')"
      ]
    },
    {
      "cell_type": "code",
      "execution_count": null,
      "id": "28499afe",
      "metadata": {
        "execution": {
          "iopub.execute_input": "2023-01-03T14:12:48.196327Z",
          "iopub.status.busy": "2023-01-03T14:12:48.195856Z",
          "iopub.status.idle": "2023-01-03T14:12:48.251506Z",
          "shell.execute_reply": "2023-01-03T14:12:48.250014Z"
        },
        "papermill": {
          "duration": 0.07279,
          "end_time": "2023-01-03T14:12:48.254512",
          "exception": false,
          "start_time": "2023-01-03T14:12:48.181722",
          "status": "completed"
        },
        "tags": [],
        "id": "28499afe"
      },
      "outputs": [],
      "source": [
        "#removing neutral\n",
        "df = df[df.sentiment != \"neutral\"]"
      ]
    },
    {
      "cell_type": "markdown",
      "id": "1cea3002",
      "metadata": {
        "papermill": {
          "duration": 0.011634,
          "end_time": "2023-01-03T14:12:48.278142",
          "exception": false,
          "start_time": "2023-01-03T14:12:48.266508",
          "status": "completed"
        },
        "tags": [],
        "id": "1cea3002"
      },
      "source": [
        "<a id=\"4.5\"></a>\n",
        "### 4.5 Data Preparation"
      ]
    },
    {
      "cell_type": "markdown",
      "id": "7426023f",
      "metadata": {
        "papermill": {
          "duration": 0.011551,
          "end_time": "2023-01-03T14:12:48.302379",
          "exception": false,
          "start_time": "2023-01-03T14:12:48.290828",
          "status": "completed"
        },
        "tags": [],
        "id": "7426023f"
      },
      "source": [
        "<a id=\"4.5.1\"></a>\n",
        "### 4.5.1 Data Cleaning"
      ]
    },
    {
      "cell_type": "code",
      "execution_count": null,
      "id": "0731f803",
      "metadata": {
        "execution": {
          "iopub.execute_input": "2023-01-03T14:12:48.328385Z",
          "iopub.status.busy": "2023-01-03T14:12:48.327893Z",
          "iopub.status.idle": "2023-01-03T14:12:48.337057Z",
          "shell.execute_reply": "2023-01-03T14:12:48.335814Z"
        },
        "papermill": {
          "duration": 0.025214,
          "end_time": "2023-01-03T14:12:48.339466",
          "exception": false,
          "start_time": "2023-01-03T14:12:48.314252",
          "status": "completed"
        },
        "tags": [],
        "id": "0731f803"
      },
      "outputs": [],
      "source": [
        "def strip_html_tags(text):\n",
        "  soup = BeautifulSoup(text, \"html.parser\")\n",
        "  [s.extract() for s in soup(['iframe', 'script'])]\n",
        "  stripped_text = soup.get_text()\n",
        "  stripped_text = re.sub(r'[\\r|\\n|\\r\\n]+', '\\n', stripped_text)\n",
        "  return stripped_text\n",
        "\n",
        "def remove_accented_chars(text):\n",
        "  text = unicodedata.normalize('NFKD', text).encode('ascii', 'ignore').decode('utf-8', 'ignore')\n",
        "  return text\n",
        "\n",
        "def stopwords_removal(words):\n",
        "    list_stopwords = nltk.corpus.stopwords.words('indonesian')\n",
        "    #list_stopwords = stopwords.words('indonesian')\n",
        "    #list_stopwords.extend([])\n",
        "    #txt_stopword = pd.read_csv(\"#\", names= [\"stopwords\"], header = None)\n",
        "    #list_stopwords.extend(txt_stopword[\"stopwords\"][0].split(' '))\n",
        "    return [word for word in words if word not in list_stopwords]\n",
        "\n",
        "def stemmed_wrapper(term):\n",
        "    factory = StemmerFactory()\n",
        "    stemmer = factory.create_stemmer()\n",
        "    return stemmer.stem(term)"
      ]
    },
    {
      "cell_type": "code",
      "execution_count": null,
      "id": "f2554b95",
      "metadata": {
        "execution": {
          "iopub.execute_input": "2023-01-03T14:12:48.365387Z",
          "iopub.status.busy": "2023-01-03T14:12:48.364868Z",
          "iopub.status.idle": "2023-01-03T14:12:48.374032Z",
          "shell.execute_reply": "2023-01-03T14:12:48.37285Z"
        },
        "papermill": {
          "duration": 0.024992,
          "end_time": "2023-01-03T14:12:48.376356",
          "exception": false,
          "start_time": "2023-01-03T14:12:48.351364",
          "status": "completed"
        },
        "tags": [],
        "id": "f2554b95"
      },
      "outputs": [],
      "source": [
        "def pre_process_corpus(docs):\n",
        "  norm_docs = []\n",
        "  for doc in tqdm.tqdm(docs):\n",
        "    doc = strip_html_tags(doc)\n",
        "    doc = doc.translate(doc.maketrans(\"\\n\\t\\r\", \"   \"))\n",
        "    doc = doc.lower()\n",
        "    doc = remove_accented_chars(doc)\n",
        "    doc = contractions.fix(doc)\n",
        "    # lower case and remove special characters\\whitespaces\n",
        "    doc = re.sub(r'[^a-zA-Z0-9\\s]', '', doc, re.I|re.A)\n",
        "    doc = re.sub(' +', ' ', doc)\n",
        "    doc = doc.strip()\n",
        "    doc = word_tokenize(doc)\n",
        "    doc = stopwords_removal(doc)\n",
        "    #doc = stemmed_wrapper(doc)\n",
        "    norm_docs.append(doc)\n",
        "\n",
        "  norm_docs = [\" \".join(word) for word in norm_docs]\n",
        "  return norm_docs"
      ]
    },
    {
      "cell_type": "code",
      "execution_count": null,
      "id": "597c0384",
      "metadata": {
        "execution": {
          "iopub.execute_input": "2023-01-03T14:12:48.402148Z",
          "iopub.status.busy": "2023-01-03T14:12:48.401637Z",
          "iopub.status.idle": "2023-01-03T14:15:43.389898Z",
          "shell.execute_reply": "2023-01-03T14:15:43.388577Z"
        },
        "papermill": {
          "duration": 175.004513,
          "end_time": "2023-01-03T14:15:43.39275",
          "exception": false,
          "start_time": "2023-01-03T14:12:48.388237",
          "status": "completed"
        },
        "tags": [],
        "id": "597c0384",
        "outputId": "8544131b-e255-4a97-c843-ee60d19c1e8f"
      },
      "outputs": [
        {
          "name": "stderr",
          "output_type": "stream",
          "text": [
            "100%|██████████| 212624/212624 [02:54<00:00, 1216.44it/s]\n"
          ]
        },
        {
          "name": "stdout",
          "output_type": "stream",
          "text": [
            "CPU times: user 2min 46s, sys: 8.18 s, total: 2min 55s\n",
            "Wall time: 2min 54s\n"
          ]
        }
      ],
      "source": [
        "%%time\n",
        "df.review = pre_process_corpus(df.review)"
      ]
    },
    {
      "cell_type": "markdown",
      "id": "838bb5ae",
      "metadata": {
        "papermill": {
          "duration": 0.121403,
          "end_time": "2023-01-03T14:15:43.642342",
          "exception": false,
          "start_time": "2023-01-03T14:15:43.520939",
          "status": "completed"
        },
        "tags": [],
        "id": "838bb5ae"
      },
      "source": [
        "<a id=\"4.5.2\"></a>\n",
        "### 4.5.2 TF-IDF"
      ]
    },
    {
      "cell_type": "code",
      "execution_count": null,
      "id": "c3a66496",
      "metadata": {
        "execution": {
          "iopub.execute_input": "2023-01-03T14:15:43.893557Z",
          "iopub.status.busy": "2023-01-03T14:15:43.893125Z",
          "iopub.status.idle": "2023-01-03T14:15:45.629184Z",
          "shell.execute_reply": "2023-01-03T14:15:45.628021Z"
        },
        "papermill": {
          "duration": 1.862779,
          "end_time": "2023-01-03T14:15:45.632293",
          "exception": false,
          "start_time": "2023-01-03T14:15:43.769514",
          "status": "completed"
        },
        "tags": [],
        "id": "c3a66496"
      },
      "outputs": [],
      "source": [
        "from sklearn.feature_extraction.text import CountVectorizer\n",
        "from sklearn.feature_extraction.text import TfidfVectorizer\n",
        "\n",
        "tf = TfidfVectorizer()\n",
        "text_tf = tf.fit_transform(df['review'].astype('U'))"
      ]
    },
    {
      "cell_type": "markdown",
      "id": "86be27fb",
      "metadata": {
        "papermill": {
          "duration": 0.115975,
          "end_time": "2023-01-03T14:15:45.864983",
          "exception": false,
          "start_time": "2023-01-03T14:15:45.749008",
          "status": "completed"
        },
        "tags": [],
        "id": "86be27fb"
      },
      "source": [
        "<a id=\"4.5.3\"></a>\n",
        "### 4.5.3 Splitting Data"
      ]
    },
    {
      "cell_type": "code",
      "execution_count": null,
      "id": "94e680f4",
      "metadata": {
        "execution": {
          "iopub.execute_input": "2023-01-03T14:15:46.099211Z",
          "iopub.status.busy": "2023-01-03T14:15:46.098746Z",
          "iopub.status.idle": "2023-01-03T14:15:46.139784Z",
          "shell.execute_reply": "2023-01-03T14:15:46.138501Z"
        },
        "papermill": {
          "duration": 0.162347,
          "end_time": "2023-01-03T14:15:46.142742",
          "exception": false,
          "start_time": "2023-01-03T14:15:45.980395",
          "status": "completed"
        },
        "tags": [],
        "id": "94e680f4"
      },
      "outputs": [],
      "source": [
        "from sklearn.model_selection import train_test_split\n",
        "X_train, X_test, y_train, y_test = train_test_split(text_tf, df['sentiment'], test_size=0.1, random_state = 42)"
      ]
    },
    {
      "cell_type": "markdown",
      "id": "689eb27c",
      "metadata": {
        "papermill": {
          "duration": 0.118164,
          "end_time": "2023-01-03T14:15:46.377018",
          "exception": false,
          "start_time": "2023-01-03T14:15:46.258854",
          "status": "completed"
        },
        "tags": [],
        "id": "689eb27c"
      },
      "source": [
        "<a id=\"4.5.4\"></a>\n",
        "### 4.5.4 Handle Data Imbalance (Oversampling)"
      ]
    },
    {
      "cell_type": "code",
      "execution_count": null,
      "id": "079964e4",
      "metadata": {
        "execution": {
          "iopub.execute_input": "2023-01-03T14:15:46.613933Z",
          "iopub.status.busy": "2023-01-03T14:15:46.613509Z",
          "iopub.status.idle": "2023-01-03T14:16:02.140634Z",
          "shell.execute_reply": "2023-01-03T14:16:02.138941Z"
        },
        "papermill": {
          "duration": 15.649238,
          "end_time": "2023-01-03T14:16:02.143269",
          "exception": false,
          "start_time": "2023-01-03T14:15:46.494031",
          "status": "completed"
        },
        "tags": [],
        "id": "079964e4",
        "outputId": "7c43c36f-def3-4009-89ab-8ba998f5a556"
      },
      "outputs": [
        {
          "name": "stdout",
          "output_type": "stream",
          "text": [
            "Before OverSampling, counts of label 'Positive': 172506\n",
            "Before OverSampling, counts of label 'Negative': 18855\n",
            "After OverSampling, the shape of train_X: (345012, 53319)\n",
            "After OverSampling, the shape of train_y: (345012,) \n",
            "\n",
            "After OverSampling, counts of label 'positive': 172506\n",
            "After OverSampling, counts of label 'negative': 172506\n"
          ]
        }
      ],
      "source": [
        "#OVERSAMPLING\n",
        "\n",
        "print(\"Before OverSampling, counts of label 'Positive': {}\".format(sum(y_train == 'positive')))\n",
        "print(\"Before OverSampling, counts of label 'Negative': {}\".format(sum(y_train == 'negative')))\n",
        "\n",
        "# import SMOTE module from imblearn library\n",
        "# pip install imblearn (if you don't have imblearn in your system)\n",
        "from imblearn.over_sampling import SMOTE\n",
        "sm = SMOTE(random_state = 2)\n",
        "X_train_res, y_train_res = sm.fit_resample(X_train, y_train.ravel())\n",
        "\n",
        "print('After OverSampling, the shape of train_X: {}'.format(X_train_res.shape))\n",
        "print('After OverSampling, the shape of train_y: {} \\n'.format(y_train_res.shape))\n",
        "\n",
        "print(\"After OverSampling, counts of label 'positive': {}\".format(sum(y_train_res == 'positive')))\n",
        "print(\"After OverSampling, counts of label 'negative': {}\".format(sum(y_train_res == 'negative')))"
      ]
    },
    {
      "cell_type": "markdown",
      "id": "7ef910da",
      "metadata": {
        "papermill": {
          "duration": 0.112655,
          "end_time": "2023-01-03T14:16:02.453024",
          "exception": false,
          "start_time": "2023-01-03T14:16:02.340369",
          "status": "completed"
        },
        "tags": [],
        "id": "7ef910da"
      },
      "source": [
        "<a id=\"4.6\"></a>\n",
        "### 4.6 Modelling"
      ]
    },
    {
      "cell_type": "markdown",
      "id": "775f3a86",
      "metadata": {
        "papermill": {
          "duration": 0.116885,
          "end_time": "2023-01-03T14:16:02.682526",
          "exception": false,
          "start_time": "2023-01-03T14:16:02.565641",
          "status": "completed"
        },
        "tags": [],
        "id": "775f3a86"
      },
      "source": [
        "<a id=\"4.6.1\"></a>\n",
        "### 4.6.1 Naive Bayes"
      ]
    },
    {
      "cell_type": "code",
      "execution_count": null,
      "id": "3095f0ed",
      "metadata": {
        "execution": {
          "iopub.execute_input": "2023-01-03T14:16:02.920667Z",
          "iopub.status.busy": "2023-01-03T14:16:02.919691Z",
          "iopub.status.idle": "2023-01-03T14:16:05.677141Z",
          "shell.execute_reply": "2023-01-03T14:16:05.675684Z"
        },
        "papermill": {
          "duration": 2.879347,
          "end_time": "2023-01-03T14:16:05.680116",
          "exception": false,
          "start_time": "2023-01-03T14:16:02.800769",
          "status": "completed"
        },
        "tags": [],
        "id": "3095f0ed",
        "outputId": "b0dc23c2-1fa8-49cb-e99a-915622cdd9a4"
      },
      "outputs": [
        {
          "name": "stdout",
          "output_type": "stream",
          "text": [
            "MultinomialNB Accuracy: 0.8858580633024503\n",
            "MultinomialNB Precision: 0.723526075209068\n",
            "MultinomialNB Recall: 0.9040584947483661\n",
            "MultinomialNB f1_score: 0.7721164346853765\n",
            "confusion matrix:\n",
            " [[ 1907   151]\n",
            " [ 2276 16929]]\n",
            "================================================\n",
            "\n",
            "              precision    recall  f1-score   support\n",
            "\n",
            "    negative       0.46      0.93      0.61      2058\n",
            "    positive       0.99      0.88      0.93     19205\n",
            "\n",
            "    accuracy                           0.89     21263\n",
            "   macro avg       0.72      0.90      0.77     21263\n",
            "weighted avg       0.94      0.89      0.90     21263\n",
            "\n"
          ]
        }
      ],
      "source": [
        "from sklearn.naive_bayes import MultinomialNB  \n",
        "from sklearn.metrics import accuracy_score, precision_score, recall_score, f1_score\n",
        "from sklearn.metrics import classification_report, roc_auc_score\n",
        "from sklearn.metrics import confusion_matrix\n",
        "\n",
        "clf_nb = MultinomialNB().fit(X_train_res, y_train_res)\n",
        "y_pred_nb = clf_nb.predict(X_test)\n",
        "print(\"MultinomialNB Accuracy:\" , accuracy_score(y_test,y_pred_nb))\n",
        "print(\"MultinomialNB Precision:\" , precision_score(y_test,y_pred_nb, average=\"macro\", pos_label=\"negative\" ))\n",
        "print(\"MultinomialNB Recall:\" , recall_score(y_test,y_pred_nb, average=\"macro\", pos_label=\"negative\"))\n",
        "print(\"MultinomialNB f1_score:\" , f1_score(y_test,y_pred_nb, average=\"macro\", pos_label=\"negative\"))\n",
        "\n",
        "print(f'confusion matrix:\\n {confusion_matrix(y_test, y_pred_nb)}')\n",
        "print('================================================\\n') \n",
        "print(classification_report(y_test, y_pred_nb, zero_division=0))       "
      ]
    },
    {
      "cell_type": "markdown",
      "id": "4456ff91",
      "metadata": {
        "papermill": {
          "duration": 0.113038,
          "end_time": "2023-01-03T14:16:05.912028",
          "exception": false,
          "start_time": "2023-01-03T14:16:05.79899",
          "status": "completed"
        },
        "tags": [],
        "id": "4456ff91"
      },
      "source": [
        "<a id=\"4.6.2\"></a>\n",
        "### 4.6.2 SVM"
      ]
    },
    {
      "cell_type": "code",
      "execution_count": null,
      "id": "986ec3cf",
      "metadata": {
        "execution": {
          "iopub.execute_input": "2023-01-03T14:16:06.143244Z",
          "iopub.status.busy": "2023-01-03T14:16:06.142803Z",
          "iopub.status.idle": "2023-01-03T17:47:46.501321Z",
          "shell.execute_reply": "2023-01-03T17:47:46.499026Z"
        },
        "papermill": {
          "duration": 12700.476258,
          "end_time": "2023-01-03T17:47:46.504045",
          "exception": false,
          "start_time": "2023-01-03T14:16:06.027787",
          "status": "completed"
        },
        "tags": [],
        "id": "986ec3cf",
        "outputId": "1708178f-4498-43e4-d27b-b550aa1d5244"
      },
      "outputs": [
        {
          "name": "stdout",
          "output_type": "stream",
          "text": [
            "Support Vector Machine Accuracy: 0.8852937026760099\n",
            "Support Vector Machine Precision: 0.7212440537327779\n",
            "Support Vector Machine Recall: 0.894852379155999\n",
            "Support Vector Machine f1_score: 0.7688378931172624\n",
            "confusion matrix:\n",
            " [[ 1866   192]\n",
            " [ 2247 16958]]\n",
            "================================================\n",
            "\n",
            "              precision    recall  f1-score   support\n",
            "\n",
            "    negative       0.45      0.91      0.60      2058\n",
            "    positive       0.99      0.88      0.93     19205\n",
            "\n",
            "    accuracy                           0.89     21263\n",
            "   macro avg       0.72      0.89      0.77     21263\n",
            "weighted avg       0.94      0.89      0.90     21263\n",
            "\n"
          ]
        }
      ],
      "source": [
        "from sklearn import svm\n",
        "\n",
        "clf_svm = svm.SVC(kernel='linear').fit(X_train_res, y_train_res)\n",
        "y_pred_svm = clf_svm.predict(X_test)\n",
        "print(\"Support Vector Machine Accuracy:\" , accuracy_score(y_test,y_pred_svm))\n",
        "print(\"Support Vector Machine Precision:\" , precision_score(y_test,y_pred_svm, average=\"macro\", pos_label=\"negative\" ))\n",
        "print(\"Support Vector Machine Recall:\" , recall_score(y_test,y_pred_svm, average=\"macro\", pos_label=\"negative\"))\n",
        "print(\"Support Vector Machine f1_score:\" , f1_score(y_test,y_pred_svm, average=\"macro\", pos_label=\"negative\"))\n",
        "\n",
        "print(f'confusion matrix:\\n {confusion_matrix(y_test, y_pred_svm)}')\n",
        "print('================================================\\n') \n",
        "print(classification_report(y_test, y_pred_svm, zero_division=0))  "
      ]
    },
    {
      "cell_type": "markdown",
      "id": "dcc63033",
      "metadata": {
        "papermill": {
          "duration": 0.117263,
          "end_time": "2023-01-03T17:47:46.738647",
          "exception": false,
          "start_time": "2023-01-03T17:47:46.621384",
          "status": "completed"
        },
        "tags": [],
        "id": "dcc63033"
      },
      "source": [
        "<a id=\"4.6.3\"></a>\n",
        "### 4.6.3 Random Forest"
      ]
    },
    {
      "cell_type": "code",
      "execution_count": null,
      "id": "572d6f98",
      "metadata": {
        "execution": {
          "iopub.execute_input": "2023-01-03T17:47:47.08369Z",
          "iopub.status.busy": "2023-01-03T17:47:47.08319Z",
          "iopub.status.idle": "2023-01-03T18:26:41.045229Z",
          "shell.execute_reply": "2023-01-03T18:26:41.04369Z"
        },
        "papermill": {
          "duration": 2334.189225,
          "end_time": "2023-01-03T18:26:41.04768",
          "exception": false,
          "start_time": "2023-01-03T17:47:46.858455",
          "status": "completed"
        },
        "tags": [],
        "id": "572d6f98",
        "outputId": "0fc37e9d-ee6c-4ca3-df9a-91cf9dccaf33"
      },
      "outputs": [
        {
          "name": "stdout",
          "output_type": "stream",
          "text": [
            "Random Forest Accuracy: 0.939566382918685\n",
            "Random Forest Precision: 0.8128203344653546\n",
            "Random Forest Recall: 0.8975647892957905\n",
            "Random Forest f1_score: 0.8481477347184408\n",
            "confusion matrix:\n",
            " [[ 1740   318]\n",
            " [  967 18238]]\n",
            "================================================\n",
            "\n",
            "              precision    recall  f1-score   support\n",
            "\n",
            "    negative       0.64      0.85      0.73      2058\n",
            "    positive       0.98      0.95      0.97     19205\n",
            "\n",
            "    accuracy                           0.94     21263\n",
            "   macro avg       0.81      0.90      0.85     21263\n",
            "weighted avg       0.95      0.94      0.94     21263\n",
            "\n"
          ]
        }
      ],
      "source": [
        "from sklearn.ensemble import RandomForestClassifier\n",
        "\n",
        "clf_rf = RandomForestClassifier().fit(X_train_res, y_train_res)\n",
        "y_pred_rf = clf_rf.predict(X_test)\n",
        "print(\"Random Forest Accuracy:\" , accuracy_score(y_test,y_pred_rf))\n",
        "print(\"Random Forest Precision:\" , precision_score(y_test,y_pred_rf, average=\"macro\", pos_label=\"negative\" ))\n",
        "print(\"Random Forest Recall:\" , recall_score(y_test,y_pred_rf, average=\"macro\", pos_label=\"negative\"))\n",
        "print(\"Random Forest f1_score:\" , f1_score(y_test,y_pred_rf, average=\"macro\", pos_label=\"negative\"))\n",
        "\n",
        "print(f'confusion matrix:\\n {confusion_matrix(y_test, y_pred_rf)}')\n",
        "print('================================================\\n') \n",
        "print(classification_report(y_test, y_pred_rf, zero_division=0))"
      ]
    },
    {
      "cell_type": "markdown",
      "id": "18aa3e45",
      "metadata": {
        "papermill": {
          "duration": 0.115441,
          "end_time": "2023-01-03T18:26:41.278518",
          "exception": false,
          "start_time": "2023-01-03T18:26:41.163077",
          "status": "completed"
        },
        "tags": [],
        "id": "18aa3e45"
      },
      "source": [
        "<a id=\"5\"></a>\n",
        "### 5. Result"
      ]
    },
    {
      "cell_type": "markdown",
      "id": "f632d5be",
      "metadata": {
        "papermill": {
          "duration": 0.118497,
          "end_time": "2023-01-03T18:26:41.514944",
          "exception": false,
          "start_time": "2023-01-03T18:26:41.396447",
          "status": "completed"
        },
        "tags": [],
        "id": "f632d5be"
      },
      "source": [
        "In the experiment using more than 200,000 PLN Mobile reviews. The data is divided into two: 90% of the training data and 10% of the testing data. Experiments show the results of accuracy, precision, recall, and f1-score as follows:\n",
        "\n",
        "| Algorithms | Accuracy | Precision | Recall | F1-Score |\n",
        "| --- | --- | --- | --- | --- |\n",
        "| Naive Bayes | 88% | 72% | 90% | 77% |\n",
        "| SVM | 88% | 72% | 89% | 76% |\n",
        "| Random Forest | 93% | 81% | 89% | 84% |"
      ]
    },
    {
      "cell_type": "markdown",
      "id": "f9fa3004",
      "metadata": {
        "papermill": {
          "duration": 0.120121,
          "end_time": "2023-01-03T18:26:41.755118",
          "exception": false,
          "start_time": "2023-01-03T18:26:41.634997",
          "status": "completed"
        },
        "tags": [],
        "id": "f9fa3004"
      },
      "source": [
        "<a id=\"6\"></a>\n",
        "### 6. Conclusion"
      ]
    },
    {
      "cell_type": "markdown",
      "id": "3cc23b91",
      "metadata": {
        "papermill": {
          "duration": 0.118468,
          "end_time": "2023-01-03T18:26:41.991903",
          "exception": false,
          "start_time": "2023-01-03T18:26:41.873435",
          "status": "completed"
        },
        "tags": [],
        "id": "3cc23b91"
      },
      "source": [
        "In this experiment, based on the results of the comparison of the three algorithms, it shows that the best results for accuracy, precision, and f1-score are obtained from the Random Forest algorithm, while the best recall is obtained from the Naive Bayes algorithm. For further experiments, it is better to use other machine learning algorithms as a comparison."
      ]
    }
  ],
  "metadata": {
    "kernelspec": {
      "display_name": "Python 3",
      "language": "python",
      "name": "python3"
    },
    "language_info": {
      "codemirror_mode": {
        "name": "ipython",
        "version": 3
      },
      "file_extension": ".py",
      "mimetype": "text/x-python",
      "name": "python",
      "nbconvert_exporter": "python",
      "pygments_lexer": "ipython3",
      "version": "3.7.12"
    },
    "papermill": {
      "default_parameters": {},
      "duration": 15275.319087,
      "end_time": "2023-01-03T18:26:43.669684",
      "environment_variables": {},
      "exception": null,
      "input_path": "__notebook__.ipynb",
      "output_path": "__notebook__.ipynb",
      "parameters": {},
      "start_time": "2023-01-03T14:12:08.350597",
      "version": "2.3.4"
    },
    "colab": {
      "provenance": [],
      "include_colab_link": true
    }
  },
  "nbformat": 4,
  "nbformat_minor": 5
}