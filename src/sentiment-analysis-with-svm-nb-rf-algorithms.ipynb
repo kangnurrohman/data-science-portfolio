{
  "cells": [
    {
      "cell_type": "markdown",
      "metadata": {
        "id": "view-in-github",
        "colab_type": "text"
      },
      "source": [
        "<a href=\"https://colab.research.google.com/github/kangnurrohman/sentiment-analysis-projects/blob/main/src/sentiment-analysis-with-svm-nb-rf-algorithms.ipynb\" target=\"_parent\"><img src=\"https://colab.research.google.com/assets/colab-badge.svg\" alt=\"Open In Colab\"/></a>"
      ]
    },
    {
      "source": [
        "<a href=\"https://www.kaggle.com/code/mohainurrohman/sentiment-analysis-with-svm-nb-rf-algorithms?scriptVersionId=115386413\" target=\"_blank\"><img align=\"left\" alt=\"Kaggle\" title=\"Open in Kaggle\" src=\"https://kaggle.com/static/images/open-in-kaggle.svg\"></a>"
      ],
      "metadata": {
        "id": "BqQG4xxXR8A6"
      },
      "cell_type": "markdown",
      "id": "BqQG4xxXR8A6"
    },
    {
      "cell_type": "markdown",
      "id": "7cce230c",
      "metadata": {
        "papermill": {
          "duration": 0.01253,
          "end_time": "2023-01-03T14:12:17.389636",
          "exception": false,
          "start_time": "2023-01-03T14:12:17.377106",
          "status": "completed"
        },
        "tags": [],
        "id": "7cce230c"
      },
      "source": [
        "# Table of Contents\n",
        "\n",
        "* [Abstract](#abstract)\n",
        "* [1. Introduction](#1)\n",
        "* [2. Literature Review](#2)\n",
        "* [3. Design System](#3)\n",
        "* [4. Experiment](#4)\n",
        "    - [4.1 Install Library](#4.1)\n",
        "    - [4.2 Load Library](#4.2)\n",
        "    - [4.3 Load Data](#4.3)\n",
        "    - [4.4 Exploratory Data Analysis](#4.4)\n",
        "        - [4.4.1 Sentiment Distribution](#4.4.1)\n",
        "    - [4.5 Data Preparation](#4.5)\n",
        "        - [4.5.1 Data Cleaning](#4.5.1)\n",
        "        - [4.5.2 TF-IDF](#4.5.2)\n",
        "        - [4.5.3 Splitting Data](#4.5.3)\n",
        "        - [4.5.4 Handling Data Imbalance (Over Sampling)](#4.5.4)\n",
        "    - [4.6 Modelling](#4.6)\n",
        "        - [4.6.1 Naive Bayes](#4.6.1)\n",
        "        - [4.6.2 SVM](#4.6.2)\n",
        "        - [4.6.3 Random Forest](#4.6.3)\n",
        "* [5. Result](#5)\n",
        "* [6. Conclusion](#6)"
      ]
    },
    {
      "cell_type": "markdown",
      "id": "ee08367e",
      "metadata": {
        "papermill": {
          "duration": 0.01222,
          "end_time": "2023-01-03T14:12:17.417317",
          "exception": false,
          "start_time": "2023-01-03T14:12:17.405097",
          "status": "completed"
        },
        "tags": [],
        "id": "ee08367e"
      },
      "source": [
        "<a id=\"abstract\"></a>\n",
        "## Abstrak"
      ]
    },
    {
      "cell_type": "markdown",
      "id": "7bf4452b",
      "metadata": {
        "papermill": {
          "duration": 0.01101,
          "end_time": "2023-01-03T14:12:17.439733",
          "exception": false,
          "start_time": "2023-01-03T14:12:17.428723",
          "status": "completed"
        },
        "tags": [],
        "id": "7bf4452b"
      },
      "source": [
        "The PLN Mobile application is part of the transformation that PLN is carrying out to improve service to customers. Since it was launched with a new appearance and various features at the end of 2020, PLN has continuously updated features and various services to customers. To find out how good the PLN Mobile application is, a special technique is needed, namely Sentiment Analysis. This experiment performs sentiment analysis on the PLN Mobile application using the Naive Bayes, SVM, and Random Forest algorithms. With 90% of training data and 10% of test data. The results show that Random Forest produces the best accuracy, precision and f1-score with values of 93%, 81% and 84%. Meanwhile, Naive Bayes showed the best recall of 90%."
      ]
    },
    {
      "cell_type": "markdown",
      "id": "565dac30",
      "metadata": {
        "papermill": {
          "duration": 0.012889,
          "end_time": "2023-01-03T14:12:17.465833",
          "exception": false,
          "start_time": "2023-01-03T14:12:17.452944",
          "status": "completed"
        },
        "tags": [],
        "id": "565dac30"
      },
      "source": [
        "<a id=\"1\"></a>\n",
        "### 1. Introduction\n",
        "The PLN Mobile application is part of the transformation that PLN is carrying out to improve service to customers. Since it was launched with a new appearance and various features at the end of 2020, PLN has continuously updated features and various services to customers.\n",
        "\n",
        "To find out how good the PLN Mobile application is, a special technique is needed, namely Sentiment Analysis. In this experiment, sentiment analysis was carried out using three algorithms, namely Naive Bayes, Support Vector Machine (SVM) and Decision tree. Naive Bayes algorithm was chosen because it works very fast and simple, SVM was chosen because it is effective in high-dimensional space, Random Forest was chosen because it balances the bias-variance trade-off well. For testing using the confusion matrix. after that compare the three algorithms to find the best results.\n",
        "\n",
        "### Research Problem\n",
        "How to do sentiment analysis using Naive Bayes, SVM, and Random Forest algorithms?\n",
        "\n",
        "### Research Question\n",
        "How accurate are Naive Bayes, SVM, and Random Forest in sentiment analysis?\n",
        "\n",
        "### Research Objective\n",
        "The purpose of this experiment is to compare the accuracy of the Naive Bayes, SVM, and Random Forest algorithms."
      ]
    },
    {
      "cell_type": "markdown",
      "id": "9b9c7db8",
      "metadata": {
        "papermill": {
          "duration": 0.012667,
          "end_time": "2023-01-03T14:12:17.491542",
          "exception": false,
          "start_time": "2023-01-03T14:12:17.478875",
          "status": "completed"
        },
        "tags": [],
        "id": "9b9c7db8"
      },
      "source": [
        "<a id=\"2\"></a>\n",
        "### 2. Literature Review\n",
        "\n",
        "**Naive Bayes**\n",
        "\n",
        "The Naive Bayes classifier separates data into different classes according to the Bayes’ Theorem, along with the assumption that all the predictors are independent of one another. It assumes that a particular feature in a class is not related to the presence of other features. \n",
        "\n",
        "**Pros**\n",
        "\n",
        "* This algorithm works very fast and can easily predict the class of a test dataset. \n",
        "* You can use it to solve multi-class prediction problems as it’s quite useful with them. \n",
        "* Naive Bayes classifier performs better than other models with less training data if the assumption of independence of features holds. \n",
        "* If you have categorical input variables, the Naive Bayes algorithm performs exceptionally well in comparison to numerical variables. \n",
        "* It can be used for Binary and Multi-class Classifications.\n",
        "* It effectively works in Multi-class predictions.\n",
        "\n",
        "**Cons**\n",
        "\n",
        "* If your test data set has a categorical variable of a category that wasn’t present in the training data set, the Naive Bayes model will assign it zero probability and won’t be able to make any predictions in this regard. This phenomenon is called ‘Zero Frequency,’ and you’ll have to use a smoothing technique to solve this problem.\n",
        "* This algorithm is also notorious as a lousy estimator. So, you shouldn’t take the probability outputs of ‘predict_proba’ too seriously. \n",
        "* It assumes that all the features are independent. While it might sound great in theory, in real life, you’ll hardly find a set of independent features. \n",
        "\n",
        "([source:upgrade.com](https://www.upgrad.com/blog/naive-bayes-classifier/))\n",
        "\n",
        "**SVM**\n",
        "\n",
        "“Support Vector Machine” (SVM) is a supervised machine learning algorithm that can be used for both classification or regression challenges. However,  it is mostly used in classification problems. In the SVM algorithm, we plot each data item as a point in n-dimensional space (where n is a number of features you have) with the value of each feature being the value of a particular coordinate. Then, we perform classification by finding the hyper-plane that differentiates the two classes very well (look at the below snapshot). \n",
        "\n",
        "**Pros**\n",
        "\n",
        "* It works really well with a clear margin of separation\n",
        "* It is effective in high dimensional spaces.\n",
        "* It is effective in cases where the number of dimensions is greater than the number of samples.\n",
        "* It uses a subset of training points in the decision function (called support vectors), so it is also memory efficient.\n",
        "\n",
        "**Cons**\n",
        "\n",
        "* It doesn’t perform well when we have large data set because the required training time is higher\n",
        "* It also doesn’t perform very well, when the data set has more noise i.e. target classes are overlapping\n",
        "* SVM doesn’t directly provide probability estimates, these are calculated using an expensive five-fold cross-validation. It is included in the related SVC method of Python scikit-learn library.\n",
        "\n",
        "([source:analyticsvidhya.com](https://www.analyticsvidhya.com/blog/2017/09/understaing-support-vector-machine-example-code/))\n",
        "\n",
        "**Random Forest**\n",
        "\n",
        "Random forest is a supervised learning algorithm. It builds a forest with an ensemble of decision trees. It is an easy to use machine learning algorithm that produces a great result most of the time even without hyperparameter tuning.\n",
        "\n",
        "**Pros**\n",
        "\n",
        "* Random Forests can be used for both classification and regression tasks.\n",
        "* Random Forests work well with both categorical and numerical data. No scaling or transformation of variables is usually necessary.\n",
        "* Random Forests implicitly perform feature selection and generate uncorrelated decision trees. It does this by choosing a random set of features to build each decision tree. This also makes it a great model when you have to work with a high number of features in the data.\n",
        "* Random Forests are not influenced by outliers to a fair degree. It does this by binning the variables.\n",
        "* Random Forests can handle linear and non-linear relationships well.\n",
        "* Random Forests generally provide high accuracy and balance the bias-variance trade-off well. Since the model’s principle is to average the results across the multiple decision trees it builds, it averages the variance as well.\n",
        "\n",
        "**Cons**\n",
        "\n",
        "* Random Forests are not easily interpretable. They provide feature importance but it does not provide complete visibility into the coefficients as linear regression.\n",
        "* Random Forests can be computationally intensive for large datasets.\n",
        "* Random forest is like a black box algorithm, you have very little control over what the model does.\n",
        "\n",
        "([source:medium.datadriveninvestor.com](https://medium.datadriveninvestor.com/random-forest-pros-and-cons-c1c42fb64f04))"
      ]
    },
    {
      "cell_type": "markdown",
      "id": "bd1f62db",
      "metadata": {
        "papermill": {
          "duration": 0.012609,
          "end_time": "2023-01-03T14:12:17.519854",
          "exception": false,
          "start_time": "2023-01-03T14:12:17.507245",
          "status": "completed"
        },
        "tags": [],
        "id": "bd1f62db"
      },
      "source": [
        "<a id=\"3\"></a>\n",
        "### 3. Design System\n",
        "\n",
        "![Kaggle.drawio.png](attachment:3e14a37e-68b1-49a1-9868-cdc404f0ed01.png)"
      ]
    },
    {
      "cell_type": "markdown",
      "id": "2d7616a9",
      "metadata": {
        "papermill": {
          "duration": 0.009968,
          "end_time": "2023-01-03T14:12:17.540133",
          "exception": false,
          "start_time": "2023-01-03T14:12:17.530165",
          "status": "completed"
        },
        "tags": [],
        "id": "2d7616a9"
      },
      "source": [
        "<a id=\"4\"></a>\n",
        "### 4. Experiment"
      ]
    },
    {
      "cell_type": "markdown",
      "id": "da21ea2c",
      "metadata": {
        "papermill": {
          "duration": 0.009056,
          "end_time": "2023-01-03T14:12:17.559295",
          "exception": false,
          "start_time": "2023-01-03T14:12:17.550239",
          "status": "completed"
        },
        "tags": [],
        "id": "da21ea2c"
      },
      "source": [
        "<a id=\"4.1\"></a>\n",
        "### 4.1 Install Library"
      ]
    },
    {
      "cell_type": "code",
      "execution_count": null,
      "id": "e189ee3e",
      "metadata": {
        "execution": {
          "iopub.execute_input": "2023-01-03T14:12:17.582036Z",
          "iopub.status.busy": "2023-01-03T14:12:17.581027Z",
          "iopub.status.idle": "2023-01-03T14:12:44.174883Z",
          "shell.execute_reply": "2023-01-03T14:12:44.173096Z"
        },
        "papermill": {
          "duration": 26.609176,
          "end_time": "2023-01-03T14:12:44.178409",
          "exception": false,
          "start_time": "2023-01-03T14:12:17.569233",
          "status": "completed"
        },
        "tags": [],
        "id": "e189ee3e",
        "outputId": "e2f79d34-3fb5-46ab-d144-4155f1fc3771"
      },
      "outputs": [
        {
          "name": "stdout",
          "output_type": "stream",
          "text": [
            "Collecting sastrawi\r\n",
            "  Downloading Sastrawi-1.0.1-py2.py3-none-any.whl (209 kB)\r\n",
            "\u001b[2K     \u001b[90m━━━━━━━━━━━━━━━━━━━━━━━━━━━━━━━━━━━━━━━\u001b[0m \u001b[32m209.7/209.7 kB\u001b[0m \u001b[31m1.3 MB/s\u001b[0m eta \u001b[36m0:00:00\u001b[0m\r\n",
            "\u001b[?25hInstalling collected packages: sastrawi\r\n",
            "Successfully installed sastrawi-1.0.1\r\n",
            "\u001b[33mWARNING: Running pip as the 'root' user can result in broken permissions and conflicting behaviour with the system package manager. It is recommended to use a virtual environment instead: https://pip.pypa.io/warnings/venv\u001b[0m\u001b[33m\r\n",
            "\u001b[0mCollecting contractions\r\n",
            "  Downloading contractions-0.1.73-py2.py3-none-any.whl (8.7 kB)\r\n",
            "Collecting textsearch>=0.0.21\r\n",
            "  Downloading textsearch-0.0.24-py2.py3-none-any.whl (7.6 kB)\r\n",
            "Collecting pyahocorasick\r\n",
            "  Downloading pyahocorasick-1.4.4-cp37-cp37m-manylinux_2_17_x86_64.manylinux2014_x86_64.whl (106 kB)\r\n",
            "\u001b[2K     \u001b[90m━━━━━━━━━━━━━━━━━━━━━━━━━━━━━━━━━━━━━\u001b[0m \u001b[32m106.5/106.5 kB\u001b[0m \u001b[31m830.8 kB/s\u001b[0m eta \u001b[36m0:00:00\u001b[0m\r\n",
            "\u001b[?25hCollecting anyascii\r\n",
            "  Downloading anyascii-0.3.1-py3-none-any.whl (287 kB)\r\n",
            "\u001b[2K     \u001b[90m━━━━━━━━━━━━━━━━━━━━━━━━━━━━━━━━━━━━━━━\u001b[0m \u001b[32m287.5/287.5 kB\u001b[0m \u001b[31m3.2 MB/s\u001b[0m eta \u001b[36m0:00:00\u001b[0m\r\n",
            "\u001b[?25hInstalling collected packages: pyahocorasick, anyascii, textsearch, contractions\r\n",
            "Successfully installed anyascii-0.3.1 contractions-0.1.73 pyahocorasick-1.4.4 textsearch-0.0.24\r\n",
            "\u001b[33mWARNING: Running pip as the 'root' user can result in broken permissions and conflicting behaviour with the system package manager. It is recommended to use a virtual environment instead: https://pip.pypa.io/warnings/venv\u001b[0m\u001b[33m\r\n",
            "\u001b[0m"
          ]
        }
      ],
      "source": [
        "!pip install sastrawi\n",
        "!pip install contractions\n",
        "\n",
        "import warnings\n",
        "warnings.filterwarnings('ignore')"
      ]
    },
    {
      "cell_type": "markdown",
      "id": "2d2b1d7b",
      "metadata": {
        "papermill": {
          "duration": 0.010403,
          "end_time": "2023-01-03T14:12:44.199911",
          "exception": false,
          "start_time": "2023-01-03T14:12:44.189508",
          "status": "completed"
        },
        "tags": [],
        "id": "2d2b1d7b"
      },
      "source": [
        "<a id=\"4.2\"></a>\n",
        "### 4.2 Load Library"
      ]
    },
    {
      "cell_type": "code",
      "execution_count": null,
      "id": "58dd20fc",
      "metadata": {
        "execution": {
          "iopub.execute_input": "2023-01-03T14:12:44.224821Z",
          "iopub.status.busy": "2023-01-03T14:12:44.223462Z",
          "iopub.status.idle": "2023-01-03T14:12:46.466066Z",
          "shell.execute_reply": "2023-01-03T14:12:46.464836Z"
        },
        "papermill": {
          "duration": 2.258387,
          "end_time": "2023-01-03T14:12:46.469105",
          "exception": false,
          "start_time": "2023-01-03T14:12:44.210718",
          "status": "completed"
        },
        "tags": [],
        "id": "58dd20fc"
      },
      "outputs": [],
      "source": [
        "import re\n",
        "import tqdm\n",
        "import nltk\n",
        "import string\n",
        "import numpy as np\n",
        "import unicodedata\n",
        "import pandas as pd\n",
        "import contractions\n",
        "import seaborn as sns\n",
        "import matplotlib.pyplot as plt\n",
        "\n",
        "from bs4 import BeautifulSoup\n",
        "from sklearn.pipeline import Pipeline\n",
        "from nltk.tokenize import word_tokenize\n",
        "from Sastrawi.Stemmer.StemmerFactory import StemmerFactory"
      ]
    },
    {
      "cell_type": "markdown",
      "id": "0088dc27",
      "metadata": {
        "papermill": {
          "duration": 0.010618,
          "end_time": "2023-01-03T14:12:46.490949",
          "exception": false,
          "start_time": "2023-01-03T14:12:46.480331",
          "status": "completed"
        },
        "tags": [],
        "id": "0088dc27"
      },
      "source": [
        "<a id=\"4.3\"></a>\n",
        "### 4.3 Load Data"
      ]
    },
    {
      "cell_type": "code",
      "execution_count": null,
      "id": "e6ffd3a0",
      "metadata": {
        "execution": {
          "iopub.execute_input": "2023-01-03T14:12:46.51555Z",
          "iopub.status.busy": "2023-01-03T14:12:46.515078Z",
          "iopub.status.idle": "2023-01-03T14:12:47.498366Z",
          "shell.execute_reply": "2023-01-03T14:12:47.49682Z"
        },
        "papermill": {
          "duration": 0.999082,
          "end_time": "2023-01-03T14:12:47.501405",
          "exception": false,
          "start_time": "2023-01-03T14:12:46.502323",
          "status": "completed"
        },
        "tags": [],
        "id": "e6ffd3a0",
        "outputId": "1eacf2fa-5332-4f9d-d811-2a0c1c672797"
      },
      "outputs": [
        {
          "name": "stdout",
          "output_type": "stream",
          "text": [
            "<class 'pandas.core.frame.DataFrame'>\n",
            "RangeIndex: 218172 entries, 0 to 218171\n",
            "Data columns (total 4 columns):\n",
            " #   Column     Non-Null Count   Dtype \n",
            "---  ------     --------------   ----- \n",
            " 0   user       218172 non-null  object\n",
            " 1   review     218172 non-null  object\n",
            " 2   sentiment  218172 non-null  int64 \n",
            " 3   date       218172 non-null  object\n",
            "dtypes: int64(1), object(3)\n",
            "memory usage: 6.7+ MB\n"
          ]
        }
      ],
      "source": [
        "df = pd.read_csv('/kaggle/input/pln-mobile-reviews/PLN Mobile Reviews.csv')\n",
        "df.rename(columns = {'rating':'sentiment'}, inplace = True)\n",
        "df.info()"
      ]
    },
    {
      "cell_type": "code",
      "execution_count": null,
      "id": "54a852f9",
      "metadata": {
        "execution": {
          "iopub.execute_input": "2023-01-03T14:12:47.527415Z",
          "iopub.status.busy": "2023-01-03T14:12:47.52612Z",
          "iopub.status.idle": "2023-01-03T14:12:47.715833Z",
          "shell.execute_reply": "2023-01-03T14:12:47.714316Z"
        },
        "papermill": {
          "duration": 0.20536,
          "end_time": "2023-01-03T14:12:47.718479",
          "exception": false,
          "start_time": "2023-01-03T14:12:47.513119",
          "status": "completed"
        },
        "tags": [],
        "id": "54a852f9",
        "outputId": "e2e33149-ac4b-4f1c-d0d7-0e28f54af395"
      },
      "outputs": [
        {
          "data": {
            "text/html": [
              "<div>\n",
              "<style scoped>\n",
              "    .dataframe tbody tr th:only-of-type {\n",
              "        vertical-align: middle;\n",
              "    }\n",
              "\n",
              "    .dataframe tbody tr th {\n",
              "        vertical-align: top;\n",
              "    }\n",
              "\n",
              "    .dataframe thead th {\n",
              "        text-align: right;\n",
              "    }\n",
              "</style>\n",
              "<table border=\"1\" class=\"dataframe\">\n",
              "  <thead>\n",
              "    <tr style=\"text-align: right;\">\n",
              "      <th></th>\n",
              "      <th>review</th>\n",
              "      <th>sentiment</th>\n",
              "    </tr>\n",
              "  </thead>\n",
              "  <tbody>\n",
              "    <tr>\n",
              "      <th>0</th>\n",
              "      <td>Pengaduan lebih cepat tanggap</td>\n",
              "      <td>5</td>\n",
              "    </tr>\n",
              "    <tr>\n",
              "      <th>1</th>\n",
              "      <td>pln mobile memang mantab</td>\n",
              "      <td>5</td>\n",
              "    </tr>\n",
              "    <tr>\n",
              "      <th>2</th>\n",
              "      <td>Alhamdulilah sangat membantu aplikasi ini🙏🙏🙏</td>\n",
              "      <td>5</td>\n",
              "    </tr>\n",
              "    <tr>\n",
              "      <th>3</th>\n",
              "      <td>Saat pengaduan susah untuk uplode poto, eror trus</td>\n",
              "      <td>1</td>\n",
              "    </tr>\n",
              "    <tr>\n",
              "      <th>4</th>\n",
              "      <td>Susah untuk buka aplikasi apa sih jelek banget</td>\n",
              "      <td>5</td>\n",
              "    </tr>\n",
              "  </tbody>\n",
              "</table>\n",
              "</div>"
            ],
            "text/plain": [
              "                                              review  sentiment\n",
              "0                      Pengaduan lebih cepat tanggap          5\n",
              "1                           pln mobile memang mantab          5\n",
              "2       Alhamdulilah sangat membantu aplikasi ini🙏🙏🙏          5\n",
              "3  Saat pengaduan susah untuk uplode poto, eror trus          1\n",
              "4     Susah untuk buka aplikasi apa sih jelek banget          5"
            ]
          },
          "execution_count": 4,
          "metadata": {},
          "output_type": "execute_result"
        }
      ],
      "source": [
        "df = df.sort_values(by='date', ascending=False)\n",
        "df = df[['review', 'sentiment']]\n",
        "df.head()"
      ]
    },
    {
      "cell_type": "markdown",
      "id": "fffc176a",
      "metadata": {
        "papermill": {
          "duration": 0.01143,
          "end_time": "2023-01-03T14:12:47.742145",
          "exception": false,
          "start_time": "2023-01-03T14:12:47.730715",
          "status": "completed"
        },
        "tags": [],
        "id": "fffc176a"
      },
      "source": [
        "<a id=\"4.4\"></a>\n",
        "### 4.4 Exploratory Data Analysis"
      ]
    },
    {
      "cell_type": "code",
      "execution_count": null,
      "id": "3c421bfa",
      "metadata": {
        "execution": {
          "iopub.execute_input": "2023-01-03T14:12:47.76679Z",
          "iopub.status.busy": "2023-01-03T14:12:47.766288Z",
          "iopub.status.idle": "2023-01-03T14:12:47.801698Z",
          "shell.execute_reply": "2023-01-03T14:12:47.800164Z"
        },
        "papermill": {
          "duration": 0.050791,
          "end_time": "2023-01-03T14:12:47.804211",
          "exception": false,
          "start_time": "2023-01-03T14:12:47.75342",
          "status": "completed"
        },
        "tags": [],
        "id": "3c421bfa",
        "outputId": "1de0c4f7-8e5f-4321-bad5-dba043a1549c"
      },
      "outputs": [
        {
          "data": {
            "text/html": [
              "<div>\n",
              "<style scoped>\n",
              "    .dataframe tbody tr th:only-of-type {\n",
              "        vertical-align: middle;\n",
              "    }\n",
              "\n",
              "    .dataframe tbody tr th {\n",
              "        vertical-align: top;\n",
              "    }\n",
              "\n",
              "    .dataframe thead th {\n",
              "        text-align: right;\n",
              "    }\n",
              "</style>\n",
              "<table border=\"1\" class=\"dataframe\">\n",
              "  <thead>\n",
              "    <tr style=\"text-align: right;\">\n",
              "      <th></th>\n",
              "      <th>review</th>\n",
              "      <th>sentiment</th>\n",
              "    </tr>\n",
              "  </thead>\n",
              "  <tbody>\n",
              "    <tr>\n",
              "      <th>0</th>\n",
              "      <td>Pengaduan lebih cepat tanggap</td>\n",
              "      <td>positive</td>\n",
              "    </tr>\n",
              "    <tr>\n",
              "      <th>1</th>\n",
              "      <td>pln mobile memang mantab</td>\n",
              "      <td>positive</td>\n",
              "    </tr>\n",
              "    <tr>\n",
              "      <th>2</th>\n",
              "      <td>Alhamdulilah sangat membantu aplikasi ini🙏🙏🙏</td>\n",
              "      <td>positive</td>\n",
              "    </tr>\n",
              "    <tr>\n",
              "      <th>3</th>\n",
              "      <td>Saat pengaduan susah untuk uplode poto, eror trus</td>\n",
              "      <td>negative</td>\n",
              "    </tr>\n",
              "    <tr>\n",
              "      <th>4</th>\n",
              "      <td>Susah untuk buka aplikasi apa sih jelek banget</td>\n",
              "      <td>positive</td>\n",
              "    </tr>\n",
              "  </tbody>\n",
              "</table>\n",
              "</div>"
            ],
            "text/plain": [
              "                                              review sentiment\n",
              "0                      Pengaduan lebih cepat tanggap  positive\n",
              "1                           pln mobile memang mantab  positive\n",
              "2       Alhamdulilah sangat membantu aplikasi ini🙏🙏🙏  positive\n",
              "3  Saat pengaduan susah untuk uplode poto, eror trus  negative\n",
              "4     Susah untuk buka aplikasi apa sih jelek banget  positive"
            ]
          },
          "execution_count": 5,
          "metadata": {},
          "output_type": "execute_result"
        }
      ],
      "source": [
        "df = df.replace({'sentiment' : {1:'negative', 2:'negative', 3:'neutral', 4:'positive', 5: 'positive' }})\n",
        "df.head()"
      ]
    },
    {
      "cell_type": "markdown",
      "id": "435cab84",
      "metadata": {
        "papermill": {
          "duration": 0.010946,
          "end_time": "2023-01-03T14:12:47.826726",
          "exception": false,
          "start_time": "2023-01-03T14:12:47.81578",
          "status": "completed"
        },
        "tags": [],
        "id": "435cab84"
      },
      "source": [
        "<a id=\"4.4.1\"></a>\n",
        "### 4.4.1 Sentiment Distribution"
      ]
    },
    {
      "cell_type": "code",
      "execution_count": null,
      "id": "b7640311",
      "metadata": {
        "execution": {
          "iopub.execute_input": "2023-01-03T14:12:47.851762Z",
          "iopub.status.busy": "2023-01-03T14:12:47.851211Z",
          "iopub.status.idle": "2023-01-03T14:12:47.871268Z",
          "shell.execute_reply": "2023-01-03T14:12:47.870024Z"
        },
        "papermill": {
          "duration": 0.035524,
          "end_time": "2023-01-03T14:12:47.873704",
          "exception": false,
          "start_time": "2023-01-03T14:12:47.83818",
          "status": "completed"
        },
        "tags": [],
        "id": "b7640311",
        "outputId": "fce4c0f3-2387-4dd3-fedb-f35a6f52457d"
      },
      "outputs": [
        {
          "data": {
            "text/plain": [
              "positive    191711\n",
              "negative     20913\n",
              "neutral       5548\n",
              "Name: sentiment, dtype: int64"
            ]
          },
          "execution_count": 6,
          "metadata": {},
          "output_type": "execute_result"
        }
      ],
      "source": [
        "x = df.sentiment.value_counts()\n",
        "x"
      ]
    },
    {
      "cell_type": "code",
      "execution_count": null,
      "id": "cd541b29",
      "metadata": {
        "execution": {
          "iopub.execute_input": "2023-01-03T14:12:47.899199Z",
          "iopub.status.busy": "2023-01-03T14:12:47.898711Z",
          "iopub.status.idle": "2023-01-03T14:12:48.16695Z",
          "shell.execute_reply": "2023-01-03T14:12:48.165764Z"
        },
        "papermill": {
          "duration": 0.284196,
          "end_time": "2023-01-03T14:12:48.169453",
          "exception": false,
          "start_time": "2023-01-03T14:12:47.885257",
          "status": "completed"
        },
        "tags": [],
        "id": "cd541b29",
        "outputId": "9cfd78fb-b2d5-4331-e610-0fe4c9f3fcb9"
      },
      "outputs": [
        {
          "data": {
            "text/plain": [
              "Text(0, 0.5, 'sample')"
            ]
          },
          "execution_count": 7,
          "metadata": {},
          "output_type": "execute_result"
        },
        {
          "data": {
            "image/png": "[encoded data removed]",
            "text/plain": [
              "<Figure size 432x288 with 1 Axes>"
            ]
          },
          "metadata": {
            "needs_background": "light"
          },
          "output_type": "display_data"
        }
      ],
      "source": [
        "sns.barplot(x.index, x)\n",
        "plt.gca().set_ylabel('sample')"
      ]
    },
    {
      "cell_type": "code",
      "execution_count": null,
      "id": "28499afe",
      "metadata": {
        "execution": {
          "iopub.execute_input": "2023-01-03T14:12:48.196327Z",
          "iopub.status.busy": "2023-01-03T14:12:48.195856Z",
          "iopub.status.idle": "2023-01-03T14:12:48.251506Z",
          "shell.execute_reply": "2023-01-03T14:12:48.250014Z"
        },
        "papermill": {
          "duration": 0.07279,
          "end_time": "2023-01-03T14:12:48.254512",
          "exception": false,
          "start_time": "2023-01-03T14:12:48.181722",
          "status": "completed"
        },
        "tags": [],
        "id": "28499afe"
      },
      "outputs": [],
      "source": [
        "#removing neutral\n",
        "df = df[df.sentiment != \"neutral\"]"
      ]
    },
    {
      "cell_type": "markdown",
      "id": "1cea3002",
      "metadata": {
        "papermill": {
          "duration": 0.011634,
          "end_time": "2023-01-03T14:12:48.278142",
          "exception": false,
          "start_time": "2023-01-03T14:12:48.266508",
          "status": "completed"
        },
        "tags": [],
        "id": "1cea3002"
      },
      "source": [
        "<a id=\"4.5\"></a>\n",
        "### 4.5 Data Preparation"
      ]
    },
    {
      "cell_type": "markdown",
      "id": "7426023f",
      "metadata": {
        "papermill": {
          "duration": 0.011551,
          "end_time": "2023-01-03T14:12:48.302379",
          "exception": false,
          "start_time": "2023-01-03T14:12:48.290828",
          "status": "completed"
        },
        "tags": [],
        "id": "7426023f"
      },
      "source": [
        "<a id=\"4.5.1\"></a>\n",
        "### 4.5.1 Data Cleaning"
      ]
    },
    {
      "cell_type": "code",
      "execution_count": null,
      "id": "0731f803",
      "metadata": {
        "execution": {
          "iopub.execute_input": "2023-01-03T14:12:48.328385Z",
          "iopub.status.busy": "2023-01-03T14:12:48.327893Z",
          "iopub.status.idle": "2023-01-03T14:12:48.337057Z",
          "shell.execute_reply": "2023-01-03T14:12:48.335814Z"
        },
        "papermill": {
          "duration": 0.025214,
          "end_time": "2023-01-03T14:12:48.339466",
          "exception": false,
          "start_time": "2023-01-03T14:12:48.314252",
          "status": "completed"
        },
        "tags": [],
        "id": "0731f803"
      },
      "outputs": [],
      "source": [
        "def strip_html_tags(text):\n",
        "  soup = BeautifulSoup(text, \"html.parser\")\n",
        "  [s.extract() for s in soup(['iframe', 'script'])]\n",
        "  stripped_text = soup.get_text()\n",
        "  stripped_text = re.sub(r'[\\r|\\n|\\r\\n]+', '\\n', stripped_text)\n",
        "  return stripped_text\n",
        "\n",
        "def remove_accented_chars(text):\n",
        "  text = unicodedata.normalize('NFKD', text).encode('ascii', 'ignore').decode('utf-8', 'ignore')\n",
        "  return text\n",
        "\n",
        "def stopwords_removal(words):\n",
        "    list_stopwords = nltk.corpus.stopwords.words('indonesian')\n",
        "    #list_stopwords = stopwords.words('indonesian')\n",
        "    #list_stopwords.extend([])\n",
        "    #txt_stopword = pd.read_csv(\"#\", names= [\"stopwords\"], header = None)\n",
        "    #list_stopwords.extend(txt_stopword[\"stopwords\"][0].split(' '))\n",
        "    return [word for word in words if word not in list_stopwords]\n",
        "\n",
        "def stemmed_wrapper(term):\n",
        "    factory = StemmerFactory()\n",
        "    stemmer = factory.create_stemmer()\n",
        "    return stemmer.stem(term)"
      ]
    },
    {
      "cell_type": "code",
      "execution_count": null,
      "id": "f2554b95",
      "metadata": {
        "execution": {
          "iopub.execute_input": "2023-01-03T14:12:48.365387Z",
          "iopub.status.busy": "2023-01-03T14:12:48.364868Z",
          "iopub.status.idle": "2023-01-03T14:12:48.374032Z",
          "shell.execute_reply": "2023-01-03T14:12:48.37285Z"
        },
        "papermill": {
          "duration": 0.024992,
          "end_time": "2023-01-03T14:12:48.376356",
          "exception": false,
          "start_time": "2023-01-03T14:12:48.351364",
          "status": "completed"
        },
        "tags": [],
        "id": "f2554b95"
      },
      "outputs": [],
      "source": [
        "def pre_process_corpus(docs):\n",
        "  norm_docs = []\n",
        "  for doc in tqdm.tqdm(docs):\n",
        "    doc = strip_html_tags(doc)\n",
        "    doc = doc.translate(doc.maketrans(\"\\n\\t\\r\", \"   \"))\n",
        "    doc = doc.lower()\n",
        "    doc = remove_accented_chars(doc)\n",
        "    doc = contractions.fix(doc)\n",
        "    # lower case and remove special characters\\whitespaces\n",
        "    doc = re.sub(r'[^a-zA-Z0-9\\s]', '', doc, re.I|re.A)\n",
        "    doc = re.sub(' +', ' ', doc)\n",
        "    doc = doc.strip()\n",
        "    doc = word_tokenize(doc)\n",
        "    doc = stopwords_removal(doc)\n",
        "    #doc = stemmed_wrapper(doc)\n",
        "    norm_docs.append(doc)\n",
        "\n",
        "  norm_docs = [\" \".join(word) for word in norm_docs]\n",
        "  return norm_docs"
      ]
    },
    {
      "cell_type": "code",
      "execution_count": null,
      "id": "597c0384",
      "metadata": {
        "execution": {
          "iopub.execute_input": "2023-01-03T14:12:48.402148Z",
          "iopub.status.busy": "2023-01-03T14:12:48.401637Z",
          "iopub.status.idle": "2023-01-03T14:15:43.389898Z",
          "shell.execute_reply": "2023-01-03T14:15:43.388577Z"
        },
        "papermill": {
          "duration": 175.004513,
          "end_time": "2023-01-03T14:15:43.39275",
          "exception": false,
          "start_time": "2023-01-03T14:12:48.388237",
          "status": "completed"
        },
        "tags": [],
        "id": "597c0384",
        "outputId": "07e526c5-f281-4f2b-b102-627b00ca9698"
      },
      "outputs": [
        {
          "name": "stderr",
          "output_type": "stream",
          "text": [
            "100%|██████████| 212624/212624 [02:54<00:00, 1216.44it/s]\n"
          ]
        },
        {
          "name": "stdout",
          "output_type": "stream",
          "text": [
            "CPU times: user 2min 46s, sys: 8.18 s, total: 2min 55s\n",
            "Wall time: 2min 54s\n"
          ]
        }
      ],
      "source": [
        "%%time\n",
        "df.review = pre_process_corpus(df.review)"
      ]
    },
    {
      "cell_type": "markdown",
      "id": "838bb5ae",
      "metadata": {
        "papermill": {
          "duration": 0.121403,
          "end_time": "2023-01-03T14:15:43.642342",
          "exception": false,
          "start_time": "2023-01-03T14:15:43.520939",
          "status": "completed"
        },
        "tags": [],
        "id": "838bb5ae"
      },
      "source": [
        "<a id=\"4.5.2\"></a>\n",
        "### 4.5.2 TF-IDF"
      ]
    },
    {
      "cell_type": "code",
      "execution_count": null,
      "id": "c3a66496",
      "metadata": {
        "execution": {
          "iopub.execute_input": "2023-01-03T14:15:43.893557Z",
          "iopub.status.busy": "2023-01-03T14:15:43.893125Z",
          "iopub.status.idle": "2023-01-03T14:15:45.629184Z",
          "shell.execute_reply": "2023-01-03T14:15:45.628021Z"
        },
        "papermill": {
          "duration": 1.862779,
          "end_time": "2023-01-03T14:15:45.632293",
          "exception": false,
          "start_time": "2023-01-03T14:15:43.769514",
          "status": "completed"
        },
        "tags": [],
        "id": "c3a66496"
      },
      "outputs": [],
      "source": [
        "from sklearn.feature_extraction.text import CountVectorizer\n",
        "from sklearn.feature_extraction.text import TfidfVectorizer\n",
        "\n",
        "tf = TfidfVectorizer()\n",
        "text_tf = tf.fit_transform(df['review'].astype('U'))"
      ]
    },
    {
      "cell_type": "markdown",
      "id": "86be27fb",
      "metadata": {
        "papermill": {
          "duration": 0.115975,
          "end_time": "2023-01-03T14:15:45.864983",
          "exception": false,
          "start_time": "2023-01-03T14:15:45.749008",
          "status": "completed"
        },
        "tags": [],
        "id": "86be27fb"
      },
      "source": [
        "<a id=\"4.5.3\"></a>\n",
        "### 4.5.3 Splitting Data"
      ]
    },
    {
      "cell_type": "code",
      "execution_count": null,
      "id": "94e680f4",
      "metadata": {
        "execution": {
          "iopub.execute_input": "2023-01-03T14:15:46.099211Z",
          "iopub.status.busy": "2023-01-03T14:15:46.098746Z",
          "iopub.status.idle": "2023-01-03T14:15:46.139784Z",
          "shell.execute_reply": "2023-01-03T14:15:46.138501Z"
        },
        "papermill": {
          "duration": 0.162347,
          "end_time": "2023-01-03T14:15:46.142742",
          "exception": false,
          "start_time": "2023-01-03T14:15:45.980395",
          "status": "completed"
        },
        "tags": [],
        "id": "94e680f4"
      },
      "outputs": [],
      "source": [
        "from sklearn.model_selection import train_test_split\n",
        "X_train, X_test, y_train, y_test = train_test_split(text_tf, df['sentiment'], test_size=0.1, random_state = 42)"
      ]
    },
    {
      "cell_type": "markdown",
      "id": "689eb27c",
      "metadata": {
        "papermill": {
          "duration": 0.118164,
          "end_time": "2023-01-03T14:15:46.377018",
          "exception": false,
          "start_time": "2023-01-03T14:15:46.258854",
          "status": "completed"
        },
        "tags": [],
        "id": "689eb27c"
      },
      "source": [
        "<a id=\"4.5.4\"></a>\n",
        "### 4.5.4 Handle Data Imbalance (Oversampling)"
      ]
    },
    {
      "cell_type": "code",
      "execution_count": null,
      "id": "079964e4",
      "metadata": {
        "execution": {
          "iopub.execute_input": "2023-01-03T14:15:46.613933Z",
          "iopub.status.busy": "2023-01-03T14:15:46.613509Z",
          "iopub.status.idle": "2023-01-03T14:16:02.140634Z",
          "shell.execute_reply": "2023-01-03T14:16:02.138941Z"
        },
        "papermill": {
          "duration": 15.649238,
          "end_time": "2023-01-03T14:16:02.143269",
          "exception": false,
          "start_time": "2023-01-03T14:15:46.494031",
          "status": "completed"
        },
        "tags": [],
        "id": "079964e4",
        "outputId": "38a3d219-97c1-46c0-b8b4-0beb84da685f"
      },
      "outputs": [
        {
          "name": "stdout",
          "output_type": "stream",
          "text": [
            "Before OverSampling, counts of label 'Positive': 172506\n",
            "Before OverSampling, counts of label 'Negative': 18855\n",
            "After OverSampling, the shape of train_X: (345012, 53319)\n",
            "After OverSampling, the shape of train_y: (345012,) \n",
            "\n",
            "After OverSampling, counts of label 'positive': 172506\n",
            "After OverSampling, counts of label 'negative': 172506\n"
          ]
        }
      ],
      "source": [
        "#OVERSAMPLING\n",
        "\n",
        "print(\"Before OverSampling, counts of label 'Positive': {}\".format(sum(y_train == 'positive')))\n",
        "print(\"Before OverSampling, counts of label 'Negative': {}\".format(sum(y_train == 'negative')))\n",
        "\n",
        "# import SMOTE module from imblearn library\n",
        "# pip install imblearn (if you don't have imblearn in your system)\n",
        "from imblearn.over_sampling import SMOTE\n",
        "sm = SMOTE(random_state = 2)\n",
        "X_train_res, y_train_res = sm.fit_resample(X_train, y_train.ravel())\n",
        "\n",
        "print('After OverSampling, the shape of train_X: {}'.format(X_train_res.shape))\n",
        "print('After OverSampling, the shape of train_y: {} \\n'.format(y_train_res.shape))\n",
        "\n",
        "print(\"After OverSampling, counts of label 'positive': {}\".format(sum(y_train_res == 'positive')))\n",
        "print(\"After OverSampling, counts of label 'negative': {}\".format(sum(y_train_res == 'negative')))"
      ]
    },
    {
      "cell_type": "markdown",
      "id": "7ef910da",
      "metadata": {
        "papermill": {
          "duration": 0.112655,
          "end_time": "2023-01-03T14:16:02.453024",
          "exception": false,
          "start_time": "2023-01-03T14:16:02.340369",
          "status": "completed"
        },
        "tags": [],
        "id": "7ef910da"
      },
      "source": [
        "<a id=\"4.6\"></a>\n",
        "### 4.6 Modelling"
      ]
    },
    {
      "cell_type": "markdown",
      "id": "775f3a86",
      "metadata": {
        "papermill": {
          "duration": 0.116885,
          "end_time": "2023-01-03T14:16:02.682526",
          "exception": false,
          "start_time": "2023-01-03T14:16:02.565641",
          "status": "completed"
        },
        "tags": [],
        "id": "775f3a86"
      },
      "source": [
        "<a id=\"4.6.1\"></a>\n",
        "### 4.6.1 Naive Bayes"
      ]
    },
    {
      "cell_type": "code",
      "execution_count": null,
      "id": "3095f0ed",
      "metadata": {
        "execution": {
          "iopub.execute_input": "2023-01-03T14:16:02.920667Z",
          "iopub.status.busy": "2023-01-03T14:16:02.919691Z",
          "iopub.status.idle": "2023-01-03T14:16:05.677141Z",
          "shell.execute_reply": "2023-01-03T14:16:05.675684Z"
        },
        "papermill": {
          "duration": 2.879347,
          "end_time": "2023-01-03T14:16:05.680116",
          "exception": false,
          "start_time": "2023-01-03T14:16:02.800769",
          "status": "completed"
        },
        "tags": [],
        "id": "3095f0ed",
        "outputId": "6f0822e5-3972-4a16-8ae1-73ff709b5709"
      },
      "outputs": [
        {
          "name": "stdout",
          "output_type": "stream",
          "text": [
            "MultinomialNB Accuracy: 0.8858580633024503\n",
            "MultinomialNB Precision: 0.723526075209068\n",
            "MultinomialNB Recall: 0.9040584947483661\n",
            "MultinomialNB f1_score: 0.7721164346853765\n",
            "confusion matrix:\n",
            " [[ 1907   151]\n",
            " [ 2276 16929]]\n",
            "================================================\n",
            "\n",
            "              precision    recall  f1-score   support\n",
            "\n",
            "    negative       0.46      0.93      0.61      2058\n",
            "    positive       0.99      0.88      0.93     19205\n",
            "\n",
            "    accuracy                           0.89     21263\n",
            "   macro avg       0.72      0.90      0.77     21263\n",
            "weighted avg       0.94      0.89      0.90     21263\n",
            "\n"
          ]
        }
      ],
      "source": [
        "from sklearn.naive_bayes import MultinomialNB  \n",
        "from sklearn.metrics import accuracy_score, precision_score, recall_score, f1_score\n",
        "from sklearn.metrics import classification_report, roc_auc_score\n",
        "from sklearn.metrics import confusion_matrix\n",
        "\n",
        "clf_nb = MultinomialNB().fit(X_train_res, y_train_res)\n",
        "y_pred_nb = clf_nb.predict(X_test)\n",
        "print(\"MultinomialNB Accuracy:\" , accuracy_score(y_test,y_pred_nb))\n",
        "print(\"MultinomialNB Precision:\" , precision_score(y_test,y_pred_nb, average=\"macro\", pos_label=\"negative\" ))\n",
        "print(\"MultinomialNB Recall:\" , recall_score(y_test,y_pred_nb, average=\"macro\", pos_label=\"negative\"))\n",
        "print(\"MultinomialNB f1_score:\" , f1_score(y_test,y_pred_nb, average=\"macro\", pos_label=\"negative\"))\n",
        "\n",
        "print(f'confusion matrix:\\n {confusion_matrix(y_test, y_pred_nb)}')\n",
        "print('================================================\\n') \n",
        "print(classification_report(y_test, y_pred_nb, zero_division=0))       "
      ]
    },
    {
      "cell_type": "markdown",
      "id": "4456ff91",
      "metadata": {
        "papermill": {
          "duration": 0.113038,
          "end_time": "2023-01-03T14:16:05.912028",
          "exception": false,
          "start_time": "2023-01-03T14:16:05.79899",
          "status": "completed"
        },
        "tags": [],
        "id": "4456ff91"
      },
      "source": [
        "<a id=\"4.6.2\"></a>\n",
        "### 4.6.2 SVM"
      ]
    },
    {
      "cell_type": "code",
      "execution_count": null,
      "id": "986ec3cf",
      "metadata": {
        "execution": {
          "iopub.execute_input": "2023-01-03T14:16:06.143244Z",
          "iopub.status.busy": "2023-01-03T14:16:06.142803Z",
          "iopub.status.idle": "2023-01-03T17:47:46.501321Z",
          "shell.execute_reply": "2023-01-03T17:47:46.499026Z"
        },
        "papermill": {
          "duration": 12700.476258,
          "end_time": "2023-01-03T17:47:46.504045",
          "exception": false,
          "start_time": "2023-01-03T14:16:06.027787",
          "status": "completed"
        },
        "tags": [],
        "id": "986ec3cf",
        "outputId": "3736a858-4872-41cf-bc30-bb8eec770521"
      },
      "outputs": [
        {
          "name": "stdout",
          "output_type": "stream",
          "text": [
            "Support Vector Machine Accuracy: 0.8852937026760099\n",
            "Support Vector Machine Precision: 0.7212440537327779\n",
            "Support Vector Machine Recall: 0.894852379155999\n",
            "Support Vector Machine f1_score: 0.7688378931172624\n",
            "confusion matrix:\n",
            " [[ 1866   192]\n",
            " [ 2247 16958]]\n",
            "================================================\n",
            "\n",
            "              precision    recall  f1-score   support\n",
            "\n",
            "    negative       0.45      0.91      0.60      2058\n",
            "    positive       0.99      0.88      0.93     19205\n",
            "\n",
            "    accuracy                           0.89     21263\n",
            "   macro avg       0.72      0.89      0.77     21263\n",
            "weighted avg       0.94      0.89      0.90     21263\n",
            "\n"
          ]
        }
      ],
      "source": [
        "from sklearn import svm\n",
        "\n",
        "clf_svm = svm.SVC(kernel='linear').fit(X_train_res, y_train_res)\n",
        "y_pred_svm = clf_svm.predict(X_test)\n",
        "print(\"Support Vector Machine Accuracy:\" , accuracy_score(y_test,y_pred_svm))\n",
        "print(\"Support Vector Machine Precision:\" , precision_score(y_test,y_pred_svm, average=\"macro\", pos_label=\"negative\" ))\n",
        "print(\"Support Vector Machine Recall:\" , recall_score(y_test,y_pred_svm, average=\"macro\", pos_label=\"negative\"))\n",
        "print(\"Support Vector Machine f1_score:\" , f1_score(y_test,y_pred_svm, average=\"macro\", pos_label=\"negative\"))\n",
        "\n",
        "print(f'confusion matrix:\\n {confusion_matrix(y_test, y_pred_svm)}')\n",
        "print('================================================\\n') \n",
        "print(classification_report(y_test, y_pred_svm, zero_division=0))  "
      ]
    },
    {
      "cell_type": "markdown",
      "id": "dcc63033",
      "metadata": {
        "papermill": {
          "duration": 0.117263,
          "end_time": "2023-01-03T17:47:46.738647",
          "exception": false,
          "start_time": "2023-01-03T17:47:46.621384",
          "status": "completed"
        },
        "tags": [],
        "id": "dcc63033"
      },
      "source": [
        "<a id=\"4.6.3\"></a>\n",
        "### 4.6.3 Random Forest"
      ]
    },
    {
      "cell_type": "code",
      "execution_count": null,
      "id": "572d6f98",
      "metadata": {
        "execution": {
          "iopub.execute_input": "2023-01-03T17:47:47.08369Z",
          "iopub.status.busy": "2023-01-03T17:47:47.08319Z",
          "iopub.status.idle": "2023-01-03T18:26:41.045229Z",
          "shell.execute_reply": "2023-01-03T18:26:41.04369Z"
        },
        "papermill": {
          "duration": 2334.189225,
          "end_time": "2023-01-03T18:26:41.04768",
          "exception": false,
          "start_time": "2023-01-03T17:47:46.858455",
          "status": "completed"
        },
        "tags": [],
        "id": "572d6f98",
        "outputId": "9bb2e578-e5a7-4e56-a51c-d547c7c9872a"
      },
      "outputs": [
        {
          "name": "stdout",
          "output_type": "stream",
          "text": [
            "Random Forest Accuracy: 0.939566382918685\n",
            "Random Forest Precision: 0.8128203344653546\n",
            "Random Forest Recall: 0.8975647892957905\n",
            "Random Forest f1_score: 0.8481477347184408\n",
            "confusion matrix:\n",
            " [[ 1740   318]\n",
            " [  967 18238]]\n",
            "================================================\n",
            "\n",
            "              precision    recall  f1-score   support\n",
            "\n",
            "    negative       0.64      0.85      0.73      2058\n",
            "    positive       0.98      0.95      0.97     19205\n",
            "\n",
            "    accuracy                           0.94     21263\n",
            "   macro avg       0.81      0.90      0.85     21263\n",
            "weighted avg       0.95      0.94      0.94     21263\n",
            "\n"
          ]
        }
      ],
      "source": [
        "from sklearn.ensemble import RandomForestClassifier\n",
        "\n",
        "clf_rf = RandomForestClassifier().fit(X_train_res, y_train_res)\n",
        "y_pred_rf = clf_rf.predict(X_test)\n",
        "print(\"Random Forest Accuracy:\" , accuracy_score(y_test,y_pred_rf))\n",
        "print(\"Random Forest Precision:\" , precision_score(y_test,y_pred_rf, average=\"macro\", pos_label=\"negative\" ))\n",
        "print(\"Random Forest Recall:\" , recall_score(y_test,y_pred_rf, average=\"macro\", pos_label=\"negative\"))\n",
        "print(\"Random Forest f1_score:\" , f1_score(y_test,y_pred_rf, average=\"macro\", pos_label=\"negative\"))\n",
        "\n",
        "print(f'confusion matrix:\\n {confusion_matrix(y_test, y_pred_rf)}')\n",
        "print('================================================\\n') \n",
        "print(classification_report(y_test, y_pred_rf, zero_division=0))"
      ]
    },
    {
      "cell_type": "markdown",
      "id": "18aa3e45",
      "metadata": {
        "papermill": {
          "duration": 0.115441,
          "end_time": "2023-01-03T18:26:41.278518",
          "exception": false,
          "start_time": "2023-01-03T18:26:41.163077",
          "status": "completed"
        },
        "tags": [],
        "id": "18aa3e45"
      },
      "source": [
        "<a id=\"5\"></a>\n",
        "### 5. Result"
      ]
    },
    {
      "cell_type": "markdown",
      "id": "f632d5be",
      "metadata": {
        "papermill": {
          "duration": 0.118497,
          "end_time": "2023-01-03T18:26:41.514944",
          "exception": false,
          "start_time": "2023-01-03T18:26:41.396447",
          "status": "completed"
        },
        "tags": [],
        "id": "f632d5be"
      },
      "source": [
        "In the experiment using more than 200,000 PLN Mobile reviews. The data is divided into two: 90% of the training data and 10% of the testing data. Experiments show the results of accuracy, precision, recall, and f1-score as follows:\n",
        "\n",
        "| Algorithms | Accuracy | Precision | Recall | F1-Score |\n",
        "| --- | --- | --- | --- | --- |\n",
        "| Naive Bayes | 88% | 72% | 90% | 77% |\n",
        "| SVM | 88% | 72% | 89% | 76% |\n",
        "| Random Forest | 93% | 81% | 89% | 84% |"
      ]
    },
    {
      "cell_type": "markdown",
      "id": "f9fa3004",
      "metadata": {
        "papermill": {
          "duration": 0.120121,
          "end_time": "2023-01-03T18:26:41.755118",
          "exception": false,
          "start_time": "2023-01-03T18:26:41.634997",
          "status": "completed"
        },
        "tags": [],
        "id": "f9fa3004"
      },
      "source": [
        "<a id=\"6\"></a>\n",
        "### 6. Conclusion"
      ]
    },
    {
      "cell_type": "markdown",
      "id": "3cc23b91",
      "metadata": {
        "papermill": {
          "duration": 0.118468,
          "end_time": "2023-01-03T18:26:41.991903",
          "exception": false,
          "start_time": "2023-01-03T18:26:41.873435",
          "status": "completed"
        },
        "tags": [],
        "id": "3cc23b91"
      },
      "source": [
        "In this experiment, based on the results of the comparison of the three algorithms, it shows that the best results for accuracy, precision, and f1-score are obtained from the Random Forest algorithm, while the best recall is obtained from the Naive Bayes algorithm. For further experiments, it is better to use other machine learning algorithms as a comparison."
      ]
    }
  ],
  "metadata": {
    "kernelspec": {
      "display_name": "Python 3",
      "language": "python",
      "name": "python3"
    },
    "language_info": {
      "codemirror_mode": {
        "name": "ipython",
        "version": 3
      },
      "file_extension": ".py",
      "mimetype": "text/x-python",
      "name": "python",
      "nbconvert_exporter": "python",
      "pygments_lexer": "ipython3",
      "version": "3.7.12"
    },
    "papermill": {
      "default_parameters": {},
      "duration": 15275.319087,
      "end_time": "2023-01-03T18:26:43.669684",
      "environment_variables": {},
      "exception": null,
      "input_path": "__notebook__.ipynb",
      "output_path": "__notebook__.ipynb",
      "parameters": {},
      "start_time": "2023-01-03T14:12:08.350597",
      "version": "2.3.4"
    },
    "colab": {
      "provenance": [],
      "include_colab_link": true
    }
  },
  "nbformat": 4,
  "nbformat_minor": 5
}