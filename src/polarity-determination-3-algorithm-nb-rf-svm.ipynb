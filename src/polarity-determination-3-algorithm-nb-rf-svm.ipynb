{
  "metadata": {
    "kernelspec": {
      "language": "python",
      "display_name": "Python 3",
      "name": "python3"
    },
    "language_info": {
      "name": "python",
      "version": "3.7.12",
      "mimetype": "text/x-python",
      "codemirror_mode": {
        "name": "ipython",
        "version": 3
      },
      "pygments_lexer": "ipython3",
      "nbconvert_exporter": "python",
      "file_extension": ".py"
    },
    "colab": {
      "provenance": [],
      "include_colab_link": true
    }
  },
  "nbformat_minor": 0,
  "nbformat": 4,
  "cells": [
    {
      "cell_type": "markdown",
      "metadata": {
        "id": "view-in-github",
        "colab_type": "text"
      },
      "source": [
        "<a href=\"https://colab.research.google.com/github/kangnurrohman/sentiment-analysis-projects/blob/main/src/polarity-determination-3-algorithm-nb-rf-svm.ipynb\" target=\"_parent\"><img src=\"https://colab.research.google.com/assets/colab-badge.svg\" alt=\"Open In Colab\"/></a>"
      ]
    },
    {
      "source": [
        "<a href=\"https://www.kaggle.com/code/kangnurrohman/polarity-determination-3-algorithm-nb-rf-svm?scriptVersionId=112064333\" target=\"_blank\"><img align=\"left\" alt=\"Kaggle\" title=\"Open in Kaggle\" src=\"https://kaggle.com/static/images/open-in-kaggle.svg\"></a>"
      ],
      "metadata": {
        "id": "YbYid3TTpMki"
      },
      "cell_type": "markdown"
    },
    {
      "cell_type": "code",
      "source": [
        "# This Python 3 environment comes with many helpful analytics libraries installed\n",
        "# It is defined by the kaggle/python Docker image: https://github.com/kaggle/docker-python\n",
        "# For example, here's several helpful packages to load\n",
        "\n",
        "import numpy as np # linear algebra\n",
        "import pandas as pd # data processing, CSV file I/O (e.g. pd.read_csv)\n",
        "\n",
        "# Input data files are available in the read-only \"../input/\" directory\n",
        "# For example, running this (by clicking run or pressing Shift+Enter) will list all files under the input directory\n",
        "\n",
        "import os\n",
        "for dirname, _, filenames in os.walk('/kaggle/input'):\n",
        "    for filename in filenames:\n",
        "        print(os.path.join(dirname, filename))\n",
        "\n",
        "# You can write up to 20GB to the current directory (/kaggle/working/) that gets preserved as output when you create a version using \"Save & Run All\" \n",
        "# You can also write temporary files to /kaggle/temp/, but they won't be saved outside of the current session"
      ],
      "metadata": {
        "_uuid": "8f2839f25d086af736a60e9eeb907d3b93b6e0e5",
        "_cell_guid": "b1076dfc-b9ad-4769-8c92-a6c4dae69d19",
        "execution": {
          "iopub.status.busy": "2022-11-08T04:09:58.822526Z",
          "iopub.execute_input": "2022-11-08T04:09:58.823286Z",
          "iopub.status.idle": "2022-11-08T04:09:58.853191Z",
          "shell.execute_reply.started": "2022-11-08T04:09:58.823214Z",
          "shell.execute_reply": "2022-11-08T04:09:58.852439Z"
        },
        "trusted": true,
        "id": "lKvV9IEIpMkr",
        "outputId": "b4bcd5de-8531-460e-ca5b-1b14a99aa821"
      },
      "execution_count": null,
      "outputs": [
        {
          "name": "stdout",
          "text": "/kaggle/input/review-of-the-application-pln-mobile/review of the application PLN mobile.xlsx\n",
          "output_type": "stream"
        }
      ]
    },
    {
      "cell_type": "markdown",
      "source": [
        "## Install library"
      ],
      "metadata": {
        "id": "09ndVO-2pMkx"
      }
    },
    {
      "cell_type": "code",
      "source": [
        "!pip install sastrawi\n",
        "!pip install contractions\n",
        "\n",
        "import warnings\n",
        "warnings.filterwarnings('ignore')"
      ],
      "metadata": {
        "execution": {
          "iopub.status.busy": "2022-11-08T04:17:32.575221Z",
          "iopub.execute_input": "2022-11-08T04:17:32.575608Z",
          "iopub.status.idle": "2022-11-08T04:17:49.117415Z",
          "shell.execute_reply.started": "2022-11-08T04:17:32.575576Z",
          "shell.execute_reply": "2022-11-08T04:17:49.11634Z"
        },
        "trusted": true,
        "id": "IO3CLy-CpMky",
        "outputId": "2706244c-db9a-481d-9001-7bf0258893fe"
      },
      "execution_count": null,
      "outputs": [
        {
          "name": "stdout",
          "text": "Requirement already satisfied: sastrawi in /opt/conda/lib/python3.7/site-packages (1.0.1)\n\u001b[33mWARNING: Running pip as the 'root' user can result in broken permissions and conflicting behaviour with the system package manager. It is recommended to use a virtual environment instead: https://pip.pypa.io/warnings/venv\u001b[0m\u001b[33m\n\u001b[0mRequirement already satisfied: contractions in /opt/conda/lib/python3.7/site-packages (0.1.72)\nRequirement already satisfied: textsearch>=0.0.21 in /opt/conda/lib/python3.7/site-packages (from contractions) (0.0.24)\nRequirement already satisfied: anyascii in /opt/conda/lib/python3.7/site-packages (from textsearch>=0.0.21->contractions) (0.3.1)\nRequirement already satisfied: pyahocorasick in /opt/conda/lib/python3.7/site-packages (from textsearch>=0.0.21->contractions) (1.4.4)\n\u001b[33mWARNING: Running pip as the 'root' user can result in broken permissions and conflicting behaviour with the system package manager. It is recommended to use a virtual environment instead: https://pip.pypa.io/warnings/venv\u001b[0m\u001b[33m\n\u001b[0m",
          "output_type": "stream"
        }
      ]
    },
    {
      "cell_type": "markdown",
      "source": [
        "## Load Library"
      ],
      "metadata": {
        "id": "lFJSdN5lpMkz"
      }
    },
    {
      "cell_type": "code",
      "source": [
        "import re\n",
        "import tqdm\n",
        "import nltk\n",
        "import string\n",
        "import unicodedata\n",
        "import contractions\n",
        "\n",
        "from bs4 import BeautifulSoup\n",
        "from sklearn.pipeline import Pipeline\n",
        "from nltk.tokenize import word_tokenize\n",
        "from Sastrawi.Stemmer.StemmerFactory import StemmerFactory"
      ],
      "metadata": {
        "execution": {
          "iopub.status.busy": "2022-11-08T04:17:58.857243Z",
          "iopub.execute_input": "2022-11-08T04:17:58.857575Z",
          "iopub.status.idle": "2022-11-08T04:17:58.862112Z",
          "shell.execute_reply.started": "2022-11-08T04:17:58.857549Z",
          "shell.execute_reply": "2022-11-08T04:17:58.861269Z"
        },
        "trusted": true,
        "id": "ukW--9zJpMk0"
      },
      "execution_count": null,
      "outputs": []
    },
    {
      "cell_type": "markdown",
      "source": [
        "## Load Data"
      ],
      "metadata": {
        "id": "6gJM_p5_pMk2"
      }
    },
    {
      "cell_type": "code",
      "source": [
        "df = pd.read_excel('/kaggle/input/review-of-the-application-pln-mobile/review of the application PLN mobile.xlsx')\n",
        "df.rename(columns = {'content':'review', 'score':'sentiment'}, inplace = True)\n",
        "df.info()"
      ],
      "metadata": {
        "execution": {
          "iopub.status.busy": "2022-11-08T04:10:22.213572Z",
          "iopub.execute_input": "2022-11-08T04:10:22.213895Z",
          "iopub.status.idle": "2022-11-08T04:11:12.649975Z",
          "shell.execute_reply.started": "2022-11-08T04:10:22.213871Z",
          "shell.execute_reply": "2022-11-08T04:11:12.649026Z"
        },
        "trusted": true,
        "id": "FMrN9ktnpMk3",
        "outputId": "370ffd59-0227-49e8-9e66-9a9c98a96d29"
      },
      "execution_count": null,
      "outputs": [
        {
          "name": "stdout",
          "text": "<class 'pandas.core.frame.DataFrame'>\nRangeIndex: 201042 entries, 0 to 201041\nData columns (total 10 columns):\n #   Column                Non-Null Count   Dtype         \n---  ------                --------------   -----         \n 0   reviewId              201042 non-null  object        \n 1   userName              201042 non-null  object        \n 2   userImage             201042 non-null  object        \n 3   review                201042 non-null  object        \n 4   sentiment             201042 non-null  int64         \n 5   thumbsUpCount         201042 non-null  int64         \n 6   reviewCreatedVersion  174363 non-null  object        \n 7   at                    201042 non-null  datetime64[ns]\n 8   replyContent          195639 non-null  object        \n 9   repliedAt             195639 non-null  datetime64[ns]\ndtypes: datetime64[ns](2), int64(2), object(6)\nmemory usage: 15.3+ MB\n",
          "output_type": "stream"
        }
      ]
    },
    {
      "cell_type": "code",
      "source": [
        "df = df.sort_values(by='at', ascending=False)\n",
        "df = df[['review', 'sentiment']]\n",
        "df.head()"
      ],
      "metadata": {
        "execution": {
          "iopub.status.busy": "2022-11-03T07:31:12.844191Z",
          "iopub.execute_input": "2022-11-03T07:31:12.844542Z",
          "iopub.status.idle": "2022-11-03T07:31:12.972976Z",
          "shell.execute_reply.started": "2022-11-03T07:31:12.84451Z",
          "shell.execute_reply": "2022-11-03T07:31:12.971727Z"
        },
        "trusted": true,
        "id": "-iqB2OzTpMk5",
        "outputId": "a2992731-a423-4776-9d10-24f24346e09c"
      },
      "execution_count": null,
      "outputs": [
        {
          "execution_count": 5,
          "output_type": "execute_result",
          "data": {
            "text/plain": "                                              review  sentiment\n0                                Sangat bermanfaat👍👍          5\n1                                        PLN terbaik          5\n2                                                  😀          5\n3  Mudah dan simpel untuk menikmati pelayanan PLN...          5\n4                                               Baik          5",
            "text/html": "<div>\n<style scoped>\n    .dataframe tbody tr th:only-of-type {\n        vertical-align: middle;\n    }\n\n    .dataframe tbody tr th {\n        vertical-align: top;\n    }\n\n    .dataframe thead th {\n        text-align: right;\n    }\n</style>\n<table border=\"1\" class=\"dataframe\">\n  <thead>\n    <tr style=\"text-align: right;\">\n      <th></th>\n      <th>review</th>\n      <th>sentiment</th>\n    </tr>\n  </thead>\n  <tbody>\n    <tr>\n      <th>0</th>\n      <td>Sangat bermanfaat👍👍</td>\n      <td>5</td>\n    </tr>\n    <tr>\n      <th>1</th>\n      <td>PLN terbaik</td>\n      <td>5</td>\n    </tr>\n    <tr>\n      <th>2</th>\n      <td>😀</td>\n      <td>5</td>\n    </tr>\n    <tr>\n      <th>3</th>\n      <td>Mudah dan simpel untuk menikmati pelayanan PLN...</td>\n      <td>5</td>\n    </tr>\n    <tr>\n      <th>4</th>\n      <td>Baik</td>\n      <td>5</td>\n    </tr>\n  </tbody>\n</table>\n</div>"
          },
          "metadata": {}
        }
      ]
    },
    {
      "cell_type": "markdown",
      "source": [
        "## Exploratory Data Analysis"
      ],
      "metadata": {
        "id": "zW0e5Lf7pMk7"
      }
    },
    {
      "cell_type": "code",
      "source": [
        "df = df.replace({'sentiment' : {1:'negative', 2:'negative', 3:'neutral', 4:'positive', 5: 'positive' }})\n",
        "df.head()"
      ],
      "metadata": {
        "execution": {
          "iopub.status.busy": "2022-11-08T04:11:37.794074Z",
          "iopub.execute_input": "2022-11-08T04:11:37.794401Z",
          "iopub.status.idle": "2022-11-08T04:11:37.846228Z",
          "shell.execute_reply.started": "2022-11-08T04:11:37.794375Z",
          "shell.execute_reply": "2022-11-08T04:11:37.8456Z"
        },
        "trusted": true,
        "id": "QYZPmso0pMk8",
        "outputId": "7f72237f-5c06-41d8-990e-641cb65edd2a"
      },
      "execution_count": null,
      "outputs": [
        {
          "execution_count": 5,
          "output_type": "execute_result",
          "data": {
            "text/plain": "                               reviewId               userName  \\\n0  7b2e334b-5f37-482e-b145-9ac8d77255ab          Lisa Mananoma   \n1  3e4c6709-383a-4dfe-b6f7-5caa0082de2a           Seni Nurjiah   \n2  d98b38bf-e935-4b38-8eca-f8f51f4543aa            koko andika   \n3  a9ada1b6-215c-4f11-b8ec-90fe46604724  Hasnur ACHYAR Sungkar   \n4  7b571d6f-b484-424b-be98-19a4f9ef59c9             Putu Nanda   \n\n                                           userImage  \\\n0  https://play-lh.googleusercontent.com/a-/ACNPE...   \n1  https://play-lh.googleusercontent.com/a-/ACNPE...   \n2  https://play-lh.googleusercontent.com/a/ALm5wu...   \n3  https://play-lh.googleusercontent.com/a-/ACNPE...   \n4  https://play-lh.googleusercontent.com/a/ALm5wu...   \n\n                                              review sentiment  thumbsUpCount  \\\n0                                Sangat bermanfaat👍👍  positive              0   \n1                                        PLN terbaik  positive              0   \n2                                                  😀  positive              0   \n3  Mudah dan simpel untuk menikmati pelayanan PLN...  positive              0   \n4                                               Baik  positive              0   \n\n  reviewCreatedVersion                  at  \\\n0               5.2.31 2022-11-01 02:30:56   \n1               5.2.25 2022-11-01 02:30:44   \n2                  NaN 2022-11-01 02:28:40   \n3               5.2.30 2022-11-01 02:28:27   \n4               5.2.30 2022-11-01 02:27:49   \n\n                                        replyContent           repliedAt  \n0                                                NaN                 NaT  \n1  Hello Kak Nurjiah, makasih yaa buat review & r... 2022-10-30 05:35:57  \n2                                                NaN                 NaT  \n3  Trims yah Kak Hasnur buat ulasan dan bintangny... 2022-01-09 16:46:43  \n4                                                NaN                 NaT  ",
            "text/html": "<div>\n<style scoped>\n    .dataframe tbody tr th:only-of-type {\n        vertical-align: middle;\n    }\n\n    .dataframe tbody tr th {\n        vertical-align: top;\n    }\n\n    .dataframe thead th {\n        text-align: right;\n    }\n</style>\n<table border=\"1\" class=\"dataframe\">\n  <thead>\n    <tr style=\"text-align: right;\">\n      <th></th>\n      <th>reviewId</th>\n      <th>userName</th>\n      <th>userImage</th>\n      <th>review</th>\n      <th>sentiment</th>\n      <th>thumbsUpCount</th>\n      <th>reviewCreatedVersion</th>\n      <th>at</th>\n      <th>replyContent</th>\n      <th>repliedAt</th>\n    </tr>\n  </thead>\n  <tbody>\n    <tr>\n      <th>0</th>\n      <td>7b2e334b-5f37-482e-b145-9ac8d77255ab</td>\n      <td>Lisa Mananoma</td>\n      <td>https://play-lh.googleusercontent.com/a-/ACNPE...</td>\n      <td>Sangat bermanfaat👍👍</td>\n      <td>positive</td>\n      <td>0</td>\n      <td>5.2.31</td>\n      <td>2022-11-01 02:30:56</td>\n      <td>NaN</td>\n      <td>NaT</td>\n    </tr>\n    <tr>\n      <th>1</th>\n      <td>3e4c6709-383a-4dfe-b6f7-5caa0082de2a</td>\n      <td>Seni Nurjiah</td>\n      <td>https://play-lh.googleusercontent.com/a-/ACNPE...</td>\n      <td>PLN terbaik</td>\n      <td>positive</td>\n      <td>0</td>\n      <td>5.2.25</td>\n      <td>2022-11-01 02:30:44</td>\n      <td>Hello Kak Nurjiah, makasih yaa buat review &amp; r...</td>\n      <td>2022-10-30 05:35:57</td>\n    </tr>\n    <tr>\n      <th>2</th>\n      <td>d98b38bf-e935-4b38-8eca-f8f51f4543aa</td>\n      <td>koko andika</td>\n      <td>https://play-lh.googleusercontent.com/a/ALm5wu...</td>\n      <td>😀</td>\n      <td>positive</td>\n      <td>0</td>\n      <td>NaN</td>\n      <td>2022-11-01 02:28:40</td>\n      <td>NaN</td>\n      <td>NaT</td>\n    </tr>\n    <tr>\n      <th>3</th>\n      <td>a9ada1b6-215c-4f11-b8ec-90fe46604724</td>\n      <td>Hasnur ACHYAR Sungkar</td>\n      <td>https://play-lh.googleusercontent.com/a-/ACNPE...</td>\n      <td>Mudah dan simpel untuk menikmati pelayanan PLN...</td>\n      <td>positive</td>\n      <td>0</td>\n      <td>5.2.30</td>\n      <td>2022-11-01 02:28:27</td>\n      <td>Trims yah Kak Hasnur buat ulasan dan bintangny...</td>\n      <td>2022-01-09 16:46:43</td>\n    </tr>\n    <tr>\n      <th>4</th>\n      <td>7b571d6f-b484-424b-be98-19a4f9ef59c9</td>\n      <td>Putu Nanda</td>\n      <td>https://play-lh.googleusercontent.com/a/ALm5wu...</td>\n      <td>Baik</td>\n      <td>positive</td>\n      <td>0</td>\n      <td>5.2.30</td>\n      <td>2022-11-01 02:27:49</td>\n      <td>NaN</td>\n      <td>NaT</td>\n    </tr>\n  </tbody>\n</table>\n</div>"
          },
          "metadata": {}
        }
      ]
    },
    {
      "cell_type": "code",
      "source": [
        "df.sentiment.value_counts()"
      ],
      "metadata": {
        "execution": {
          "iopub.status.busy": "2022-11-08T04:12:20.347937Z",
          "iopub.execute_input": "2022-11-08T04:12:20.348243Z",
          "iopub.status.idle": "2022-11-08T04:12:20.362926Z",
          "shell.execute_reply.started": "2022-11-08T04:12:20.34822Z",
          "shell.execute_reply": "2022-11-08T04:12:20.362035Z"
        },
        "trusted": true,
        "id": "jeJIVeYDpMk9",
        "outputId": "64538b55-31b1-4f01-dab0-6b3facaacd7e"
      },
      "execution_count": null,
      "outputs": [
        {
          "execution_count": 6,
          "output_type": "execute_result",
          "data": {
            "text/plain": "positive    175750\nnegative     19925\nneutral       5367\nName: sentiment, dtype: int64"
          },
          "metadata": {}
        }
      ]
    },
    {
      "cell_type": "code",
      "source": [
        "#removing neutral\n",
        "df = df[df.sentiment != \"neutral\"]"
      ],
      "metadata": {
        "execution": {
          "iopub.status.busy": "2022-11-08T04:12:23.057665Z",
          "iopub.execute_input": "2022-11-08T04:12:23.058001Z",
          "iopub.status.idle": "2022-11-08T04:12:23.143172Z",
          "shell.execute_reply.started": "2022-11-08T04:12:23.057966Z",
          "shell.execute_reply": "2022-11-08T04:12:23.142346Z"
        },
        "trusted": true,
        "id": "klz7ToUhpMk-"
      },
      "execution_count": null,
      "outputs": []
    },
    {
      "cell_type": "markdown",
      "source": [
        "## Data Preprocessing"
      ],
      "metadata": {
        "id": "XKMjALgnpMk_"
      }
    },
    {
      "cell_type": "code",
      "source": [
        "def strip_html_tags(text):\n",
        "  soup = BeautifulSoup(text, \"html.parser\")\n",
        "  [s.extract() for s in soup(['iframe', 'script'])]\n",
        "  stripped_text = soup.get_text()\n",
        "  stripped_text = re.sub(r'[\\r|\\n|\\r\\n]+', '\\n', stripped_text)\n",
        "  return stripped_text\n",
        "\n",
        "def remove_accented_chars(text):\n",
        "  text = unicodedata.normalize('NFKD', text).encode('ascii', 'ignore').decode('utf-8', 'ignore')\n",
        "  return text\n",
        "\n",
        "def stopwords_removal(words):\n",
        "    list_stopwords = nltk.corpus.stopwords.words('indonesian')\n",
        "    #list_stopwords = stopwords.words('indonesian')\n",
        "    #list_stopwords.extend([])\n",
        "    #txt_stopword = pd.read_csv(\"#\", names= [\"stopwords\"], header = None)\n",
        "    #list_stopwords.extend(txt_stopword[\"stopwords\"][0].split(' '))\n",
        "    return [word for word in words if word not in list_stopwords]\n",
        "\n",
        "def stemmed_wrapper(term):\n",
        "    factory = StemmerFactory()\n",
        "    stemmer = factory.create_stemmer()\n",
        "    return stemmer.stem(term)"
      ],
      "metadata": {
        "execution": {
          "iopub.status.busy": "2022-11-08T04:16:36.84145Z",
          "iopub.execute_input": "2022-11-08T04:16:36.84176Z",
          "iopub.status.idle": "2022-11-08T04:16:36.849585Z",
          "shell.execute_reply.started": "2022-11-08T04:16:36.841733Z",
          "shell.execute_reply": "2022-11-08T04:16:36.848421Z"
        },
        "trusted": true,
        "id": "0m78E5xBpMlA"
      },
      "execution_count": null,
      "outputs": []
    },
    {
      "cell_type": "code",
      "source": [
        "def pre_process_corpus(docs):\n",
        "  norm_docs = []\n",
        "  for doc in tqdm.tqdm(docs):\n",
        "    doc = strip_html_tags(doc)\n",
        "    doc = doc.translate(doc.maketrans(\"\\n\\t\\r\", \"   \"))\n",
        "    doc = doc.lower()\n",
        "    doc = remove_accented_chars(doc)\n",
        "    doc = contractions.fix(doc)\n",
        "    # lower case and remove special characters\\whitespaces\n",
        "    doc = re.sub(r'[^a-zA-Z0-9\\s]', '', doc, re.I|re.A)\n",
        "    doc = re.sub(' +', ' ', doc)\n",
        "    doc = doc.strip()\n",
        "    doc = word_tokenize(doc)\n",
        "    doc = stopwords_removal(doc)\n",
        "    #doc = stemmed_wrapper(doc)\n",
        "    norm_docs.append(doc)\n",
        "\n",
        "  norm_docs = [\" \".join(word) for word in norm_docs]\n",
        "  return norm_docs"
      ],
      "metadata": {
        "execution": {
          "iopub.status.busy": "2022-11-08T04:18:27.481905Z",
          "iopub.execute_input": "2022-11-08T04:18:27.482234Z",
          "iopub.status.idle": "2022-11-08T04:18:27.490066Z",
          "shell.execute_reply.started": "2022-11-08T04:18:27.482208Z",
          "shell.execute_reply": "2022-11-08T04:18:27.489223Z"
        },
        "trusted": true,
        "id": "lL5tz2JdpMlB"
      },
      "execution_count": null,
      "outputs": []
    },
    {
      "cell_type": "code",
      "source": [
        "%%time\n",
        "df.review = pre_process_corpus(df.review)"
      ],
      "metadata": {
        "execution": {
          "iopub.status.busy": "2022-11-08T04:18:30.497642Z",
          "iopub.execute_input": "2022-11-08T04:18:30.497961Z",
          "iopub.status.idle": "2022-11-08T04:20:24.435039Z",
          "shell.execute_reply.started": "2022-11-08T04:18:30.497938Z",
          "shell.execute_reply": "2022-11-08T04:20:24.434107Z"
        },
        "trusted": true,
        "id": "CJF-jGC9pMlB",
        "outputId": "158b961f-5f0b-4b5b-baa7-1666eae10903"
      },
      "execution_count": null,
      "outputs": [
        {
          "name": "stderr",
          "text": "100%|██████████| 195675/195675 [01:53<00:00, 1719.84it/s]\n",
          "output_type": "stream"
        },
        {
          "name": "stdout",
          "text": "CPU times: user 1min 50s, sys: 3.9 s, total: 1min 54s\nWall time: 1min 53s\n",
          "output_type": "stream"
        }
      ]
    },
    {
      "cell_type": "markdown",
      "source": [
        "## TF-IDF"
      ],
      "metadata": {
        "id": "uM3fgDKXpMlC"
      }
    },
    {
      "cell_type": "code",
      "source": [
        "from sklearn.feature_extraction.text import CountVectorizer\n",
        "from sklearn.feature_extraction.text import TfidfVectorizer\n",
        "\n",
        "tf = TfidfVectorizer()\n",
        "text_tf = tf.fit_transform(df['review'].astype('U'))\n",
        "text_tf"
      ],
      "metadata": {
        "execution": {
          "iopub.status.busy": "2022-11-08T04:34:35.96724Z",
          "iopub.execute_input": "2022-11-08T04:34:35.967584Z",
          "iopub.status.idle": "2022-11-08T04:34:37.278148Z",
          "shell.execute_reply.started": "2022-11-08T04:34:35.967557Z",
          "shell.execute_reply": "2022-11-08T04:34:37.277316Z"
        },
        "trusted": true,
        "id": "eHez9LtwpMlD",
        "outputId": "428772be-9209-477e-ec36-0bd773b20817"
      },
      "execution_count": null,
      "outputs": [
        {
          "execution_count": 26,
          "output_type": "execute_result",
          "data": {
            "text/plain": "<195675x51117 sparse matrix of type '<class 'numpy.float64'>'\n\twith 827030 stored elements in Compressed Sparse Row format>"
          },
          "metadata": {}
        }
      ]
    },
    {
      "cell_type": "markdown",
      "source": [
        "## Splitting Data"
      ],
      "metadata": {
        "id": "JsbclHqlpMlE"
      }
    },
    {
      "cell_type": "code",
      "source": [
        "from sklearn.model_selection import train_test_split\n",
        "X_train, X_test, y_train, y_test = train_test_split(text_tf, df['sentiment'], test_size=0.1, random_state = 42)"
      ],
      "metadata": {
        "execution": {
          "iopub.status.busy": "2022-11-08T04:34:41.158799Z",
          "iopub.execute_input": "2022-11-08T04:34:41.159908Z",
          "iopub.status.idle": "2022-11-08T04:34:41.190318Z",
          "shell.execute_reply.started": "2022-11-08T04:34:41.159876Z",
          "shell.execute_reply": "2022-11-08T04:34:41.189465Z"
        },
        "trusted": true,
        "id": "74_ssVznpMlE"
      },
      "execution_count": null,
      "outputs": []
    },
    {
      "cell_type": "markdown",
      "source": [
        "## Handle Data Imbalance (Oversampling)"
      ],
      "metadata": {
        "id": "GB5FjvRdpMlF"
      }
    },
    {
      "cell_type": "code",
      "source": [
        "#OVERSAMPLING\n",
        "\n",
        "print(\"Before OverSampling, counts of label 'Positive': {}\".format(sum(y_train == 'positive')))\n",
        "print(\"Before OverSampling, counts of label 'Negative': {}\".format(sum(y_train == 'negative')))\n",
        "\n",
        "# import SMOTE module from imblearn library\n",
        "# pip install imblearn (if you don't have imblearn in your system)\n",
        "from imblearn.over_sampling import SMOTE\n",
        "sm = SMOTE(random_state = 2)\n",
        "X_train_res, y_train_res = sm.fit_resample(X_train, y_train.ravel())\n",
        "\n",
        "print('After OverSampling, the shape of train_X: {}'.format(X_train_res.shape))\n",
        "print('After OverSampling, the shape of train_y: {} \\n'.format(y_train_res.shape))\n",
        "\n",
        "print(\"After OverSampling, counts of label 'positive': {}\".format(sum(y_train_res == 'positive')))\n",
        "print(\"After OverSampling, counts of label 'negative': {}\".format(sum(y_train_res == 'negative')))"
      ],
      "metadata": {
        "execution": {
          "iopub.status.busy": "2022-11-08T04:34:44.962485Z",
          "iopub.execute_input": "2022-11-08T04:34:44.962792Z",
          "iopub.status.idle": "2022-11-08T04:34:53.551444Z",
          "shell.execute_reply.started": "2022-11-08T04:34:44.962769Z",
          "shell.execute_reply": "2022-11-08T04:34:53.550352Z"
        },
        "trusted": true,
        "id": "dPQQDGlvpMlF",
        "outputId": "ddcdcee3-5bc0-4fd4-e241-9ecd38fe9d06"
      },
      "execution_count": null,
      "outputs": [
        {
          "name": "stdout",
          "text": "Before OverSampling, counts of label 'Positive': 158160\nBefore OverSampling, counts of label 'Negative': 17947\nAfter OverSampling, the shape of train_X: (316320, 51117)\nAfter OverSampling, the shape of train_y: (316320,) \n\nAfter OverSampling, counts of label 'positive': 158160\nAfter OverSampling, counts of label 'negative': 158160\n",
          "output_type": "stream"
        }
      ]
    },
    {
      "cell_type": "markdown",
      "source": [
        "## Naive Bayes"
      ],
      "metadata": {
        "id": "IOaVsN9-pMlG"
      }
    },
    {
      "cell_type": "code",
      "source": [
        "from sklearn.naive_bayes import MultinomialNB  \n",
        "from sklearn.metrics import accuracy_score, precision_score, recall_score, f1_score\n",
        "from sklearn.metrics import classification_report, roc_auc_score\n",
        "from sklearn.metrics import confusion_matrix\n",
        "\n",
        "clf = MultinomialNB().fit(X_train_res, y_train_res)\n",
        "predicted = clf.predict(X_test)\n",
        "print(\"MultinomialNB Accuracy:\" , accuracy_score(y_test,predicted))\n",
        "print(\"MultinomialNB Precision:\" , precision_score(y_test,predicted, average=\"macro\", pos_label=\"negative\" ))\n",
        "print(\"MultinomialNB Recall:\" , recall_score(y_test,predicted, average=\"macro\", pos_label=\"negative\"))\n",
        "print(\"MultinomialNB f1_score:\" , f1_score(y_test,predicted, average=\"macro\", pos_label=\"negative\"))\n",
        "\n",
        "print(f'confusion matrix:\\n {confusion_matrix(y_test, predicted)}')\n",
        "print('================================================\\n') \n",
        "print(classification_report(y_test, predicted, zero_division=0))                  "
      ],
      "metadata": {
        "execution": {
          "iopub.status.busy": "2022-11-08T04:35:01.065165Z",
          "iopub.execute_input": "2022-11-08T04:35:01.065525Z",
          "iopub.status.idle": "2022-11-08T04:35:02.940878Z",
          "shell.execute_reply.started": "2022-11-08T04:35:01.065495Z",
          "shell.execute_reply": "2022-11-08T04:35:02.94006Z"
        },
        "trusted": true,
        "id": "0jRg84-ZpMlM",
        "outputId": "33ee46fc-d352-4596-d35a-e165a3f3ba93"
      },
      "execution_count": null,
      "outputs": [
        {
          "name": "stdout",
          "text": "MultinomialNB Accuracy: 0.8827677841373671\nMultinomialNB Precision: 0.7251774682933378\nMultinomialNB Recall: 0.9004661279762436\nMultinomialNB f1_score: 0.772475781837197\nconfusion matrix:\n [[ 1825   153]\n [ 2141 15449]]\n================================================\n\n              precision    recall  f1-score   support\n\n    negative       0.46      0.92      0.61      1978\n    positive       0.99      0.88      0.93     17590\n\n    accuracy                           0.88     19568\n   macro avg       0.73      0.90      0.77     19568\nweighted avg       0.94      0.88      0.90     19568\n\n",
          "output_type": "stream"
        }
      ]
    },
    {
      "cell_type": "markdown",
      "source": [
        "## SVM"
      ],
      "metadata": {
        "id": "LJcxeNJnpMlN"
      }
    },
    {
      "cell_type": "code",
      "source": [
        "from sklearn import svm\n",
        "\n",
        "clf = svm.SVC(kernel='linear').fit(X_train_res, y_train_res)\n",
        "predicted = clf.predict(X_test)\n",
        "print(\"Support Vector Machine Accuracy:\" , accuracy_score(y_test,predicted))\n",
        "print(\"Support Vector Machine Precision:\" , precision_score(y_test,predicted, average=\"macro\", pos_label=\"negative\" ))\n",
        "print(\"Support Vector Machine Recall:\" , recall_score(y_test,predicted, average=\"macro\", pos_label=\"negative\"))\n",
        "print(\"Support Vector Machine f1_score:\" , f1_score(y_test,predicted, average=\"macro\", pos_label=\"negative\"))\n",
        "\n",
        "print(f'confusion matrix:\\n {confusion_matrix(y_test, predicted)}')\n",
        "print('================================================\\n') \n",
        "print(classification_report(y_test, predicted, zero_division=0))  "
      ],
      "metadata": {
        "execution": {
          "iopub.status.busy": "2022-11-08T04:35:08.69329Z",
          "iopub.execute_input": "2022-11-08T04:35:08.693641Z"
        },
        "trusted": true,
        "id": "5FnM_3M0pMlO"
      },
      "execution_count": null,
      "outputs": []
    },
    {
      "cell_type": "markdown",
      "source": [
        "## Random Forest"
      ],
      "metadata": {
        "id": "dXC9DvvYpMlO"
      }
    },
    {
      "cell_type": "code",
      "source": [
        "from sklearn.ensemble import RandomForestClassifier\n",
        "\n",
        "clf = RandomForestClassifier().fit(X_train_res, y_train_res)\n",
        "predicted = clf.predict(X_test)\n",
        "print(\"Random Forest Accuracy:\" , accuracy_score(y_test,predicted))\n",
        "print(\"Random Forest Precision:\" , precision_score(y_test,predicted, average=\"macro\", pos_label=\"negative\" ))\n",
        "print(\"Random Forest Recall:\" , recall_score(y_test,predicted, average=\"macro\", pos_label=\"negative\"))\n",
        "print(\"Random Forest f1_score:\" , f1_score(y_test,predicted, average=\"macro\", pos_label=\"negative\"))\n",
        "\n",
        "print(f'confusion matrix:\\n {confusion_matrix(y_test, predicted)}')\n",
        "print('================================================\\n') \n",
        "print(classification_report(y_test, predicted, zero_division=0))  "
      ],
      "metadata": {
        "trusted": true,
        "id": "w0qYLpIRpMlO"
      },
      "execution_count": null,
      "outputs": []
    }
  ]
}