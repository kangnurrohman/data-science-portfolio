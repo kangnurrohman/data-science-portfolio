{
  "metadata": {
    "kernelspec": {
      "language": "python",
      "display_name": "Python 3",
      "name": "python3"
    },
    "language_info": {
      "name": "python",
      "version": "3.7.12",
      "mimetype": "text/x-python",
      "codemirror_mode": {
        "name": "ipython",
        "version": 3
      },
      "pygments_lexer": "ipython3",
      "nbconvert_exporter": "python",
      "file_extension": ".py"
    },
    "colab": {
      "provenance": [],
      "include_colab_link": true
    }
  },
  "nbformat_minor": 0,
  "nbformat": 4,
  "cells": [
    {
      "cell_type": "markdown",
      "metadata": {
        "id": "view-in-github",
        "colab_type": "text"
      },
      "source": [
        "<a href=\"https://colab.research.google.com/github/kangnurrohman/sentiment-analysis-projects/blob/main/src/sentiment-analysis-using-cnn-on-financials-news.ipynb\" target=\"_parent\"><img src=\"https://colab.research.google.com/assets/colab-badge.svg\" alt=\"Open In Colab\"/></a>"
      ]
    },
    {
      "source": [
        "<a href=\"https://www.kaggle.com/code/ainurrohmanbwx/sentiment-analysis-using-cnn-on-financials-news?scriptVersionId=123769775\" target=\"_blank\"><img align=\"left\" alt=\"Kaggle\" title=\"Open in Kaggle\" src=\"https://kaggle.com/static/images/open-in-kaggle.svg\"></a>"
      ],
      "metadata": {
        "id": "4nRC-YzRWQot"
      },
      "cell_type": "markdown"
    },
    {
      "cell_type": "markdown",
      "source": [
        "# Abstrak\n",
        "\n",
        "This experiment presents on sentiment analysis using a convolutional neural network (CNN) applied to financial news. The objective of the experiment was to classify news articles as either positive and negative sentiment based on their content. The dataset used in the experiment consisted of a collection of financial news articles. The CNN model was trained on this dataset and achieved an accuracy of 86.80%, precision of 85.36%, recall of 84.15%, and an F1-score of 84.70%. These results demonstrate the effectiveness of the CNN approach in sentiment analysis on financial news, and suggest that it could be a valuable tool for financial decision-making and trading strategies. Overall, this experiment provides insights into the potential applications of CNNs in sentiment analysis and contributes in this area."
      ],
      "metadata": {
        "id": "Eio5fTJQWQo-"
      }
    },
    {
      "cell_type": "markdown",
      "source": [
        "# Introduction\n",
        "\n",
        "Sentiment analysis is the process of determining the emotional tone of a piece of text, and it has become increasingly important in today's fast-paced digital world. One area where sentiment analysis is particularly relevant is in financial news, where accurate and timely information can mean the difference between success and failure. In recent years, convolutional neural networks (CNNs) have emerged as a powerful tool for sentiment analysis, thanks to their ability to learn complex patterns and relationships in large datasets. In this context, using CNNs for sentiment analysis on financial news has become a promising area of research, with the potential to improve financial decision-making and create more effective trading strategies. In this experiment, we will explore the basics of sentiment analysis and how it can be applied to financial news using CNNs."
      ],
      "metadata": {
        "id": "TfWqNVTTWQpC"
      }
    },
    {
      "cell_type": "markdown",
      "source": [
        "# Literature review\n",
        "\n",
        "Convolutional Neural Networks (CNNs) are a popular type of deep learning model used for image and video processing, natural language processing, and speech recognition. Here are some of the pros and cons of using CNNs:\n",
        "\n",
        "Pros:\n",
        "\n",
        "* Highly effective at image recognition: CNNs can accurately classify and segment images, even when the images are complex and contain multiple objects or backgrounds.\n",
        "* Efficient at processing large datasets: CNNs can be trained on large datasets without overfitting, making them useful for big data applications.\n",
        "* Robust to image variation: CNNs can recognize images even when they are rotated, scaled, or partially occluded, making them useful for real-world applications.\n",
        "* Can be fine-tuned: CNNs can be fine-tuned to work well on specific tasks, such as object detection, face recognition, or speech recognition.\n",
        "* Automates feature extraction: CNNs can automatically extract relevant features from images, reducing the need for manual feature engineering.\n",
        "\n",
        "Cons:\n",
        "\n",
        "* Requires large datasets: CNNs require large amounts of labeled data to be trained effectively, which can be expensive and time-consuming to obtain.\n",
        "* Computationally expensive: CNNs can be computationally expensive to train and require powerful hardware, such as GPUs or TPUs.\n",
        "* Difficult to interpret: CNNs are often considered as \"black box\" models, as it is difficult to understand how they make their predictions, making them unsuitable for some applications where interpretability is important.\n",
        "* Sensitivity to hyperparameters: CNNs require a lot of tuning of hyperparameters to obtain optimal performance, which can be challenging and time-consuming.\n",
        "* Limited to structured data: CNNs are best suited for structured data, such as images or speech signals, and may not be suitable for other types of data, such as unstructured text data."
      ],
      "metadata": {
        "id": "Z2nvvrbOWQpG"
      }
    },
    {
      "cell_type": "markdown",
      "source": [
        "# Experiment"
      ],
      "metadata": {
        "id": "8ckZM1TbWQpM"
      }
    },
    {
      "cell_type": "markdown",
      "source": [
        "## Install libary"
      ],
      "metadata": {
        "id": "gOWst8r3WQpO"
      }
    },
    {
      "cell_type": "code",
      "source": [
        "!pip install contractions\n",
        "\n",
        "import warnings\n",
        "warnings.filterwarnings('ignore')"
      ],
      "metadata": {
        "execution": {
          "iopub.status.busy": "2023-03-29T03:00:53.815113Z",
          "iopub.execute_input": "2023-03-29T03:00:53.816125Z",
          "iopub.status.idle": "2023-03-29T03:01:05.076274Z",
          "shell.execute_reply.started": "2023-03-29T03:00:53.816047Z",
          "shell.execute_reply": "2023-03-29T03:01:05.074764Z"
        },
        "trusted": true,
        "id": "RRiXqHknWQpQ",
        "outputId": "18dd8f0c-4a18-44c7-c5b0-abe05356e8cf"
      },
      "execution_count": null,
      "outputs": [
        {
          "name": "stdout",
          "text": "Requirement already satisfied: contractions in /opt/conda/lib/python3.7/site-packages (0.1.73)\nRequirement already satisfied: textsearch>=0.0.21 in /opt/conda/lib/python3.7/site-packages (from contractions) (0.0.24)\nRequirement already satisfied: pyahocorasick in /opt/conda/lib/python3.7/site-packages (from textsearch>=0.0.21->contractions) (2.0.0)\nRequirement already satisfied: anyascii in /opt/conda/lib/python3.7/site-packages (from textsearch>=0.0.21->contractions) (0.3.2)\n\u001b[33mWARNING: Running pip as the 'root' user can result in broken permissions and conflicting behaviour with the system package manager. It is recommended to use a virtual environment instead: https://pip.pypa.io/warnings/venv\u001b[0m\u001b[33m\n\u001b[0m",
          "output_type": "stream"
        }
      ]
    },
    {
      "cell_type": "markdown",
      "source": [
        "## Load data"
      ],
      "metadata": {
        "id": "EJUrrPvpWQpa"
      }
    },
    {
      "cell_type": "code",
      "source": [
        "import pandas as pd\n",
        "\n",
        "df = pd.read_csv('/kaggle/input/sentiment-analysis-for-financial-news/all-data.csv', delimiter=',', encoding='latin-1', header=None)\n",
        "df = df.rename(columns=lambda x: ['Sentiment', 'Sentence'][x])\n",
        "df.info()"
      ],
      "metadata": {
        "execution": {
          "iopub.status.busy": "2023-03-29T03:01:05.079135Z",
          "iopub.execute_input": "2023-03-29T03:01:05.081187Z",
          "iopub.status.idle": "2023-03-29T03:01:05.121638Z",
          "shell.execute_reply.started": "2023-03-29T03:01:05.081134Z",
          "shell.execute_reply": "2023-03-29T03:01:05.120026Z"
        },
        "trusted": true,
        "id": "eNjGAaspWQpe",
        "outputId": "7a54abb7-c1f5-4a71-8b1a-e0e262e3e1d8"
      },
      "execution_count": null,
      "outputs": [
        {
          "name": "stdout",
          "text": "<class 'pandas.core.frame.DataFrame'>\nRangeIndex: 4846 entries, 0 to 4845\nData columns (total 2 columns):\n #   Column     Non-Null Count  Dtype \n---  ------     --------------  ----- \n 0   Sentiment  4846 non-null   object\n 1   Sentence   4846 non-null   object\ndtypes: object(2)\nmemory usage: 75.8+ KB\n",
          "output_type": "stream"
        }
      ]
    },
    {
      "cell_type": "code",
      "source": [
        "df = df[['Sentence', 'Sentiment']]\n",
        "df.head()"
      ],
      "metadata": {
        "execution": {
          "iopub.status.busy": "2023-03-29T03:01:05.123489Z",
          "iopub.execute_input": "2023-03-29T03:01:05.123981Z",
          "iopub.status.idle": "2023-03-29T03:01:05.13911Z",
          "shell.execute_reply.started": "2023-03-29T03:01:05.123929Z",
          "shell.execute_reply": "2023-03-29T03:01:05.137895Z"
        },
        "trusted": true,
        "id": "bGDT7H3LWQph",
        "outputId": "1f64f6fb-9217-4ca8-d32c-cb86ef7c4d54"
      },
      "execution_count": null,
      "outputs": [
        {
          "execution_count": 38,
          "output_type": "execute_result",
          "data": {
            "text/plain": "                                            Sentence Sentiment\n0  According to Gran , the company has no plans t...   neutral\n1  Technopolis plans to develop in stages an area...   neutral\n2  The international electronic industry company ...  negative\n3  With the new production plant the company woul...  positive\n4  According to the company 's updated strategy f...  positive",
            "text/html": "<div>\n<style scoped>\n    .dataframe tbody tr th:only-of-type {\n        vertical-align: middle;\n    }\n\n    .dataframe tbody tr th {\n        vertical-align: top;\n    }\n\n    .dataframe thead th {\n        text-align: right;\n    }\n</style>\n<table border=\"1\" class=\"dataframe\">\n  <thead>\n    <tr style=\"text-align: right;\">\n      <th></th>\n      <th>Sentence</th>\n      <th>Sentiment</th>\n    </tr>\n  </thead>\n  <tbody>\n    <tr>\n      <th>0</th>\n      <td>According to Gran , the company has no plans t...</td>\n      <td>neutral</td>\n    </tr>\n    <tr>\n      <th>1</th>\n      <td>Technopolis plans to develop in stages an area...</td>\n      <td>neutral</td>\n    </tr>\n    <tr>\n      <th>2</th>\n      <td>The international electronic industry company ...</td>\n      <td>negative</td>\n    </tr>\n    <tr>\n      <th>3</th>\n      <td>With the new production plant the company woul...</td>\n      <td>positive</td>\n    </tr>\n    <tr>\n      <th>4</th>\n      <td>According to the company 's updated strategy f...</td>\n      <td>positive</td>\n    </tr>\n  </tbody>\n</table>\n</div>"
          },
          "metadata": {}
        }
      ]
    },
    {
      "cell_type": "markdown",
      "source": [
        "## Exploratory data analysis"
      ],
      "metadata": {
        "id": "IASVJRV4WQpk"
      }
    },
    {
      "cell_type": "code",
      "source": [
        "df = df[df.Sentiment != \"neutral\"]\n",
        "df.head()"
      ],
      "metadata": {
        "execution": {
          "iopub.status.busy": "2023-03-29T03:01:05.142933Z",
          "iopub.execute_input": "2023-03-29T03:01:05.143414Z",
          "iopub.status.idle": "2023-03-29T03:01:05.15726Z",
          "shell.execute_reply.started": "2023-03-29T03:01:05.143362Z",
          "shell.execute_reply": "2023-03-29T03:01:05.156195Z"
        },
        "trusted": true,
        "id": "SuyOOZI2WQpm",
        "outputId": "71b0e2b5-c0f4-4659-9a65-895a56f22aff"
      },
      "execution_count": null,
      "outputs": [
        {
          "execution_count": 39,
          "output_type": "execute_result",
          "data": {
            "text/plain": "                                            Sentence Sentiment\n2  The international electronic industry company ...  negative\n3  With the new production plant the company woul...  positive\n4  According to the company 's updated strategy f...  positive\n5  FINANCING OF ASPOCOMP 'S GROWTH Aspocomp is ag...  positive\n6  For the last quarter of 2010 , Componenta 's n...  positive",
            "text/html": "<div>\n<style scoped>\n    .dataframe tbody tr th:only-of-type {\n        vertical-align: middle;\n    }\n\n    .dataframe tbody tr th {\n        vertical-align: top;\n    }\n\n    .dataframe thead th {\n        text-align: right;\n    }\n</style>\n<table border=\"1\" class=\"dataframe\">\n  <thead>\n    <tr style=\"text-align: right;\">\n      <th></th>\n      <th>Sentence</th>\n      <th>Sentiment</th>\n    </tr>\n  </thead>\n  <tbody>\n    <tr>\n      <th>2</th>\n      <td>The international electronic industry company ...</td>\n      <td>negative</td>\n    </tr>\n    <tr>\n      <th>3</th>\n      <td>With the new production plant the company woul...</td>\n      <td>positive</td>\n    </tr>\n    <tr>\n      <th>4</th>\n      <td>According to the company 's updated strategy f...</td>\n      <td>positive</td>\n    </tr>\n    <tr>\n      <th>5</th>\n      <td>FINANCING OF ASPOCOMP 'S GROWTH Aspocomp is ag...</td>\n      <td>positive</td>\n    </tr>\n    <tr>\n      <th>6</th>\n      <td>For the last quarter of 2010 , Componenta 's n...</td>\n      <td>positive</td>\n    </tr>\n  </tbody>\n</table>\n</div>"
          },
          "metadata": {}
        }
      ]
    },
    {
      "cell_type": "code",
      "source": [
        "df.info()"
      ],
      "metadata": {
        "execution": {
          "iopub.status.busy": "2023-03-29T03:01:05.158933Z",
          "iopub.execute_input": "2023-03-29T03:01:05.159379Z",
          "iopub.status.idle": "2023-03-29T03:01:05.176705Z",
          "shell.execute_reply.started": "2023-03-29T03:01:05.15934Z",
          "shell.execute_reply": "2023-03-29T03:01:05.175449Z"
        },
        "trusted": true,
        "id": "ZlOgA_rxWQpo",
        "outputId": "49cb7261-d057-4601-cd1e-60ea7c8a608e"
      },
      "execution_count": null,
      "outputs": [
        {
          "name": "stdout",
          "text": "<class 'pandas.core.frame.DataFrame'>\nInt64Index: 1967 entries, 2 to 4845\nData columns (total 2 columns):\n #   Column     Non-Null Count  Dtype \n---  ------     --------------  ----- \n 0   Sentence   1967 non-null   object\n 1   Sentiment  1967 non-null   object\ndtypes: object(2)\nmemory usage: 46.1+ KB\n",
          "output_type": "stream"
        }
      ]
    },
    {
      "cell_type": "markdown",
      "source": [
        "### Sentiment distribution"
      ],
      "metadata": {
        "id": "f4OvQIZZWQpq"
      }
    },
    {
      "cell_type": "code",
      "source": [
        "import seaborn as sns\n",
        "import matplotlib.pyplot as plt\n",
        "\n",
        "sentiment = df['Sentiment'].value_counts()\n",
        "plt.figure(figsize=(12,4))\n",
        "sns.barplot(x=sentiment.index, y=sentiment.values, alpha=0.8)\n",
        "plt.ylabel('Number of Occurrences', fontsize=12)\n",
        "plt.xlabel('sentiment', fontsize=12)\n",
        "plt.xticks(rotation=90)\n",
        "plt.show();"
      ],
      "metadata": {
        "execution": {
          "iopub.status.busy": "2023-03-29T03:01:05.178492Z",
          "iopub.execute_input": "2023-03-29T03:01:05.17884Z",
          "iopub.status.idle": "2023-03-29T03:01:05.41013Z",
          "shell.execute_reply.started": "2023-03-29T03:01:05.178805Z",
          "shell.execute_reply": "2023-03-29T03:01:05.409266Z"
        },
        "trusted": true,
        "id": "V4a8n3oTWQpr",
        "outputId": "a2aaf9d7-ad26-423c-94da-d5a01aca09c9"
      },
      "execution_count": null,
      "outputs": [
        {
          "output_type": "display_data",
          "data": {
            "text/plain": "<Figure size 1200x400 with 1 Axes>",
            "image/png": "[encoded data removed]"
          },
          "metadata": {}
        }
      ]
    },
    {
      "cell_type": "markdown",
      "source": [
        "## Data preparation"
      ],
      "metadata": {
        "id": "4JpMF4PWWQps"
      }
    },
    {
      "cell_type": "markdown",
      "source": [
        "### Data cleaning"
      ],
      "metadata": {
        "id": "iMqEHCxfWQpu"
      }
    },
    {
      "cell_type": "code",
      "source": [
        "from bs4 import BeautifulSoup\n",
        "\n",
        "def strip_html_tags(text):\n",
        "  soup = BeautifulSoup(text, \"html.parser\")\n",
        "  [s.extract() for s in soup(['iframe', 'script'])]\n",
        "  stripped_text = soup.get_text()\n",
        "  stripped_text = re.sub(r'[\\r|\\n|\\r\\n]+', '\\n', stripped_text)\n",
        "  return stripped_text\n",
        "\n",
        "def remove_accented_chars(text):\n",
        "  text = unicodedata.normalize('NFKD', text).encode('ascii', 'ignore').decode('utf-8', 'ignore')\n",
        "  return text\n",
        "\n",
        "def stopwords_removal(words):\n",
        "    list_stopwords = nltk.corpus.stopwords.words('english')\n",
        "    return [word for word in words if word not in list_stopwords]"
      ],
      "metadata": {
        "execution": {
          "iopub.status.busy": "2023-03-29T03:01:05.411301Z",
          "iopub.execute_input": "2023-03-29T03:01:05.412413Z",
          "iopub.status.idle": "2023-03-29T03:01:05.421512Z",
          "shell.execute_reply.started": "2023-03-29T03:01:05.412375Z",
          "shell.execute_reply": "2023-03-29T03:01:05.419741Z"
        },
        "trusted": true,
        "id": "dw71BlwIWQpv"
      },
      "execution_count": null,
      "outputs": []
    },
    {
      "cell_type": "code",
      "source": [
        "import re\n",
        "import nltk\n",
        "import tqdm\n",
        "import unicodedata\n",
        "import contractions\n",
        "\n",
        "from nltk.tokenize import word_tokenize\n",
        "\n",
        "def pre_process_corpus(docs):\n",
        "  norm_docs = []\n",
        "  for doc in tqdm.tqdm(docs):\n",
        "    #case folding\n",
        "    doc = doc.lower()\n",
        "    #remove special characters\\whitespaces\n",
        "    doc = strip_html_tags(doc)\n",
        "    doc = doc.translate(doc.maketrans(\"\\n\\t\\r\", \"   \"))\n",
        "    doc = remove_accented_chars(doc)\n",
        "    doc = contractions.fix(doc)\n",
        "    doc = re.sub(r'[^a-zA-Z0-9\\s]', '', doc, re.I|re.A)\n",
        "    doc = re.sub(' +', ' ', doc)\n",
        "    doc = doc.strip()\n",
        "    #tokenize\n",
        "    doc = word_tokenize(doc)\n",
        "    #filtering\n",
        "    doc = stopwords_removal(doc)\n",
        "    norm_docs.append(doc)\n",
        "  \n",
        "  norm_docs = [\" \".join(word) for word in norm_docs]\n",
        "  return norm_docs"
      ],
      "metadata": {
        "execution": {
          "iopub.status.busy": "2023-03-29T03:01:05.423053Z",
          "iopub.execute_input": "2023-03-29T03:01:05.42397Z",
          "iopub.status.idle": "2023-03-29T03:01:05.435493Z",
          "shell.execute_reply.started": "2023-03-29T03:01:05.42393Z",
          "shell.execute_reply": "2023-03-29T03:01:05.434528Z"
        },
        "trusted": true,
        "id": "Bq4Oi-JDWQpx"
      },
      "execution_count": null,
      "outputs": []
    },
    {
      "cell_type": "code",
      "source": [
        "%%time\n",
        "df.Sentence = pre_process_corpus(df.Sentence)"
      ],
      "metadata": {
        "execution": {
          "iopub.status.busy": "2023-03-29T03:01:05.436787Z",
          "iopub.execute_input": "2023-03-29T03:01:05.437914Z",
          "iopub.status.idle": "2023-03-29T03:01:06.733662Z",
          "shell.execute_reply.started": "2023-03-29T03:01:05.437864Z",
          "shell.execute_reply": "2023-03-29T03:01:06.732467Z"
        },
        "trusted": true,
        "id": "mk5eBG8CWQpy",
        "outputId": "812eb615-bf47-4df0-9c89-d57e8fe3b963"
      },
      "execution_count": null,
      "outputs": [
        {
          "name": "stderr",
          "text": "100%|██████████| 1967/1967 [00:01<00:00, 1539.15it/s]",
          "output_type": "stream"
        },
        {
          "name": "stdout",
          "text": "CPU times: user 1.23 s, sys: 55.5 ms, total: 1.29 s\nWall time: 1.28 s\n",
          "output_type": "stream"
        },
        {
          "name": "stderr",
          "text": "\n",
          "output_type": "stream"
        }
      ]
    },
    {
      "cell_type": "code",
      "source": [
        "df.head()"
      ],
      "metadata": {
        "execution": {
          "iopub.status.busy": "2023-03-29T03:01:06.73949Z",
          "iopub.execute_input": "2023-03-29T03:01:06.740201Z",
          "iopub.status.idle": "2023-03-29T03:01:06.75096Z",
          "shell.execute_reply.started": "2023-03-29T03:01:06.740153Z",
          "shell.execute_reply": "2023-03-29T03:01:06.750004Z"
        },
        "trusted": true,
        "id": "nphEXLHwWQpz",
        "outputId": "334ce9a4-0330-4b28-b3d4-7418563a3759"
      },
      "execution_count": null,
      "outputs": [
        {
          "execution_count": 45,
          "output_type": "execute_result",
          "data": {
            "text/plain": "                                            Sentence Sentiment\n2  international electronic industry company elco...  negative\n3  new production plant company would increase ca...  positive\n4  according company updated strategy years 20092...  positive\n5  financing aspocomp growth aspocomp aggressivel...  positive\n6  last quarter 2010 componenta net sales doubled...  positive",
            "text/html": "<div>\n<style scoped>\n    .dataframe tbody tr th:only-of-type {\n        vertical-align: middle;\n    }\n\n    .dataframe tbody tr th {\n        vertical-align: top;\n    }\n\n    .dataframe thead th {\n        text-align: right;\n    }\n</style>\n<table border=\"1\" class=\"dataframe\">\n  <thead>\n    <tr style=\"text-align: right;\">\n      <th></th>\n      <th>Sentence</th>\n      <th>Sentiment</th>\n    </tr>\n  </thead>\n  <tbody>\n    <tr>\n      <th>2</th>\n      <td>international electronic industry company elco...</td>\n      <td>negative</td>\n    </tr>\n    <tr>\n      <th>3</th>\n      <td>new production plant company would increase ca...</td>\n      <td>positive</td>\n    </tr>\n    <tr>\n      <th>4</th>\n      <td>according company updated strategy years 20092...</td>\n      <td>positive</td>\n    </tr>\n    <tr>\n      <th>5</th>\n      <td>financing aspocomp growth aspocomp aggressivel...</td>\n      <td>positive</td>\n    </tr>\n    <tr>\n      <th>6</th>\n      <td>last quarter 2010 componenta net sales doubled...</td>\n      <td>positive</td>\n    </tr>\n  </tbody>\n</table>\n</div>"
          },
          "metadata": {}
        }
      ]
    },
    {
      "cell_type": "markdown",
      "source": [
        "### Handling imbalance (oversampling)"
      ],
      "metadata": {
        "id": "vqOGbCq6WQp1"
      }
    },
    {
      "cell_type": "code",
      "source": [
        "from sklearn.utils import resample\n",
        "# Separate majority and minority classes in training data for upsampling \n",
        "data_majority = df[df['Sentiment'] == \"positive\"]\n",
        "data_minority = df[df['Sentiment'] == \"negative\"]\n",
        "\n",
        "print(\"majority class before upsample:\",data_majority.shape)\n",
        "print(\"minority class before upsample:\",data_minority.shape)\n",
        "\n",
        "# Upsample minority class\n",
        "data_minority_upsampled = resample(data_minority, \n",
        "                                 replace=True,     # sample with replacement\n",
        "                                 n_samples= data_majority.shape[0],    # to match majority class\n",
        "                                 random_state=123) # reproducible results\n",
        " \n",
        "# Combine majority class with upsampled minority class\n",
        "df_balance = pd.concat([data_majority, data_minority_upsampled])\n",
        " \n",
        "# Display new class counts\n",
        "print(\"After upsampling\\n\",df_balance.Sentiment.value_counts(),sep = \"\")"
      ],
      "metadata": {
        "execution": {
          "iopub.status.busy": "2023-03-29T03:01:06.751999Z",
          "iopub.execute_input": "2023-03-29T03:01:06.752336Z",
          "iopub.status.idle": "2023-03-29T03:01:06.767899Z",
          "shell.execute_reply.started": "2023-03-29T03:01:06.752303Z",
          "shell.execute_reply": "2023-03-29T03:01:06.766416Z"
        },
        "trusted": true,
        "id": "633zeoAjWQp1",
        "outputId": "b3e94878-1f7d-4a7b-8c6f-447fb66d697a"
      },
      "execution_count": null,
      "outputs": [
        {
          "name": "stdout",
          "text": "majority class before upsample: (1363, 2)\nminority class before upsample: (604, 2)\nAfter upsampling\npositive    1363\nnegative    1363\nName: Sentiment, dtype: int64\n",
          "output_type": "stream"
        }
      ]
    },
    {
      "cell_type": "markdown",
      "source": [
        "### Data splitting"
      ],
      "metadata": {
        "id": "-XMcyooOWQp3"
      }
    },
    {
      "cell_type": "code",
      "source": [
        "from sklearn.model_selection import train_test_split\n",
        "\n",
        "X_train, X_test, y_train, y_test = train_test_split(df.Sentence, df.Sentiment, test_size=0.1, random_state=42)\n",
        "X_train.shape , X_test.shape, y_train.shape, y_test.shape"
      ],
      "metadata": {
        "execution": {
          "iopub.status.busy": "2023-03-29T03:01:06.769115Z",
          "iopub.execute_input": "2023-03-29T03:01:06.769451Z",
          "iopub.status.idle": "2023-03-29T03:01:06.780072Z",
          "shell.execute_reply.started": "2023-03-29T03:01:06.769414Z",
          "shell.execute_reply": "2023-03-29T03:01:06.779066Z"
        },
        "trusted": true,
        "id": "lRAVa1ZPWQp4",
        "outputId": "9a20b308-5d35-49b6-9192-d0a796bc63b9"
      },
      "execution_count": null,
      "outputs": [
        {
          "execution_count": 47,
          "output_type": "execute_result",
          "data": {
            "text/plain": "((1770,), (197,), (1770,), (197,))"
          },
          "metadata": {}
        }
      ]
    },
    {
      "cell_type": "markdown",
      "source": [
        "### Tokenizer"
      ],
      "metadata": {
        "id": "xSQFtJkGWQp5"
      }
    },
    {
      "cell_type": "code",
      "source": [
        "from tensorflow.keras.preprocessing.text import Tokenizer\n",
        "\n",
        "token = Tokenizer()\n",
        "token.fit_on_texts(X_train)"
      ],
      "metadata": {
        "execution": {
          "iopub.status.busy": "2023-03-29T03:01:06.78168Z",
          "iopub.execute_input": "2023-03-29T03:01:06.782307Z",
          "iopub.status.idle": "2023-03-29T03:01:06.838915Z",
          "shell.execute_reply.started": "2023-03-29T03:01:06.78227Z",
          "shell.execute_reply": "2023-03-29T03:01:06.837504Z"
        },
        "trusted": true,
        "id": "u0jGmgZZWQp6"
      },
      "execution_count": null,
      "outputs": []
    },
    {
      "cell_type": "code",
      "source": [
        "vocab = len(token.index_word) + 1\n",
        "print(\"Vocabulary size={}\".format(len(token.word_index)))\n",
        "print(\"Number of Documents={}\".format(token.document_count))"
      ],
      "metadata": {
        "execution": {
          "iopub.status.busy": "2023-03-29T03:01:06.840802Z",
          "iopub.execute_input": "2023-03-29T03:01:06.841386Z",
          "iopub.status.idle": "2023-03-29T03:01:06.848992Z",
          "shell.execute_reply.started": "2023-03-29T03:01:06.841345Z",
          "shell.execute_reply": "2023-03-29T03:01:06.847894Z"
        },
        "trusted": true,
        "id": "sNU1xD6KWQp6",
        "outputId": "a22cd72f-0a91-4ecf-d4ac-04fbcaa8687a"
      },
      "execution_count": null,
      "outputs": [
        {
          "name": "stdout",
          "text": "Vocabulary size=5732\nNumber of Documents=1770\n",
          "output_type": "stream"
        }
      ]
    },
    {
      "cell_type": "markdown",
      "source": [
        "### Sequence"
      ],
      "metadata": {
        "id": "2KrUa0RcWQp7"
      }
    },
    {
      "cell_type": "code",
      "source": [
        "X_train = token.texts_to_sequences(X_train)\n",
        "X_test = token.texts_to_sequences(X_test)"
      ],
      "metadata": {
        "execution": {
          "iopub.status.busy": "2023-03-29T03:01:06.850785Z",
          "iopub.execute_input": "2023-03-29T03:01:06.851567Z",
          "iopub.status.idle": "2023-03-29T03:01:06.894998Z",
          "shell.execute_reply.started": "2023-03-29T03:01:06.851518Z",
          "shell.execute_reply": "2023-03-29T03:01:06.89366Z"
        },
        "trusted": true,
        "id": "gJvcxA4hWQp8"
      },
      "execution_count": null,
      "outputs": []
    },
    {
      "cell_type": "code",
      "source": [
        "%matplotlib inline\n",
        "\n",
        "train_lens = [len(s) for s in X_train]\n",
        "test_lens = [len(s) for s in X_test]\n",
        "\n",
        "fig, ax = plt.subplots(1,2, figsize=(12, 6))\n",
        "h1 = ax[0].hist(train_lens)\n",
        "h2 = ax[1].hist(test_lens)"
      ],
      "metadata": {
        "execution": {
          "iopub.status.busy": "2023-03-29T03:01:06.89664Z",
          "iopub.execute_input": "2023-03-29T03:01:06.897074Z",
          "iopub.status.idle": "2023-03-29T03:01:07.29547Z",
          "shell.execute_reply.started": "2023-03-29T03:01:06.897026Z",
          "shell.execute_reply": "2023-03-29T03:01:07.294238Z"
        },
        "trusted": true,
        "id": "_IwxRV38WQp9",
        "outputId": "aed55eaa-ca7f-4bef-936e-19e759ad7dc9"
      },
      "execution_count": null,
      "outputs": [
        {
          "output_type": "display_data",
          "data": {
            "text/plain": "<Figure size 1200x600 with 2 Axes>",
            "image/png": "[encoded data removed]"
          },
          "metadata": {}
        }
      ]
    },
    {
      "cell_type": "code",
      "source": [
        "from tensorflow.keras.preprocessing.sequence import pad_sequences\n",
        "\n",
        "#padding\n",
        "MAX_SEQUENCE_LENGTH = 30\n",
        "X_train = pad_sequences(X_train, maxlen=MAX_SEQUENCE_LENGTH, padding=\"post\")\n",
        "X_test = pad_sequences(X_test, maxlen=MAX_SEQUENCE_LENGTH, padding=\"post\")\n",
        "X_train.shape, X_test.shape"
      ],
      "metadata": {
        "execution": {
          "iopub.status.busy": "2023-03-29T03:01:07.296746Z",
          "iopub.execute_input": "2023-03-29T03:01:07.29707Z",
          "iopub.status.idle": "2023-03-29T03:01:07.314306Z",
          "shell.execute_reply.started": "2023-03-29T03:01:07.297038Z",
          "shell.execute_reply": "2023-03-29T03:01:07.313124Z"
        },
        "trusted": true,
        "id": "exLc4Sz7WQp-",
        "outputId": "5ae88102-51b5-4294-ed96-9f0a845b15c2"
      },
      "execution_count": null,
      "outputs": [
        {
          "execution_count": 52,
          "output_type": "execute_result",
          "data": {
            "text/plain": "((1770, 30), (197, 30))"
          },
          "metadata": {}
        }
      ]
    },
    {
      "cell_type": "markdown",
      "source": [
        "### Encoding Labels"
      ],
      "metadata": {
        "id": "FBB_8yybWQp_"
      }
    },
    {
      "cell_type": "code",
      "source": [
        "from sklearn.preprocessing import LabelEncoder\n",
        "\n",
        "le = LabelEncoder()\n",
        "num_classes=2 # positive -> 1, negative -> 0"
      ],
      "metadata": {
        "execution": {
          "iopub.status.busy": "2023-03-29T03:01:07.316115Z",
          "iopub.execute_input": "2023-03-29T03:01:07.319367Z",
          "iopub.status.idle": "2023-03-29T03:01:07.32455Z",
          "shell.execute_reply.started": "2023-03-29T03:01:07.319322Z",
          "shell.execute_reply": "2023-03-29T03:01:07.323241Z"
        },
        "trusted": true,
        "id": "TaIkdolXWQqA"
      },
      "execution_count": null,
      "outputs": []
    },
    {
      "cell_type": "code",
      "source": [
        "y_train = le.fit_transform(y_train)\n",
        "y_test = le.transform(y_test)"
      ],
      "metadata": {
        "execution": {
          "iopub.status.busy": "2023-03-29T03:01:07.328069Z",
          "iopub.execute_input": "2023-03-29T03:01:07.328412Z",
          "iopub.status.idle": "2023-03-29T03:01:07.33787Z",
          "shell.execute_reply.started": "2023-03-29T03:01:07.328377Z",
          "shell.execute_reply": "2023-03-29T03:01:07.336824Z"
        },
        "trusted": true,
        "id": "sSgGZdrXWQqC"
      },
      "execution_count": null,
      "outputs": []
    },
    {
      "cell_type": "markdown",
      "source": [
        "## Modelling"
      ],
      "metadata": {
        "id": "xcg7gIjmWQqD"
      }
    },
    {
      "cell_type": "markdown",
      "source": [
        "### Build model"
      ],
      "metadata": {
        "id": "mxa80ZcjWQqE"
      }
    },
    {
      "cell_type": "code",
      "source": [
        "import tensorflow as tf \n",
        "\n",
        "from tensorflow.keras.models import Sequential\n",
        "from tensorflow.keras.layers import Dense, Embedding, Activation, Dropout\n",
        "from tensorflow.keras.layers import Conv1D, MaxPooling1D, GlobalMaxPooling1D \n",
        "\n",
        "vec_size = 300\n",
        "model = Sequential()\n",
        "model.add(Embedding(vocab, vec_size, input_length=MAX_SEQUENCE_LENGTH))\n",
        "model.add(Conv1D(64,8, activation=\"relu\"))\n",
        "model.add(MaxPooling1D(2))\n",
        "model.add(Dropout(0.1))\n",
        "\n",
        "model.add(Dense(8, activation=\"relu\"))\n",
        "model.add(Dropout(0.1))\n",
        "model.add(Dense(4, activation='relu'))\n",
        "model.add(Dropout(0.1))\n",
        "model.add(GlobalMaxPooling1D())\n",
        "model.add(Dense(1, activation='sigmoid'))\n",
        "\n",
        "model.compile(loss='binary_crossentropy', optimizer=tf.optimizers.Adam(learning_rate=0.0001), metrics=['accuracy'])\n",
        "model.summary()"
      ],
      "metadata": {
        "execution": {
          "iopub.status.busy": "2023-03-29T03:01:07.339504Z",
          "iopub.execute_input": "2023-03-29T03:01:07.339827Z",
          "iopub.status.idle": "2023-03-29T03:01:07.52441Z",
          "shell.execute_reply.started": "2023-03-29T03:01:07.339794Z",
          "shell.execute_reply": "2023-03-29T03:01:07.523054Z"
        },
        "trusted": true,
        "id": "PaQBFn5tWQqE",
        "outputId": "29d54218-f4c5-4af5-9b44-7e67987623a8"
      },
      "execution_count": null,
      "outputs": [
        {
          "name": "stdout",
          "text": "Model: \"sequential_2\"\n_________________________________________________________________\n Layer (type)                Output Shape              Param #   \n=================================================================\n embedding_2 (Embedding)     (None, 30, 300)           1719900   \n                                                                 \n conv1d_2 (Conv1D)           (None, 23, 64)            153664    \n                                                                 \n max_pooling1d_2 (MaxPooling  (None, 11, 64)           0         \n 1D)                                                             \n                                                                 \n dropout_6 (Dropout)         (None, 11, 64)            0         \n                                                                 \n dense_6 (Dense)             (None, 11, 8)             520       \n                                                                 \n dropout_7 (Dropout)         (None, 11, 8)             0         \n                                                                 \n dense_7 (Dense)             (None, 11, 4)             36        \n                                                                 \n dropout_8 (Dropout)         (None, 11, 4)             0         \n                                                                 \n global_max_pooling1d_2 (Glo  (None, 4)                0         \n balMaxPooling1D)                                                \n                                                                 \n dense_8 (Dense)             (None, 1)                 5         \n                                                                 \n=================================================================\nTotal params: 1,874,125\nTrainable params: 1,874,125\nNon-trainable params: 0\n_________________________________________________________________\n",
          "output_type": "stream"
        }
      ]
    },
    {
      "cell_type": "markdown",
      "source": [
        "### Train model"
      ],
      "metadata": {
        "id": "P7y0nS1KWQqG"
      }
    },
    {
      "cell_type": "code",
      "source": [
        "from keras.callbacks import EarlyStopping\n",
        "from keras.callbacks import ModelCheckpoint\n",
        "\n",
        "epochs = 100\n",
        "batch_size = 4\n",
        "\n",
        "es = EarlyStopping(monitor='val_loss', mode='min', verbose=1, patience=5)\n",
        "mc = ModelCheckpoint('./best_model/best_model_cnn1d.h5', monitor='val_accuracy', mode='max', verbose=1, save_best_only=True)\n",
        "history = model.fit(X_train, y_train,  batch_size=batch_size, shuffle=True, validation_split=0.1, epochs=epochs, verbose=1, callbacks=[es, mc])"
      ],
      "metadata": {
        "execution": {
          "iopub.status.busy": "2023-03-29T03:01:07.526167Z",
          "iopub.execute_input": "2023-03-29T03:01:07.527077Z",
          "iopub.status.idle": "2023-03-29T03:04:09.329113Z",
          "shell.execute_reply.started": "2023-03-29T03:01:07.527032Z",
          "shell.execute_reply": "2023-03-29T03:04:09.327858Z"
        },
        "trusted": true,
        "id": "WlU8GYT8WQqG",
        "outputId": "d1faca02-0d87-4e28-8921-1f4f37eed81e"
      },
      "execution_count": null,
      "outputs": [
        {
          "name": "stdout",
          "text": "Epoch 1/100\n398/399 [============================>.] - ETA: 0s - loss: 0.6505 - accuracy: 0.6526\nEpoch 1: val_accuracy improved from -inf to 0.73446, saving model to ./best_model/best_model_cnn1d.h5\n399/399 [==============================] - 12s 26ms/step - loss: 0.6504 - accuracy: 0.6529 - val_loss: 0.6033 - val_accuracy: 0.7345\nEpoch 2/100\n399/399 [==============================] - ETA: 0s - loss: 0.6243 - accuracy: 0.6937\nEpoch 2: val_accuracy did not improve from 0.73446\n399/399 [==============================] - 10s 26ms/step - loss: 0.6243 - accuracy: 0.6937 - val_loss: 0.5999 - val_accuracy: 0.7345\nEpoch 3/100\n399/399 [==============================] - ETA: 0s - loss: 0.6218 - accuracy: 0.7012\nEpoch 3: val_accuracy did not improve from 0.73446\n399/399 [==============================] - 10s 25ms/step - loss: 0.6218 - accuracy: 0.7012 - val_loss: 0.6010 - val_accuracy: 0.7345\nEpoch 4/100\n398/399 [============================>.] - ETA: 0s - loss: 0.6144 - accuracy: 0.7035\nEpoch 4: val_accuracy improved from 0.73446 to 0.74011, saving model to ./best_model/best_model_cnn1d.h5\n399/399 [==============================] - 11s 27ms/step - loss: 0.6142 - accuracy: 0.7037 - val_loss: 0.5845 - val_accuracy: 0.7401\nEpoch 5/100\n399/399 [==============================] - ETA: 0s - loss: 0.5943 - accuracy: 0.7207\nEpoch 5: val_accuracy improved from 0.74011 to 0.75141, saving model to ./best_model/best_model_cnn1d.h5\n399/399 [==============================] - 10s 26ms/step - loss: 0.5943 - accuracy: 0.7207 - val_loss: 0.5898 - val_accuracy: 0.7514\nEpoch 6/100\n398/399 [============================>.] - ETA: 0s - loss: 0.5411 - accuracy: 0.7688\nEpoch 6: val_accuracy improved from 0.75141 to 0.76836, saving model to ./best_model/best_model_cnn1d.h5\n399/399 [==============================] - 11s 28ms/step - loss: 0.5409 - accuracy: 0.7690 - val_loss: 0.5429 - val_accuracy: 0.7684\nEpoch 7/100\n398/399 [============================>.] - ETA: 0s - loss: 0.4413 - accuracy: 0.8222\nEpoch 7: val_accuracy improved from 0.76836 to 0.78531, saving model to ./best_model/best_model_cnn1d.h5\n399/399 [==============================] - 11s 27ms/step - loss: 0.4414 - accuracy: 0.8223 - val_loss: 0.5085 - val_accuracy: 0.7853\nEpoch 8/100\n398/399 [============================>.] - ETA: 0s - loss: 0.3233 - accuracy: 0.8907\nEpoch 8: val_accuracy improved from 0.78531 to 0.79096, saving model to ./best_model/best_model_cnn1d.h5\n399/399 [==============================] - 11s 27ms/step - loss: 0.3232 - accuracy: 0.8908 - val_loss: 0.4748 - val_accuracy: 0.7910\nEpoch 9/100\n397/399 [============================>.] - ETA: 0s - loss: 0.2380 - accuracy: 0.9295\nEpoch 9: val_accuracy improved from 0.79096 to 0.80791, saving model to ./best_model/best_model_cnn1d.h5\n399/399 [==============================] - 10s 26ms/step - loss: 0.2376 - accuracy: 0.9297 - val_loss: 0.4410 - val_accuracy: 0.8079\nEpoch 10/100\n399/399 [==============================] - ETA: 0s - loss: 0.1663 - accuracy: 0.9586\nEpoch 10: val_accuracy did not improve from 0.80791\n399/399 [==============================] - 11s 27ms/step - loss: 0.1663 - accuracy: 0.9586 - val_loss: 0.4281 - val_accuracy: 0.8079\nEpoch 11/100\n399/399 [==============================] - ETA: 0s - loss: 0.1267 - accuracy: 0.9674\nEpoch 11: val_accuracy improved from 0.80791 to 0.81921, saving model to ./best_model/best_model_cnn1d.h5\n399/399 [==============================] - 11s 27ms/step - loss: 0.1267 - accuracy: 0.9674 - val_loss: 0.4229 - val_accuracy: 0.8192\nEpoch 12/100\n397/399 [============================>.] - ETA: 0s - loss: 0.0937 - accuracy: 0.9792\nEpoch 12: val_accuracy did not improve from 0.81921\n399/399 [==============================] - 11s 26ms/step - loss: 0.0935 - accuracy: 0.9793 - val_loss: 0.4175 - val_accuracy: 0.8023\nEpoch 13/100\n398/399 [============================>.] - ETA: 0s - loss: 0.0712 - accuracy: 0.9830\nEpoch 13: val_accuracy did not improve from 0.81921\n399/399 [==============================] - 11s 27ms/step - loss: 0.0721 - accuracy: 0.9824 - val_loss: 0.4379 - val_accuracy: 0.8136\nEpoch 14/100\n399/399 [==============================] - ETA: 0s - loss: 0.0643 - accuracy: 0.9856\nEpoch 14: val_accuracy improved from 0.81921 to 0.82486, saving model to ./best_model/best_model_cnn1d.h5\n399/399 [==============================] - 11s 27ms/step - loss: 0.0643 - accuracy: 0.9856 - val_loss: 0.4470 - val_accuracy: 0.8249\nEpoch 15/100\n399/399 [==============================] - ETA: 0s - loss: 0.0507 - accuracy: 0.9893\nEpoch 15: val_accuracy did not improve from 0.82486\n399/399 [==============================] - 11s 26ms/step - loss: 0.0507 - accuracy: 0.9893 - val_loss: 0.4381 - val_accuracy: 0.8136\nEpoch 16/100\n398/399 [============================>.] - ETA: 0s - loss: 0.0449 - accuracy: 0.9912\nEpoch 16: val_accuracy did not improve from 0.82486\n399/399 [==============================] - 11s 27ms/step - loss: 0.0449 - accuracy: 0.9912 - val_loss: 0.4302 - val_accuracy: 0.8136\nEpoch 17/100\n399/399 [==============================] - ETA: 0s - loss: 0.0343 - accuracy: 0.9925\nEpoch 17: val_accuracy did not improve from 0.82486\n399/399 [==============================] - 11s 27ms/step - loss: 0.0343 - accuracy: 0.9925 - val_loss: 0.4447 - val_accuracy: 0.8023\nEpoch 17: early stopping\n",
          "output_type": "stream"
        }
      ]
    },
    {
      "cell_type": "markdown",
      "source": [
        "## Evaluation"
      ],
      "metadata": {
        "id": "19zW6U41WQqH"
      }
    },
    {
      "cell_type": "markdown",
      "source": [
        "### Model Accuracy"
      ],
      "metadata": {
        "id": "_4SUiQQHWQqI"
      }
    },
    {
      "cell_type": "code",
      "source": [
        "from keras.models import load_model\n",
        "\n",
        "saved_model = load_model('./best_model/best_model_cnn1d.h5')\n",
        "train_acc = saved_model.evaluate(X_train, y_train, verbose=1)\n",
        "test_acc = saved_model.evaluate(X_test, y_test, verbose=1)\n",
        "print('Train: %.2f%%, Test: %.2f%%' % (train_acc[1]*100, test_acc[1]*100))"
      ],
      "metadata": {
        "execution": {
          "iopub.status.busy": "2023-03-29T03:04:09.331589Z",
          "iopub.execute_input": "2023-03-29T03:04:09.332106Z",
          "iopub.status.idle": "2023-03-29T03:04:10.230563Z",
          "shell.execute_reply.started": "2023-03-29T03:04:09.332032Z",
          "shell.execute_reply": "2023-03-29T03:04:10.22918Z"
        },
        "trusted": true,
        "id": "gp6ghf2-WQqI",
        "outputId": "5e202fa1-f224-4a4c-e8b0-9a202e9836a3"
      },
      "execution_count": null,
      "outputs": [
        {
          "name": "stdout",
          "text": "56/56 [==============================] - 1s 5ms/step - loss: 0.0909 - accuracy: 0.9774\n7/7 [==============================] - 0s 5ms/step - loss: 0.3530 - accuracy: 0.8680\nTrain: 97.74%, Test: 86.80%\n",
          "output_type": "stream"
        }
      ]
    },
    {
      "cell_type": "markdown",
      "source": [
        "### Identify Overfitting"
      ],
      "metadata": {
        "id": "zUIeSzUpWQqJ"
      }
    },
    {
      "cell_type": "code",
      "source": [
        "# summarize history for accuracy\n",
        "plt.plot(history.history['accuracy'])\n",
        "plt.plot(history.history['val_accuracy'])\n",
        "plt.title('model accuracy')\n",
        "plt.ylabel('accuracy')\n",
        "plt.xlabel('epoch')\n",
        "plt.legend(['train', 'test'], loc='upper left')\n",
        "plt.show()"
      ],
      "metadata": {
        "execution": {
          "iopub.status.busy": "2023-03-29T03:04:10.232135Z",
          "iopub.execute_input": "2023-03-29T03:04:10.232917Z",
          "iopub.status.idle": "2023-03-29T03:04:10.491114Z",
          "shell.execute_reply.started": "2023-03-29T03:04:10.232863Z",
          "shell.execute_reply": "2023-03-29T03:04:10.489879Z"
        },
        "trusted": true,
        "id": "TUe6v4yiWQqK",
        "outputId": "03dcf956-53c2-403f-a100-8eea6f4031e7"
      },
      "execution_count": null,
      "outputs": [
        {
          "output_type": "display_data",
          "data": {
            "text/plain": "<Figure size 640x480 with 1 Axes>",
            "image/png": "[encoded data removed]"
          },
          "metadata": {}
        }
      ]
    },
    {
      "cell_type": "code",
      "source": [
        "# summarize history for loss\n",
        "plt.plot(history.history['loss'])\n",
        "plt.plot(history.history['val_loss'])\n",
        "plt.title('model loss')\n",
        "plt.ylabel('loss')\n",
        "plt.xlabel('epoch')\n",
        "plt.legend(['train', 'test'], loc='upper left')\n",
        "plt.show()"
      ],
      "metadata": {
        "execution": {
          "iopub.status.busy": "2023-03-29T03:04:10.492664Z",
          "iopub.execute_input": "2023-03-29T03:04:10.493127Z",
          "iopub.status.idle": "2023-03-29T03:04:10.735245Z",
          "shell.execute_reply.started": "2023-03-29T03:04:10.493053Z",
          "shell.execute_reply": "2023-03-29T03:04:10.733891Z"
        },
        "trusted": true,
        "id": "Zh8CVlYSWQqL",
        "outputId": "41a34280-e31e-47fb-ef44-25130803debc"
      },
      "execution_count": null,
      "outputs": [
        {
          "output_type": "display_data",
          "data": {
            "text/plain": "<Figure size 640x480 with 1 Axes>",
            "image/png": "[encoded data removed]"
          },
          "metadata": {}
        }
      ]
    },
    {
      "cell_type": "markdown",
      "source": [
        "### Confusion Matrix"
      ],
      "metadata": {
        "id": "WJAwmDLAWQqM"
      }
    },
    {
      "cell_type": "code",
      "source": [
        "def predictions(x):\n",
        "    prediction_probs = model.predict(x)\n",
        "    predictions = [1 if prob > 0.5 else 0 for prob in prediction_probs]\n",
        "    return predictions"
      ],
      "metadata": {
        "execution": {
          "iopub.status.busy": "2023-03-29T03:04:10.737069Z",
          "iopub.execute_input": "2023-03-29T03:04:10.737588Z",
          "iopub.status.idle": "2023-03-29T03:04:10.744413Z",
          "shell.execute_reply.started": "2023-03-29T03:04:10.737535Z",
          "shell.execute_reply": "2023-03-29T03:04:10.743172Z"
        },
        "trusted": true,
        "id": "VrYGlsh9WQqN"
      },
      "execution_count": null,
      "outputs": []
    },
    {
      "cell_type": "code",
      "source": [
        "from sklearn.metrics import confusion_matrix, classification_report, roc_auc_score, roc_curve\n",
        "from sklearn.metrics import accuracy_score, precision_score, recall_score, f1_score\n",
        "\n",
        "labels = ['positive', 'negative']\n",
        "print(\"CNN 1D Accuracy: %.2f%%\" % (accuracy_score(y_test, predictions(X_test))*100))\n",
        "print(\"CNN 1D Precision: %.2f%%\" % (precision_score(y_test, predictions(X_test), average=\"macro\")*100))\n",
        "print(\"CNN 1D Recall: %.2f%%\" % (recall_score(y_test, predictions(X_test), average=\"macro\")*100))\n",
        "print(\"CNN 1D f1_score: %.2f%%\" % (f1_score(y_test, predictions(X_test), average=\"macro\")*100))\n",
        "print('================================================\\n') \n",
        "print(classification_report(y_test, predictions(X_test)))\n",
        "pd.DataFrame(confusion_matrix(y_test, predictions(X_test)), index=labels, columns=labels)"
      ],
      "metadata": {
        "execution": {
          "iopub.status.busy": "2023-03-29T03:04:10.745935Z",
          "iopub.execute_input": "2023-03-29T03:04:10.746439Z",
          "iopub.status.idle": "2023-03-29T03:04:11.560692Z",
          "shell.execute_reply.started": "2023-03-29T03:04:10.746386Z",
          "shell.execute_reply": "2023-03-29T03:04:11.559391Z"
        },
        "trusted": true,
        "id": "RMk77lvAWQqO",
        "outputId": "5bf907a2-6c30-423a-c98a-63ff250a5af6"
      },
      "execution_count": null,
      "outputs": [
        {
          "name": "stdout",
          "text": "7/7 [==============================] - 0s 5ms/step\nCNN 1D Accuracy: 86.80%\n7/7 [==============================] - 0s 5ms/step\nCNN 1D Precision: 85.36%\n7/7 [==============================] - 0s 5ms/step\nCNN 1D Recall: 84.15%\n7/7 [==============================] - 0s 5ms/step\nCNN 1D f1_score: 84.70%\n================================================\n\n7/7 [==============================] - 0s 5ms/step\n              precision    recall  f1-score   support\n\n           0       0.82      0.77      0.79        64\n           1       0.89      0.92      0.90       133\n\n    accuracy                           0.87       197\n   macro avg       0.85      0.84      0.85       197\nweighted avg       0.87      0.87      0.87       197\n\n7/7 [==============================] - 0s 5ms/step\n",
          "output_type": "stream"
        },
        {
          "execution_count": 61,
          "output_type": "execute_result",
          "data": {
            "text/plain": "          positive  negative\npositive        49        15\nnegative        11       122",
            "text/html": "<div>\n<style scoped>\n    .dataframe tbody tr th:only-of-type {\n        vertical-align: middle;\n    }\n\n    .dataframe tbody tr th {\n        vertical-align: top;\n    }\n\n    .dataframe thead th {\n        text-align: right;\n    }\n</style>\n<table border=\"1\" class=\"dataframe\">\n  <thead>\n    <tr style=\"text-align: right;\">\n      <th></th>\n      <th>positive</th>\n      <th>negative</th>\n    </tr>\n  </thead>\n  <tbody>\n    <tr>\n      <th>positive</th>\n      <td>49</td>\n      <td>15</td>\n    </tr>\n    <tr>\n      <th>negative</th>\n      <td>11</td>\n      <td>122</td>\n    </tr>\n  </tbody>\n</table>\n</div>"
          },
          "metadata": {}
        }
      ]
    },
    {
      "cell_type": "markdown",
      "source": [
        "### ROC AUC"
      ],
      "metadata": {
        "id": "U8LDBnzEWQqQ"
      }
    },
    {
      "cell_type": "code",
      "source": [
        "def plot_roc_curve(y_test, y_pred):\n",
        "    fpr, tpr, thresholds = roc_curve(y_test, y_pred)\n",
        "    plt.plot(fpr, tpr)\n",
        "    plt.xlabel('False Positive Rate')\n",
        "    plt.ylabel('True Positive Rate')"
      ],
      "metadata": {
        "execution": {
          "iopub.status.busy": "2023-03-29T03:04:11.56208Z",
          "iopub.execute_input": "2023-03-29T03:04:11.562774Z",
          "iopub.status.idle": "2023-03-29T03:04:11.569407Z",
          "shell.execute_reply.started": "2023-03-29T03:04:11.562733Z",
          "shell.execute_reply": "2023-03-29T03:04:11.568025Z"
        },
        "trusted": true,
        "id": "vS-ergZMWQqR"
      },
      "execution_count": null,
      "outputs": []
    },
    {
      "cell_type": "code",
      "source": [
        "plot_roc_curve(y_test, predictions(X_test))\n",
        "print(\"model AUC score: %.2f%%\" % (roc_auc_score(y_test, predictions(X_test))*100))"
      ],
      "metadata": {
        "execution": {
          "iopub.status.busy": "2023-03-29T03:04:11.576246Z",
          "iopub.execute_input": "2023-03-29T03:04:11.576636Z",
          "iopub.status.idle": "2023-03-29T03:04:12.028621Z",
          "shell.execute_reply.started": "2023-03-29T03:04:11.576597Z",
          "shell.execute_reply": "2023-03-29T03:04:12.027453Z"
        },
        "trusted": true,
        "id": "aI-1g15RWQqS",
        "outputId": "af04841a-842c-4078-e1fa-74f6f444ef05"
      },
      "execution_count": null,
      "outputs": [
        {
          "name": "stdout",
          "text": "7/7 [==============================] - 0s 5ms/step\n7/7 [==============================] - 0s 5ms/step\nmodel AUC score: 84.15%\n",
          "output_type": "stream"
        },
        {
          "output_type": "display_data",
          "data": {
            "text/plain": "<Figure size 640x480 with 1 Axes>",
            "image/png": "[encoded data removed]"
          },
          "metadata": {}
        }
      ]
    },
    {
      "cell_type": "markdown",
      "source": [
        "# Result\n",
        "\n",
        "The results of the experiment on sentiment analysis using a convolutional neural network (CNN) applied to financial news showed promising outcomes. The CNN model achieved an accuracy of 86.80%, indicating that it correctly classified 86.80% of the news articles as either positive and negative sentiment. The precision of the model was 85.36%, which means that out of all the articles classified as positive and negative, 82.96% were correctly classified. The recall of the model was 84.15%, indicating that out of all the articles that were actually positive and negative, the model correctly classified 84.15% of them. The F1-score of the model was 84.70%, which is a weighted average of the precision and recall, and provides a single measure of the model's performance. Overall, these results suggest that the CNN approach in sentiment analysis on financial news is effective and could be a valuable tool for financial decision-making and trading strategies."
      ],
      "metadata": {
        "id": "yjCUAU_wWQqT"
      }
    },
    {
      "cell_type": "markdown",
      "source": [
        "# Conclusion\n",
        "\n",
        "In conclusion, the results of the experiment on sentiment analysis using a convolutional neural network (CNN) applied to financial news demonstrated promising outcomes, with high accuracy, precision, recall, and F1-score. However, further improvements can be made to the model's performance by hybridizing it with other deep learning models such as gated recurrent unit (GRU) or long short-term memory (LSTM). By combining the strengths of different models, we can enhance the model's ability to learn and extract more complex patterns from the data, leading to better sentiment analysis results. Additionally, future experiments can explore the use of larger and more diverse datasets, as well as incorporating external features such as market trends and economic indicators to improve the accuracy and practicality of the model. Overall, the promising results of this experiment provide a solid foundation for future research on sentiment analysis using hybridized deep learning models in financial news analysis."
      ],
      "metadata": {
        "id": "8U_qks8OWQqT"
      }
    }
  ]
}