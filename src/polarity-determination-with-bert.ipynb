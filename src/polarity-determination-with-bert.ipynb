{
  "cells": [
    {
      "cell_type": "markdown",
      "metadata": {
        "id": "view-in-github",
        "colab_type": "text"
      },
      "source": [
        "<a href=\"https://colab.research.google.com/github/kangnurrohman/sentiment-analysis-projects/blob/main/src/polarity-determination-with-bert.ipynb\" target=\"_parent\"><img src=\"https://colab.research.google.com/assets/colab-badge.svg\" alt=\"Open In Colab\"/></a>"
      ]
    },
    {
      "source": [
        "<a href=\"https://www.kaggle.com/code/kangnurrohman/polarity-determination-with-bert?scriptVersionId=112465598\" target=\"_blank\"><img align=\"left\" alt=\"Kaggle\" title=\"Open in Kaggle\" src=\"https://kaggle.com/static/images/open-in-kaggle.svg\"></a>"
      ],
      "metadata": {
        "id": "M2YpnS6LCJD_"
      },
      "cell_type": "markdown",
      "id": "M2YpnS6LCJD_"
    },
    {
      "cell_type": "code",
      "execution_count": null,
      "id": "dd9079d7",
      "metadata": {
        "_cell_guid": "b1076dfc-b9ad-4769-8c92-a6c4dae69d19",
        "_uuid": "8f2839f25d086af736a60e9eeb907d3b93b6e0e5",
        "execution": {
          "iopub.execute_input": "2022-11-29T16:37:42.778807Z",
          "iopub.status.busy": "2022-11-29T16:37:42.778065Z",
          "iopub.status.idle": "2022-11-29T16:37:42.796446Z",
          "shell.execute_reply": "2022-11-29T16:37:42.795427Z"
        },
        "papermill": {
          "duration": 0.03319,
          "end_time": "2022-11-29T16:37:42.800058",
          "exception": false,
          "start_time": "2022-11-29T16:37:42.766868",
          "status": "completed"
        },
        "tags": [],
        "id": "dd9079d7",
        "outputId": "1d9b91b2-416e-4668-afb5-b80aa14b60f9"
      },
      "outputs": [
        {
          "name": "stdout",
          "output_type": "stream",
          "text": [
            "/kaggle/input/review-of-the-application-pln-mobile/review of the application PLN mobile.xlsx\n"
          ]
        }
      ],
      "source": [
        "# This Python 3 environment comes with many helpful analytics libraries installed\n",
        "# It is defined by the kaggle/python Docker image: https://github.com/kaggle/docker-python\n",
        "# For example, here's several helpful packages to load\n",
        "\n",
        "import numpy as np # linear algebra\n",
        "import pandas as pd # data processing, CSV file I/O (e.g. pd.read_csv)\n",
        "\n",
        "# Input data files are available in the read-only \"../input/\" directory\n",
        "# For example, running this (by clicking run or pressing Shift+Enter) will list all files under the input directory\n",
        "\n",
        "import os\n",
        "for dirname, _, filenames in os.walk('/kaggle/input'):\n",
        "    for filename in filenames:\n",
        "        print(os.path.join(dirname, filename))\n",
        "\n",
        "# You can write up to 20GB to the current directory (/kaggle/working/) that gets preserved as output when you create a version using \"Save & Run All\" \n",
        "# You can also write temporary files to /kaggle/temp/, but they won't be saved outside of the current session"
      ]
    },
    {
      "cell_type": "markdown",
      "id": "6f3cd8ee",
      "metadata": {
        "papermill": {
          "duration": 0.008459,
          "end_time": "2022-11-29T16:37:42.818359",
          "exception": false,
          "start_time": "2022-11-29T16:37:42.8099",
          "status": "completed"
        },
        "tags": [],
        "id": "6f3cd8ee"
      },
      "source": [
        "## Resource Check"
      ]
    },
    {
      "cell_type": "code",
      "execution_count": null,
      "id": "edd3ec5f",
      "metadata": {
        "execution": {
          "iopub.execute_input": "2022-11-29T16:37:42.838689Z",
          "iopub.status.busy": "2022-11-29T16:37:42.837772Z",
          "iopub.status.idle": "2022-11-29T16:37:43.946595Z",
          "shell.execute_reply": "2022-11-29T16:37:43.945401Z"
        },
        "papermill": {
          "duration": 1.122228,
          "end_time": "2022-11-29T16:37:43.949023",
          "exception": false,
          "start_time": "2022-11-29T16:37:42.826795",
          "status": "completed"
        },
        "tags": [],
        "id": "edd3ec5f",
        "outputId": "7e1853fd-0f5f-4c1b-82a7-f6d43ce07f77"
      },
      "outputs": [
        {
          "name": "stdout",
          "output_type": "stream",
          "text": [
            "Tue Nov 29 16:37:43 2022       \r\n",
            "+-----------------------------------------------------------------------------+\r\n",
            "| NVIDIA-SMI 470.82.01    Driver Version: 470.82.01    CUDA Version: 11.4     |\r\n",
            "|-------------------------------+----------------------+----------------------+\r\n",
            "| GPU  Name        Persistence-M| Bus-Id        Disp.A | Volatile Uncorr. ECC |\r\n",
            "| Fan  Temp  Perf  Pwr:Usage/Cap|         Memory-Usage | GPU-Util  Compute M. |\r\n",
            "|                               |                      |               MIG M. |\r\n",
            "|===============================+======================+======================|\r\n",
            "|   0  Tesla T4            Off  | 00000000:00:04.0 Off |                    0 |\r\n",
            "| N/A   36C    P8     9W /  70W |      0MiB / 15109MiB |      0%      Default |\r\n",
            "|                               |                      |                  N/A |\r\n",
            "+-------------------------------+----------------------+----------------------+\r\n",
            "|   1  Tesla T4            Off  | 00000000:00:05.0 Off |                    0 |\r\n",
            "| N/A   35C    P8     9W /  70W |      0MiB / 15109MiB |      0%      Default |\r\n",
            "|                               |                      |                  N/A |\r\n",
            "+-------------------------------+----------------------+----------------------+\r\n",
            "                                                                               \r\n",
            "+-----------------------------------------------------------------------------+\r\n",
            "| Processes:                                                                  |\r\n",
            "|  GPU   GI   CI        PID   Type   Process name                  GPU Memory |\r\n",
            "|        ID   ID                                                   Usage      |\r\n",
            "|=============================================================================|\r\n",
            "|  No running processes found                                                 |\r\n",
            "+-----------------------------------------------------------------------------+\r\n"
          ]
        }
      ],
      "source": [
        "!nvidia-smi"
      ]
    },
    {
      "cell_type": "code",
      "execution_count": null,
      "id": "737817fb",
      "metadata": {
        "execution": {
          "iopub.execute_input": "2022-11-29T16:37:43.969185Z",
          "iopub.status.busy": "2022-11-29T16:37:43.968304Z",
          "iopub.status.idle": "2022-11-29T16:37:47.40562Z",
          "shell.execute_reply": "2022-11-29T16:37:47.404508Z"
        },
        "papermill": {
          "duration": 3.45166,
          "end_time": "2022-11-29T16:37:47.409702",
          "exception": false,
          "start_time": "2022-11-29T16:37:43.958042",
          "status": "completed"
        },
        "tags": [],
        "id": "737817fb",
        "outputId": "ef4d52f6-44c6-4601-c8eb-b6401fafef2b"
      },
      "outputs": [
        {
          "name": "stdout",
          "output_type": "stream",
          "text": [
            "there are 2 GPU(s) available.\n",
            "we will use the GPU:  Tesla T4\n"
          ]
        }
      ],
      "source": [
        "import torch\n",
        "\n",
        "if torch.cuda.is_available():\n",
        "  device = torch.device('cuda')\n",
        "\n",
        "  print('there are %d GPU(s) available.' % torch.cuda.device_count())\n",
        "\n",
        "  print('we will use the GPU: ', torch.cuda.get_device_name(0))\n",
        "\n",
        "else:\n",
        "  print(\"No GPU available, using the CPU instead\")\n",
        "  device = torch.device(\"cpu\")"
      ]
    },
    {
      "cell_type": "markdown",
      "id": "f66e52b1",
      "metadata": {
        "papermill": {
          "duration": 0.008576,
          "end_time": "2022-11-29T16:37:47.427632",
          "exception": false,
          "start_time": "2022-11-29T16:37:47.419056",
          "status": "completed"
        },
        "tags": [],
        "id": "f66e52b1"
      },
      "source": [
        "## Install Library"
      ]
    },
    {
      "cell_type": "code",
      "execution_count": null,
      "id": "d0d40e5b",
      "metadata": {
        "execution": {
          "iopub.execute_input": "2022-11-29T16:37:47.447158Z",
          "iopub.status.busy": "2022-11-29T16:37:47.445911Z",
          "iopub.status.idle": "2022-11-29T16:38:01.083822Z",
          "shell.execute_reply": "2022-11-29T16:38:01.082553Z"
        },
        "papermill": {
          "duration": 13.650084,
          "end_time": "2022-11-29T16:38:01.086355",
          "exception": false,
          "start_time": "2022-11-29T16:37:47.436271",
          "status": "completed"
        },
        "tags": [],
        "id": "d0d40e5b",
        "outputId": "5adb9c6d-ba08-4f54-98aa-078929cc9752"
      },
      "outputs": [
        {
          "name": "stdout",
          "output_type": "stream",
          "text": [
            "Collecting contractions\r\n",
            "  Downloading contractions-0.1.73-py2.py3-none-any.whl (8.7 kB)\r\n",
            "Collecting textsearch>=0.0.21\r\n",
            "  Downloading textsearch-0.0.24-py2.py3-none-any.whl (7.6 kB)\r\n",
            "Collecting anyascii\r\n",
            "  Downloading anyascii-0.3.1-py3-none-any.whl (287 kB)\r\n",
            "\u001b[2K     \u001b[90m━━━━━━━━━━━━━━━━━━━━━━━━━━━━━━━━━━━━━━━\u001b[0m \u001b[32m287.5/287.5 kB\u001b[0m \u001b[31m3.5 MB/s\u001b[0m eta \u001b[36m0:00:00\u001b[0m\r\n",
            "\u001b[?25hCollecting pyahocorasick\r\n",
            "  Downloading pyahocorasick-1.4.4-cp37-cp37m-manylinux_2_17_x86_64.manylinux2014_x86_64.whl (106 kB)\r\n",
            "\u001b[2K     \u001b[90m━━━━━━━━━━━━━━━━━━━━━━━━━━━━━━━━━━━━━━━\u001b[0m \u001b[32m106.5/106.5 kB\u001b[0m \u001b[31m9.0 MB/s\u001b[0m eta \u001b[36m0:00:00\u001b[0m\r\n",
            "\u001b[?25hInstalling collected packages: pyahocorasick, anyascii, textsearch, contractions\r\n",
            "Successfully installed anyascii-0.3.1 contractions-0.1.73 pyahocorasick-1.4.4 textsearch-0.0.24\r\n",
            "\u001b[33mWARNING: Running pip as the 'root' user can result in broken permissions and conflicting behaviour with the system package manager. It is recommended to use a virtual environment instead: https://pip.pypa.io/warnings/venv\u001b[0m\u001b[33m\r\n",
            "\u001b[0m"
          ]
        }
      ],
      "source": [
        "!pip install contractions\n",
        "\n",
        "import warnings\n",
        "warnings.filterwarnings('ignore')"
      ]
    },
    {
      "cell_type": "markdown",
      "id": "3882d7a7",
      "metadata": {
        "papermill": {
          "duration": 0.009472,
          "end_time": "2022-11-29T16:38:01.105697",
          "exception": false,
          "start_time": "2022-11-29T16:38:01.096225",
          "status": "completed"
        },
        "tags": [],
        "id": "3882d7a7"
      },
      "source": [
        "## Load Library"
      ]
    },
    {
      "cell_type": "code",
      "execution_count": null,
      "id": "114b726c",
      "metadata": {
        "execution": {
          "iopub.execute_input": "2022-11-29T16:38:01.125985Z",
          "iopub.status.busy": "2022-11-29T16:38:01.125686Z",
          "iopub.status.idle": "2022-11-29T16:38:14.523059Z",
          "shell.execute_reply": "2022-11-29T16:38:14.521987Z"
        },
        "papermill": {
          "duration": 13.410366,
          "end_time": "2022-11-29T16:38:14.525498",
          "exception": false,
          "start_time": "2022-11-29T16:38:01.115132",
          "status": "completed"
        },
        "tags": [],
        "id": "114b726c"
      },
      "outputs": [],
      "source": [
        "import re\n",
        "import tqdm\n",
        "import time\n",
        "import random\n",
        "import datetime\n",
        "import unicodedata\n",
        "import contractions\n",
        "import seaborn as sns\n",
        "import matplotlib.pyplot as plt\n",
        "\n",
        "from bs4 import BeautifulSoup\n",
        "from transformers import BertTokenizer\n",
        "from sklearn.metrics import accuracy_score\n",
        "from sklearn.metrics import matthews_corrcoef\n",
        "from sklearn.model_selection import train_test_split\n",
        "from keras.preprocessing.sequence import pad_sequences\n",
        "from transformers import get_linear_schedule_with_warmup\n",
        "from transformers import BertForSequenceClassification, AdamW, BertConfig\n",
        "from torch.utils.data import TensorDataset, DataLoader, RandomSampler, SequentialSampler"
      ]
    },
    {
      "cell_type": "markdown",
      "id": "86f3bafa",
      "metadata": {
        "papermill": {
          "duration": 0.00965,
          "end_time": "2022-11-29T16:38:14.544976",
          "exception": false,
          "start_time": "2022-11-29T16:38:14.535326",
          "status": "completed"
        },
        "tags": [],
        "id": "86f3bafa"
      },
      "source": [
        "## Load Data"
      ]
    },
    {
      "cell_type": "code",
      "execution_count": null,
      "id": "4c0b0332",
      "metadata": {
        "execution": {
          "iopub.execute_input": "2022-11-29T16:38:14.567137Z",
          "iopub.status.busy": "2022-11-29T16:38:14.566158Z",
          "iopub.status.idle": "2022-11-29T16:39:07.806334Z",
          "shell.execute_reply": "2022-11-29T16:39:07.805282Z"
        },
        "papermill": {
          "duration": 53.264533,
          "end_time": "2022-11-29T16:39:07.819578",
          "exception": false,
          "start_time": "2022-11-29T16:38:14.555045",
          "status": "completed"
        },
        "tags": [],
        "id": "4c0b0332",
        "outputId": "4f94462b-9b20-41ec-e8cc-9bf8e129bda2"
      },
      "outputs": [
        {
          "name": "stdout",
          "output_type": "stream",
          "text": [
            "<class 'pandas.core.frame.DataFrame'>\n",
            "RangeIndex: 201042 entries, 0 to 201041\n",
            "Data columns (total 10 columns):\n",
            " #   Column                Non-Null Count   Dtype         \n",
            "---  ------                --------------   -----         \n",
            " 0   reviewId              201042 non-null  object        \n",
            " 1   userName              201042 non-null  object        \n",
            " 2   userImage             201042 non-null  object        \n",
            " 3   review                201042 non-null  object        \n",
            " 4   sentiment             201042 non-null  int64         \n",
            " 5   thumbsUpCount         201042 non-null  int64         \n",
            " 6   reviewCreatedVersion  174363 non-null  object        \n",
            " 7   at                    201042 non-null  datetime64[ns]\n",
            " 8   replyContent          195639 non-null  object        \n",
            " 9   repliedAt             195639 non-null  datetime64[ns]\n",
            "dtypes: datetime64[ns](2), int64(2), object(6)\n",
            "memory usage: 15.3+ MB\n"
          ]
        }
      ],
      "source": [
        "df = pd.read_excel('/kaggle/input/review-of-the-application-pln-mobile/review of the application PLN mobile.xlsx')\n",
        "df.rename(columns = {'content':'review', 'score':'sentiment'}, inplace = True)\n",
        "df.info()"
      ]
    },
    {
      "cell_type": "markdown",
      "id": "b80835b2",
      "metadata": {
        "papermill": {
          "duration": 0.00917,
          "end_time": "2022-11-29T16:39:07.838864",
          "exception": false,
          "start_time": "2022-11-29T16:39:07.829694",
          "status": "completed"
        },
        "tags": [],
        "id": "b80835b2"
      },
      "source": [
        "## Exploratory Data Analysis"
      ]
    },
    {
      "cell_type": "code",
      "execution_count": null,
      "id": "b288b5a2",
      "metadata": {
        "execution": {
          "iopub.execute_input": "2022-11-29T16:39:07.858722Z",
          "iopub.status.busy": "2022-11-29T16:39:07.858423Z",
          "iopub.status.idle": "2022-11-29T16:39:07.970843Z",
          "shell.execute_reply": "2022-11-29T16:39:07.969847Z"
        },
        "papermill": {
          "duration": 0.12492,
          "end_time": "2022-11-29T16:39:07.973031",
          "exception": false,
          "start_time": "2022-11-29T16:39:07.848111",
          "status": "completed"
        },
        "tags": [],
        "id": "b288b5a2",
        "outputId": "75870abe-5d8d-4b0b-fddf-683d8900d118"
      },
      "outputs": [
        {
          "data": {
            "text/html": [
              "<div>\n",
              "<style scoped>\n",
              "    .dataframe tbody tr th:only-of-type {\n",
              "        vertical-align: middle;\n",
              "    }\n",
              "\n",
              "    .dataframe tbody tr th {\n",
              "        vertical-align: top;\n",
              "    }\n",
              "\n",
              "    .dataframe thead th {\n",
              "        text-align: right;\n",
              "    }\n",
              "</style>\n",
              "<table border=\"1\" class=\"dataframe\">\n",
              "  <thead>\n",
              "    <tr style=\"text-align: right;\">\n",
              "      <th></th>\n",
              "      <th>review</th>\n",
              "      <th>sentiment</th>\n",
              "    </tr>\n",
              "  </thead>\n",
              "  <tbody>\n",
              "    <tr>\n",
              "      <th>0</th>\n",
              "      <td>Sangat bermanfaat👍👍</td>\n",
              "      <td>2</td>\n",
              "    </tr>\n",
              "    <tr>\n",
              "      <th>1</th>\n",
              "      <td>PLN terbaik</td>\n",
              "      <td>2</td>\n",
              "    </tr>\n",
              "    <tr>\n",
              "      <th>2</th>\n",
              "      <td>😀</td>\n",
              "      <td>2</td>\n",
              "    </tr>\n",
              "    <tr>\n",
              "      <th>3</th>\n",
              "      <td>Mudah dan simpel untuk menikmati pelayanan PLN...</td>\n",
              "      <td>2</td>\n",
              "    </tr>\n",
              "    <tr>\n",
              "      <th>4</th>\n",
              "      <td>Baik</td>\n",
              "      <td>2</td>\n",
              "    </tr>\n",
              "  </tbody>\n",
              "</table>\n",
              "</div>"
            ],
            "text/plain": [
              "                                              review  sentiment\n",
              "0                                Sangat bermanfaat👍👍          2\n",
              "1                                        PLN terbaik          2\n",
              "2                                                  😀          2\n",
              "3  Mudah dan simpel untuk menikmati pelayanan PLN...          2\n",
              "4                                               Baik          2"
            ]
          },
          "execution_count": 7,
          "metadata": {},
          "output_type": "execute_result"
        }
      ],
      "source": [
        "df = df.sort_values(by='at', ascending=False)\n",
        "df = df[['review', 'sentiment']]\n",
        "df = df.replace({'sentiment' : {1:0, 2:0, 3:1, 4:2, 5:2 }})\n",
        "df.head()"
      ]
    },
    {
      "cell_type": "code",
      "execution_count": null,
      "id": "a6abe3c7",
      "metadata": {
        "execution": {
          "iopub.execute_input": "2022-11-29T16:39:07.995487Z",
          "iopub.status.busy": "2022-11-29T16:39:07.993847Z",
          "iopub.status.idle": "2022-11-29T16:39:08.003549Z",
          "shell.execute_reply": "2022-11-29T16:39:08.002381Z"
        },
        "papermill": {
          "duration": 0.023467,
          "end_time": "2022-11-29T16:39:08.006288",
          "exception": false,
          "start_time": "2022-11-29T16:39:07.982821",
          "status": "completed"
        },
        "tags": [],
        "id": "a6abe3c7",
        "outputId": "044f15a1-54b8-430b-d01d-a0f339cb359e"
      },
      "outputs": [
        {
          "data": {
            "text/plain": [
              "2    175750\n",
              "0     19925\n",
              "1      5367\n",
              "Name: sentiment, dtype: int64"
            ]
          },
          "execution_count": 8,
          "metadata": {},
          "output_type": "execute_result"
        }
      ],
      "source": [
        "x = df.sentiment.value_counts()\n",
        "x"
      ]
    },
    {
      "cell_type": "markdown",
      "id": "67ac7983",
      "metadata": {
        "papermill": {
          "duration": 0.009444,
          "end_time": "2022-11-29T16:39:08.026575",
          "exception": false,
          "start_time": "2022-11-29T16:39:08.017131",
          "status": "completed"
        },
        "tags": [],
        "id": "67ac7983"
      },
      "source": [
        "### Sentiment Distribution"
      ]
    },
    {
      "cell_type": "code",
      "execution_count": null,
      "id": "b72a1733",
      "metadata": {
        "execution": {
          "iopub.execute_input": "2022-11-29T16:39:08.047347Z",
          "iopub.status.busy": "2022-11-29T16:39:08.047075Z",
          "iopub.status.idle": "2022-11-29T16:39:08.287276Z",
          "shell.execute_reply": "2022-11-29T16:39:08.286416Z"
        },
        "papermill": {
          "duration": 0.252977,
          "end_time": "2022-11-29T16:39:08.289533",
          "exception": false,
          "start_time": "2022-11-29T16:39:08.036556",
          "status": "completed"
        },
        "tags": [],
        "id": "b72a1733",
        "outputId": "3ec4c50c-6a26-489b-e373-8ed254a72005"
      },
      "outputs": [
        {
          "data": {
            "text/plain": [
              "Text(0, 0.5, 'sample')"
            ]
          },
          "execution_count": 9,
          "metadata": {},
          "output_type": "execute_result"
        },
        {
          "data": {
            "image/png": "[encoded data removed]",
            "text/plain": [
              "<Figure size 432x288 with 1 Axes>"
            ]
          },
          "metadata": {
            "needs_background": "light"
          },
          "output_type": "display_data"
        }
      ],
      "source": [
        "sns.barplot(x.index, x)\n",
        "plt.gca().set_ylabel('sample')"
      ]
    },
    {
      "cell_type": "markdown",
      "id": "df72a8bc",
      "metadata": {
        "papermill": {
          "duration": 0.009896,
          "end_time": "2022-11-29T16:39:08.309665",
          "exception": false,
          "start_time": "2022-11-29T16:39:08.299769",
          "status": "completed"
        },
        "tags": [],
        "id": "df72a8bc"
      },
      "source": [
        "## Data Cleaning"
      ]
    },
    {
      "cell_type": "code",
      "execution_count": null,
      "id": "c1da6b5a",
      "metadata": {
        "execution": {
          "iopub.execute_input": "2022-11-29T16:39:08.332115Z",
          "iopub.status.busy": "2022-11-29T16:39:08.33048Z",
          "iopub.status.idle": "2022-11-29T16:39:08.336798Z",
          "shell.execute_reply": "2022-11-29T16:39:08.336216Z"
        },
        "papermill": {
          "duration": 0.018853,
          "end_time": "2022-11-29T16:39:08.338556",
          "exception": false,
          "start_time": "2022-11-29T16:39:08.319703",
          "status": "completed"
        },
        "tags": [],
        "id": "c1da6b5a"
      },
      "outputs": [],
      "source": [
        "def strip_html_tags(text):\n",
        "  soup = BeautifulSoup(text, \"html.parser\")\n",
        "  [s.extract() for s in soup(['iframe', 'script'])]\n",
        "  stripped_text = soup.get_text()\n",
        "  stripped_text = re.sub(r'[\\r|\\n|\\r\\n]+', '\\n', stripped_text)\n",
        "  return stripped_text\n",
        "\n",
        "def remove_accented_chars(text):\n",
        "  text = unicodedata.normalize('NFKD', text).encode('ascii', 'ignore').decode('utf-8', 'ignore')\n",
        "  return text"
      ]
    },
    {
      "cell_type": "code",
      "execution_count": null,
      "id": "ddc7f851",
      "metadata": {
        "execution": {
          "iopub.execute_input": "2022-11-29T16:39:08.360705Z",
          "iopub.status.busy": "2022-11-29T16:39:08.35927Z",
          "iopub.status.idle": "2022-11-29T16:39:08.365763Z",
          "shell.execute_reply": "2022-11-29T16:39:08.364928Z"
        },
        "papermill": {
          "duration": 0.019207,
          "end_time": "2022-11-29T16:39:08.367654",
          "exception": false,
          "start_time": "2022-11-29T16:39:08.348447",
          "status": "completed"
        },
        "tags": [],
        "id": "ddc7f851"
      },
      "outputs": [],
      "source": [
        "def pre_process_corpus(docs):\n",
        "  norm_docs = []\n",
        "  for doc in tqdm.tqdm(docs):\n",
        "    doc = strip_html_tags(doc)\n",
        "    doc = doc.translate(doc.maketrans(\"\\n\\t\\r\", \"   \"))\n",
        "    doc = doc.lower()\n",
        "    doc = remove_accented_chars(doc)\n",
        "    doc = contractions.fix(doc)\n",
        "    # lower case and remove special characters\\whitespaces\n",
        "    doc = re.sub(r'[^a-zA-Z0-9\\s]', '', doc, re.I|re.A)\n",
        "    doc = re.sub(' +', ' ', doc)\n",
        "    doc = doc.strip()\n",
        "    norm_docs.append(doc)\n",
        "\n",
        "  return norm_docs"
      ]
    },
    {
      "cell_type": "code",
      "execution_count": null,
      "id": "0d32a5e6",
      "metadata": {
        "execution": {
          "iopub.execute_input": "2022-11-29T16:39:08.389059Z",
          "iopub.status.busy": "2022-11-29T16:39:08.388209Z",
          "iopub.status.idle": "2022-11-29T16:39:29.604066Z",
          "shell.execute_reply": "2022-11-29T16:39:29.603105Z"
        },
        "papermill": {
          "duration": 21.229285,
          "end_time": "2022-11-29T16:39:29.606756",
          "exception": false,
          "start_time": "2022-11-29T16:39:08.377471",
          "status": "completed"
        },
        "tags": [],
        "id": "0d32a5e6",
        "outputId": "5c117c03-b88c-4ee6-85f0-8d51a454c743"
      },
      "outputs": [
        {
          "name": "stderr",
          "output_type": "stream",
          "text": [
            "100%|██████████| 201042/201042 [00:21<00:00, 9508.37it/s]"
          ]
        },
        {
          "name": "stdout",
          "output_type": "stream",
          "text": [
            "CPU times: user 21 s, sys: 87.3 ms, total: 21.1 s\n",
            "Wall time: 21.2 s\n"
          ]
        },
        {
          "name": "stderr",
          "output_type": "stream",
          "text": [
            "\n"
          ]
        }
      ],
      "source": [
        "%%time\n",
        "df.review = pre_process_corpus(df.review)"
      ]
    },
    {
      "cell_type": "code",
      "execution_count": null,
      "id": "035dfbf2",
      "metadata": {
        "execution": {
          "iopub.execute_input": "2022-11-29T16:39:29.672248Z",
          "iopub.status.busy": "2022-11-29T16:39:29.67189Z",
          "iopub.status.idle": "2022-11-29T16:39:29.685256Z",
          "shell.execute_reply": "2022-11-29T16:39:29.684371Z"
        },
        "papermill": {
          "duration": 0.048098,
          "end_time": "2022-11-29T16:39:29.687822",
          "exception": false,
          "start_time": "2022-11-29T16:39:29.639724",
          "status": "completed"
        },
        "tags": [],
        "id": "035dfbf2",
        "outputId": "18141caa-2d06-43d2-a162-5e42a1b485d2"
      },
      "outputs": [
        {
          "data": {
            "text/html": [
              "<div>\n",
              "<style scoped>\n",
              "    .dataframe tbody tr th:only-of-type {\n",
              "        vertical-align: middle;\n",
              "    }\n",
              "\n",
              "    .dataframe tbody tr th {\n",
              "        vertical-align: top;\n",
              "    }\n",
              "\n",
              "    .dataframe thead th {\n",
              "        text-align: right;\n",
              "    }\n",
              "</style>\n",
              "<table border=\"1\" class=\"dataframe\">\n",
              "  <thead>\n",
              "    <tr style=\"text-align: right;\">\n",
              "      <th></th>\n",
              "      <th>review</th>\n",
              "      <th>sentiment</th>\n",
              "    </tr>\n",
              "  </thead>\n",
              "  <tbody>\n",
              "    <tr>\n",
              "      <th>0</th>\n",
              "      <td>sangat bermanfaat</td>\n",
              "      <td>2</td>\n",
              "    </tr>\n",
              "    <tr>\n",
              "      <th>1</th>\n",
              "      <td>pln terbaik</td>\n",
              "      <td>2</td>\n",
              "    </tr>\n",
              "    <tr>\n",
              "      <th>2</th>\n",
              "      <td></td>\n",
              "      <td>2</td>\n",
              "    </tr>\n",
              "    <tr>\n",
              "      <th>3</th>\n",
              "      <td>mudah dan simpel untuk menikmati pelayanan pln...</td>\n",
              "      <td>2</td>\n",
              "    </tr>\n",
              "    <tr>\n",
              "      <th>4</th>\n",
              "      <td>baik</td>\n",
              "      <td>2</td>\n",
              "    </tr>\n",
              "  </tbody>\n",
              "</table>\n",
              "</div>"
            ],
            "text/plain": [
              "                                              review  sentiment\n",
              "0                                  sangat bermanfaat          2\n",
              "1                                        pln terbaik          2\n",
              "2                                                             2\n",
              "3  mudah dan simpel untuk menikmati pelayanan pln...          2\n",
              "4                                               baik          2"
            ]
          },
          "execution_count": 13,
          "metadata": {},
          "output_type": "execute_result"
        }
      ],
      "source": [
        "df.head()"
      ]
    },
    {
      "cell_type": "markdown",
      "id": "44162161",
      "metadata": {
        "papermill": {
          "duration": 0.030622,
          "end_time": "2022-11-29T16:39:29.750324",
          "exception": false,
          "start_time": "2022-11-29T16:39:29.719702",
          "status": "completed"
        },
        "tags": [],
        "id": "44162161"
      },
      "source": [
        "## Load BERT Tokenizer"
      ]
    },
    {
      "cell_type": "code",
      "execution_count": null,
      "id": "25238e92",
      "metadata": {
        "execution": {
          "iopub.execute_input": "2022-11-29T16:39:29.819403Z",
          "iopub.status.busy": "2022-11-29T16:39:29.819002Z",
          "iopub.status.idle": "2022-11-29T16:39:29.823987Z",
          "shell.execute_reply": "2022-11-29T16:39:29.823059Z"
        },
        "papermill": {
          "duration": 0.045136,
          "end_time": "2022-11-29T16:39:29.828237",
          "exception": false,
          "start_time": "2022-11-29T16:39:29.783101",
          "status": "completed"
        },
        "tags": [],
        "id": "25238e92"
      },
      "outputs": [],
      "source": [
        "sentences = df.review.values\n",
        "labels = df.sentiment.values"
      ]
    },
    {
      "cell_type": "code",
      "execution_count": null,
      "id": "721bb945",
      "metadata": {
        "execution": {
          "iopub.execute_input": "2022-11-29T16:39:29.89322Z",
          "iopub.status.busy": "2022-11-29T16:39:29.892899Z",
          "iopub.status.idle": "2022-11-29T16:39:31.674803Z",
          "shell.execute_reply": "2022-11-29T16:39:31.673808Z"
        },
        "papermill": {
          "duration": 1.817026,
          "end_time": "2022-11-29T16:39:31.677228",
          "exception": false,
          "start_time": "2022-11-29T16:39:29.860202",
          "status": "completed"
        },
        "tags": [],
        "id": "721bb945",
        "outputId": "e791a332-9f0d-44fa-b6af-c9630bd96227"
      },
      "outputs": [
        {
          "name": "stdout",
          "output_type": "stream",
          "text": [
            "load BERT Tokenizer\n"
          ]
        },
        {
          "data": {
            "application/vnd.jupyter.widget-view+json": {
              "model_id": "93bacde6981941b5846b586237e46302",
              "version_major": 2,
              "version_minor": 0
            },
            "text/plain": [
              "Downloading:   0%|          | 0.00/851k [00:00<?, ?B/s]"
            ]
          },
          "metadata": {},
          "output_type": "display_data"
        },
        {
          "data": {
            "application/vnd.jupyter.widget-view+json": {
              "model_id": "d54cda0782a04ad5b547e681a0c48990",
              "version_major": 2,
              "version_minor": 0
            },
            "text/plain": [
              "Downloading:   0%|          | 0.00/28.0 [00:00<?, ?B/s]"
            ]
          },
          "metadata": {},
          "output_type": "display_data"
        },
        {
          "data": {
            "application/vnd.jupyter.widget-view+json": {
              "model_id": "34c450e651474e13b0406ca927e1ebc7",
              "version_major": 2,
              "version_minor": 0
            },
            "text/plain": [
              "Downloading:   0%|          | 0.00/625 [00:00<?, ?B/s]"
            ]
          },
          "metadata": {},
          "output_type": "display_data"
        }
      ],
      "source": [
        "print(\"load BERT Tokenizer\")\n",
        "tokenizer = BertTokenizer.from_pretrained('bert-base-multilingual-uncased', do_lower_cased = True)"
      ]
    },
    {
      "cell_type": "code",
      "execution_count": null,
      "id": "0e8e50f5",
      "metadata": {
        "execution": {
          "iopub.execute_input": "2022-11-29T16:39:31.72073Z",
          "iopub.status.busy": "2022-11-29T16:39:31.720352Z",
          "iopub.status.idle": "2022-11-29T16:39:31.727416Z",
          "shell.execute_reply": "2022-11-29T16:39:31.726479Z"
        },
        "papermill": {
          "duration": 0.031525,
          "end_time": "2022-11-29T16:39:31.730357",
          "exception": false,
          "start_time": "2022-11-29T16:39:31.698832",
          "status": "completed"
        },
        "tags": [],
        "id": "0e8e50f5",
        "outputId": "a1c72b71-8de0-4026-d50c-afaafd1d7f46"
      },
      "outputs": [
        {
          "name": "stdout",
          "output_type": "stream",
          "text": [
            "Original: sangat bermanfaat\n",
            "Tokenized: ['sangat', 'ber', '##man', '##fa', '##at']\n",
            "Token IDS: [20514, 64560, 10629, 13240, 10552]\n"
          ]
        }
      ],
      "source": [
        "print('Original:', sentences[0])\n",
        "print('Tokenized:', tokenizer.tokenize(sentences[0]))\n",
        "print('Token IDS:', tokenizer.convert_tokens_to_ids(tokenizer.tokenize(sentences[0])))"
      ]
    },
    {
      "cell_type": "code",
      "execution_count": null,
      "id": "793bafd9",
      "metadata": {
        "execution": {
          "iopub.execute_input": "2022-11-29T16:39:31.774423Z",
          "iopub.status.busy": "2022-11-29T16:39:31.773464Z",
          "iopub.status.idle": "2022-11-29T16:40:45.708169Z",
          "shell.execute_reply": "2022-11-29T16:40:45.707149Z"
        },
        "papermill": {
          "duration": 73.981395,
          "end_time": "2022-11-29T16:40:45.733276",
          "exception": false,
          "start_time": "2022-11-29T16:39:31.751881",
          "status": "completed"
        },
        "tags": [],
        "id": "793bafd9",
        "outputId": "aeee9d12-714d-4eac-a2df-dfe1024b2ed1"
      },
      "outputs": [
        {
          "name": "stdout",
          "output_type": "stream",
          "text": [
            "Original: sangat bermanfaat\n",
            "Token IDS: [101, 20514, 64560, 10629, 13240, 10552, 102]\n"
          ]
        }
      ],
      "source": [
        "input_ids = []\n",
        "for sent in sentences:\n",
        "    encoded_sent = tokenizer.encode(sent, add_special_tokens = True)\n",
        "    input_ids.append(encoded_sent)\n",
        "    \n",
        "print('Original:', sentences[0])\n",
        "print('Token IDS:', input_ids[0])"
      ]
    },
    {
      "cell_type": "code",
      "execution_count": null,
      "id": "addadae5",
      "metadata": {
        "execution": {
          "iopub.execute_input": "2022-11-29T16:40:45.780222Z",
          "iopub.status.busy": "2022-11-29T16:40:45.779509Z",
          "iopub.status.idle": "2022-11-29T16:40:45.814682Z",
          "shell.execute_reply": "2022-11-29T16:40:45.81317Z"
        },
        "papermill": {
          "duration": 0.061628,
          "end_time": "2022-11-29T16:40:45.817463",
          "exception": false,
          "start_time": "2022-11-29T16:40:45.755835",
          "status": "completed"
        },
        "tags": [],
        "id": "addadae5",
        "outputId": "c58d6384-e70d-44e3-b83d-57a48d982137"
      },
      "outputs": [
        {
          "name": "stdout",
          "output_type": "stream",
          "text": [
            "Max Sentence length 188\n"
          ]
        }
      ],
      "source": [
        "print('Max Sentence length', max([len(sen) for sen in input_ids]))"
      ]
    },
    {
      "cell_type": "code",
      "execution_count": null,
      "id": "b760c8cc",
      "metadata": {
        "execution": {
          "iopub.execute_input": "2022-11-29T16:40:45.864907Z",
          "iopub.status.busy": "2022-11-29T16:40:45.863296Z",
          "iopub.status.idle": "2022-11-29T16:40:46.563639Z",
          "shell.execute_reply": "2022-11-29T16:40:46.561778Z"
        },
        "papermill": {
          "duration": 0.726699,
          "end_time": "2022-11-29T16:40:46.566094",
          "exception": false,
          "start_time": "2022-11-29T16:40:45.839395",
          "status": "completed"
        },
        "tags": [],
        "id": "b760c8cc",
        "outputId": "8a3098b8-cf2f-4986-95d9-c51779850ed7"
      },
      "outputs": [
        {
          "name": "stdout",
          "output_type": "stream",
          "text": [
            "padding/truncating all sentences to 256 values\n",
            "padding token:\"[PAD]\", ID: 0\n",
            "Done\n"
          ]
        }
      ],
      "source": [
        "MAX_LEN = 256\n",
        "\n",
        "print('padding/truncating all sentences to %d values' % MAX_LEN)\n",
        "print('padding token:\"{:}\", ID: {:}'.format(tokenizer.pad_token, tokenizer.pad_token_id))\n",
        "\n",
        "input_ids = pad_sequences(input_ids, maxlen=MAX_LEN, dtype='long', value=0, truncating='post', padding='post')\n",
        "\n",
        "print('Done')"
      ]
    },
    {
      "cell_type": "code",
      "execution_count": null,
      "id": "bcc91897",
      "metadata": {
        "execution": {
          "iopub.execute_input": "2022-11-29T16:40:46.610154Z",
          "iopub.status.busy": "2022-11-29T16:40:46.609337Z",
          "iopub.status.idle": "2022-11-29T16:40:46.616754Z",
          "shell.execute_reply": "2022-11-29T16:40:46.615732Z"
        },
        "papermill": {
          "duration": 0.031769,
          "end_time": "2022-11-29T16:40:46.619171",
          "exception": false,
          "start_time": "2022-11-29T16:40:46.587402",
          "status": "completed"
        },
        "tags": [],
        "id": "bcc91897",
        "outputId": "502febbe-b948-4a02-c4e3-21c860e072c2"
      },
      "outputs": [
        {
          "data": {
            "text/plain": [
              "array([  101, 20514, 64560, 10629, 13240, 10552,   102,     0,     0,\n",
              "           0,     0,     0,     0,     0,     0,     0,     0,     0,\n",
              "           0,     0,     0,     0,     0,     0,     0,     0,     0,\n",
              "           0,     0,     0,     0,     0,     0,     0,     0,     0,\n",
              "           0,     0,     0,     0,     0,     0,     0,     0,     0,\n",
              "           0,     0,     0,     0,     0,     0,     0,     0,     0,\n",
              "           0,     0,     0,     0,     0,     0,     0,     0,     0,\n",
              "           0,     0,     0,     0,     0,     0,     0,     0,     0,\n",
              "           0,     0,     0,     0,     0,     0,     0,     0,     0,\n",
              "           0,     0,     0,     0,     0,     0,     0,     0,     0,\n",
              "           0,     0,     0,     0,     0,     0,     0,     0,     0,\n",
              "           0,     0,     0,     0,     0,     0,     0,     0,     0,\n",
              "           0,     0,     0,     0,     0,     0,     0,     0,     0,\n",
              "           0,     0,     0,     0,     0,     0,     0,     0,     0,\n",
              "           0,     0,     0,     0,     0,     0,     0,     0,     0,\n",
              "           0,     0,     0,     0,     0,     0,     0,     0,     0,\n",
              "           0,     0,     0,     0,     0,     0,     0,     0,     0,\n",
              "           0,     0,     0,     0,     0,     0,     0,     0,     0,\n",
              "           0,     0,     0,     0,     0,     0,     0,     0,     0,\n",
              "           0,     0,     0,     0,     0,     0,     0,     0,     0,\n",
              "           0,     0,     0,     0,     0,     0,     0,     0,     0,\n",
              "           0,     0,     0,     0,     0,     0,     0,     0,     0,\n",
              "           0,     0,     0,     0,     0,     0,     0,     0,     0,\n",
              "           0,     0,     0,     0,     0,     0,     0,     0,     0,\n",
              "           0,     0,     0,     0,     0,     0,     0,     0,     0,\n",
              "           0,     0,     0,     0,     0,     0,     0,     0,     0,\n",
              "           0,     0,     0,     0,     0,     0,     0,     0,     0,\n",
              "           0,     0,     0,     0,     0,     0,     0,     0,     0,\n",
              "           0,     0,     0,     0])"
            ]
          },
          "execution_count": 20,
          "metadata": {},
          "output_type": "execute_result"
        }
      ],
      "source": [
        "input_ids[0]"
      ]
    },
    {
      "cell_type": "code",
      "execution_count": null,
      "id": "cd12e45a",
      "metadata": {
        "execution": {
          "iopub.execute_input": "2022-11-29T16:40:46.662912Z",
          "iopub.status.busy": "2022-11-29T16:40:46.662101Z",
          "iopub.status.idle": "2022-11-29T16:41:09.22558Z",
          "shell.execute_reply": "2022-11-29T16:41:09.224617Z"
        },
        "papermill": {
          "duration": 22.587753,
          "end_time": "2022-11-29T16:41:09.227996",
          "exception": false,
          "start_time": "2022-11-29T16:40:46.640243",
          "status": "completed"
        },
        "tags": [],
        "id": "cd12e45a"
      },
      "outputs": [],
      "source": [
        "attention_mask = []\n",
        "\n",
        "for sent in input_ids:\n",
        "    att_mask = [int(token_id > 0) for token_id in sent]\n",
        "    \n",
        "    attention_mask.append(att_mask)"
      ]
    },
    {
      "cell_type": "markdown",
      "id": "0b0ee2d1",
      "metadata": {
        "papermill": {
          "duration": 0.020647,
          "end_time": "2022-11-29T16:41:09.269923",
          "exception": false,
          "start_time": "2022-11-29T16:41:09.249276",
          "status": "completed"
        },
        "tags": [],
        "id": "0b0ee2d1"
      },
      "source": [
        "## Data Preparation"
      ]
    },
    {
      "cell_type": "code",
      "execution_count": null,
      "id": "9d5277ba",
      "metadata": {
        "execution": {
          "iopub.execute_input": "2022-11-29T16:41:09.316332Z",
          "iopub.status.busy": "2022-11-29T16:41:09.316015Z",
          "iopub.status.idle": "2022-11-29T16:41:09.741973Z",
          "shell.execute_reply": "2022-11-29T16:41:09.740929Z"
        },
        "papermill": {
          "duration": 0.454022,
          "end_time": "2022-11-29T16:41:09.744547",
          "exception": false,
          "start_time": "2022-11-29T16:41:09.290525",
          "status": "completed"
        },
        "tags": [],
        "id": "9d5277ba"
      },
      "outputs": [],
      "source": [
        "train_input, test_input, train_labels, test_labels = train_test_split(input_ids, labels, random_state=42, test_size=0.1)\n",
        "train_mask, test_mask, _, _ = train_test_split(attention_mask, labels, random_state=42, test_size=0.1)\n",
        "\n",
        "train_input, validation_input, train_labels, validation_labels = train_test_split(train_input, train_labels, random_state=42, test_size=0.1)\n",
        "train_mask, validation_mask, _, _ = train_test_split(train_mask, train_mask, random_state=42, test_size=0.1)"
      ]
    },
    {
      "cell_type": "code",
      "execution_count": null,
      "id": "9340d6d5",
      "metadata": {
        "execution": {
          "iopub.execute_input": "2022-11-29T16:41:09.789492Z",
          "iopub.status.busy": "2022-11-29T16:41:09.789167Z",
          "iopub.status.idle": "2022-11-29T16:41:13.117323Z",
          "shell.execute_reply": "2022-11-29T16:41:13.115936Z"
        },
        "papermill": {
          "duration": 3.352737,
          "end_time": "2022-11-29T16:41:13.119423",
          "exception": false,
          "start_time": "2022-11-29T16:41:09.766686",
          "status": "completed"
        },
        "tags": [],
        "id": "9340d6d5",
        "outputId": "19c625b7-2638-49de-c815-6f603535437e"
      },
      "outputs": [
        {
          "name": "stdout",
          "output_type": "stream",
          "text": [
            "---Train---\n",
            "input:  (162843, 256)\n",
            "label:  (162843,)\n",
            "mask:  (162843, 256)\n",
            "---Validation---\n",
            "input:  (18094, 256)\n",
            "label:  (18094,)\n",
            "mask:  (18094, 256)\n",
            "---Test---\n",
            "input:  (20105, 256)\n",
            "label:  (20105,)\n",
            "mask:  (20105, 256)\n"
          ]
        }
      ],
      "source": [
        "print('---Train---')\n",
        "print('input: ', train_input.shape)\n",
        "print('label: ', train_labels.shape)\n",
        "print('mask: ', np.array(train_mask).shape)\n",
        "\n",
        "print('---Validation---')\n",
        "print('input: ', validation_input.shape)\n",
        "print('label: ', validation_labels.shape)\n",
        "print('mask: ', np.array(validation_mask).shape)\n",
        "\n",
        "print('---Test---')\n",
        "print('input: ', test_input.shape)\n",
        "print('label: ', test_labels.shape)\n",
        "print('mask: ', np.array(test_mask).shape)"
      ]
    },
    {
      "cell_type": "code",
      "execution_count": null,
      "id": "642519ad",
      "metadata": {
        "execution": {
          "iopub.execute_input": "2022-11-29T16:41:13.163435Z",
          "iopub.status.busy": "2022-11-29T16:41:13.16275Z",
          "iopub.status.idle": "2022-11-29T16:41:16.552388Z",
          "shell.execute_reply": "2022-11-29T16:41:16.551358Z"
        },
        "papermill": {
          "duration": 3.414525,
          "end_time": "2022-11-29T16:41:16.555313",
          "exception": false,
          "start_time": "2022-11-29T16:41:13.140788",
          "status": "completed"
        },
        "tags": [],
        "id": "642519ad"
      },
      "outputs": [],
      "source": [
        "train_input = torch.tensor(train_input)\n",
        "train_labels = torch.tensor(train_labels)\n",
        "train_mask = torch.tensor(train_mask)\n",
        "\n",
        "validation_input = torch.tensor(validation_input)\n",
        "validation_labels = torch.tensor(validation_labels)\n",
        "validation_mask = torch.tensor(validation_mask)\n",
        "\n",
        "test_input = torch.tensor(test_input)\n",
        "test_labels = torch.tensor(test_labels)\n",
        "test_mask = torch.tensor(test_mask)"
      ]
    },
    {
      "cell_type": "code",
      "execution_count": null,
      "id": "a793f7cc",
      "metadata": {
        "execution": {
          "iopub.execute_input": "2022-11-29T16:41:16.601417Z",
          "iopub.status.busy": "2022-11-29T16:41:16.600528Z",
          "iopub.status.idle": "2022-11-29T16:41:16.608155Z",
          "shell.execute_reply": "2022-11-29T16:41:16.607274Z"
        },
        "papermill": {
          "duration": 0.032277,
          "end_time": "2022-11-29T16:41:16.610185",
          "exception": false,
          "start_time": "2022-11-29T16:41:16.577908",
          "status": "completed"
        },
        "tags": [],
        "id": "a793f7cc"
      },
      "outputs": [],
      "source": [
        "batch_size = 32\n",
        "\n",
        "train_data = TensorDataset(train_input, train_mask, train_labels)\n",
        "train_sampler = RandomSampler(train_data)\n",
        "train_dataloader = DataLoader(train_data, sampler=train_sampler, batch_size=batch_size)\n",
        "\n",
        "validation_data = TensorDataset(validation_input, validation_mask, validation_labels)\n",
        "validation_sampler = RandomSampler(validation_data)\n",
        "validation_dataloader = DataLoader(validation_data, sampler=validation_sampler, batch_size=batch_size)\n",
        "\n",
        "test_data = TensorDataset(test_input, test_mask, test_labels)\n",
        "test_sampler = RandomSampler(test_data)\n",
        "test_dataloader = DataLoader(test_data, sampler=test_sampler, batch_size=batch_size)"
      ]
    },
    {
      "cell_type": "markdown",
      "id": "acf9b8a6",
      "metadata": {
        "papermill": {
          "duration": 0.021469,
          "end_time": "2022-11-29T16:41:16.653419",
          "exception": false,
          "start_time": "2022-11-29T16:41:16.63195",
          "status": "completed"
        },
        "tags": [],
        "id": "acf9b8a6"
      },
      "source": [
        "## Model Pre-Trained BERT"
      ]
    },
    {
      "cell_type": "code",
      "execution_count": null,
      "id": "6043c9a3",
      "metadata": {
        "execution": {
          "iopub.execute_input": "2022-11-29T16:41:16.698762Z",
          "iopub.status.busy": "2022-11-29T16:41:16.697879Z",
          "iopub.status.idle": "2022-11-29T16:41:50.737602Z",
          "shell.execute_reply": "2022-11-29T16:41:50.736531Z"
        },
        "papermill": {
          "duration": 34.089469,
          "end_time": "2022-11-29T16:41:50.7646",
          "exception": false,
          "start_time": "2022-11-29T16:41:16.675131",
          "status": "completed"
        },
        "tags": [],
        "id": "6043c9a3",
        "outputId": "576a97b6-8331-4b65-87cb-05cd284eac19"
      },
      "outputs": [
        {
          "data": {
            "application/vnd.jupyter.widget-view+json": {
              "model_id": "0c9d874df35741d9b37cc736a52012ff",
              "version_major": 2,
              "version_minor": 0
            },
            "text/plain": [
              "Downloading:   0%|          | 0.00/641M [00:00<?, ?B/s]"
            ]
          },
          "metadata": {},
          "output_type": "display_data"
        },
        {
          "name": "stderr",
          "output_type": "stream",
          "text": [
            "Some weights of the model checkpoint at bert-base-multilingual-uncased were not used when initializing BertForSequenceClassification: ['cls.predictions.transform.dense.weight', 'cls.predictions.transform.dense.bias', 'cls.predictions.transform.LayerNorm.weight', 'cls.seq_relationship.bias', 'cls.seq_relationship.weight', 'cls.predictions.transform.LayerNorm.bias', 'cls.predictions.bias', 'cls.predictions.decoder.weight']\n",
            "- This IS expected if you are initializing BertForSequenceClassification from the checkpoint of a model trained on another task or with another architecture (e.g. initializing a BertForSequenceClassification model from a BertForPreTraining model).\n",
            "- This IS NOT expected if you are initializing BertForSequenceClassification from the checkpoint of a model that you expect to be exactly identical (initializing a BertForSequenceClassification model from a BertForSequenceClassification model).\n",
            "Some weights of BertForSequenceClassification were not initialized from the model checkpoint at bert-base-multilingual-uncased and are newly initialized: ['classifier.bias', 'classifier.weight']\n",
            "You should probably TRAIN this model on a down-stream task to be able to use it for predictions and inference.\n"
          ]
        },
        {
          "data": {
            "text/plain": [
              "BertForSequenceClassification(\n",
              "  (bert): BertModel(\n",
              "    (embeddings): BertEmbeddings(\n",
              "      (word_embeddings): Embedding(105879, 768, padding_idx=0)\n",
              "      (position_embeddings): Embedding(512, 768)\n",
              "      (token_type_embeddings): Embedding(2, 768)\n",
              "      (LayerNorm): LayerNorm((768,), eps=1e-12, elementwise_affine=True)\n",
              "      (dropout): Dropout(p=0.1, inplace=False)\n",
              "    )\n",
              "    (encoder): BertEncoder(\n",
              "      (layer): ModuleList(\n",
              "        (0): BertLayer(\n",
              "          (attention): BertAttention(\n",
              "            (self): BertSelfAttention(\n",
              "              (query): Linear(in_features=768, out_features=768, bias=True)\n",
              "              (key): Linear(in_features=768, out_features=768, bias=True)\n",
              "              (value): Linear(in_features=768, out_features=768, bias=True)\n",
              "              (dropout): Dropout(p=0.1, inplace=False)\n",
              "            )\n",
              "            (output): BertSelfOutput(\n",
              "              (dense): Linear(in_features=768, out_features=768, bias=True)\n",
              "              (LayerNorm): LayerNorm((768,), eps=1e-12, elementwise_affine=True)\n",
              "              (dropout): Dropout(p=0.1, inplace=False)\n",
              "            )\n",
              "          )\n",
              "          (intermediate): BertIntermediate(\n",
              "            (dense): Linear(in_features=768, out_features=3072, bias=True)\n",
              "            (intermediate_act_fn): GELUActivation()\n",
              "          )\n",
              "          (output): BertOutput(\n",
              "            (dense): Linear(in_features=3072, out_features=768, bias=True)\n",
              "            (LayerNorm): LayerNorm((768,), eps=1e-12, elementwise_affine=True)\n",
              "            (dropout): Dropout(p=0.1, inplace=False)\n",
              "          )\n",
              "        )\n",
              "        (1): BertLayer(\n",
              "          (attention): BertAttention(\n",
              "            (self): BertSelfAttention(\n",
              "              (query): Linear(in_features=768, out_features=768, bias=True)\n",
              "              (key): Linear(in_features=768, out_features=768, bias=True)\n",
              "              (value): Linear(in_features=768, out_features=768, bias=True)\n",
              "              (dropout): Dropout(p=0.1, inplace=False)\n",
              "            )\n",
              "            (output): BertSelfOutput(\n",
              "              (dense): Linear(in_features=768, out_features=768, bias=True)\n",
              "              (LayerNorm): LayerNorm((768,), eps=1e-12, elementwise_affine=True)\n",
              "              (dropout): Dropout(p=0.1, inplace=False)\n",
              "            )\n",
              "          )\n",
              "          (intermediate): BertIntermediate(\n",
              "            (dense): Linear(in_features=768, out_features=3072, bias=True)\n",
              "            (intermediate_act_fn): GELUActivation()\n",
              "          )\n",
              "          (output): BertOutput(\n",
              "            (dense): Linear(in_features=3072, out_features=768, bias=True)\n",
              "            (LayerNorm): LayerNorm((768,), eps=1e-12, elementwise_affine=True)\n",
              "            (dropout): Dropout(p=0.1, inplace=False)\n",
              "          )\n",
              "        )\n",
              "        (2): BertLayer(\n",
              "          (attention): BertAttention(\n",
              "            (self): BertSelfAttention(\n",
              "              (query): Linear(in_features=768, out_features=768, bias=True)\n",
              "              (key): Linear(in_features=768, out_features=768, bias=True)\n",
              "              (value): Linear(in_features=768, out_features=768, bias=True)\n",
              "              (dropout): Dropout(p=0.1, inplace=False)\n",
              "            )\n",
              "            (output): BertSelfOutput(\n",
              "              (dense): Linear(in_features=768, out_features=768, bias=True)\n",
              "              (LayerNorm): LayerNorm((768,), eps=1e-12, elementwise_affine=True)\n",
              "              (dropout): Dropout(p=0.1, inplace=False)\n",
              "            )\n",
              "          )\n",
              "          (intermediate): BertIntermediate(\n",
              "            (dense): Linear(in_features=768, out_features=3072, bias=True)\n",
              "            (intermediate_act_fn): GELUActivation()\n",
              "          )\n",
              "          (output): BertOutput(\n",
              "            (dense): Linear(in_features=3072, out_features=768, bias=True)\n",
              "            (LayerNorm): LayerNorm((768,), eps=1e-12, elementwise_affine=True)\n",
              "            (dropout): Dropout(p=0.1, inplace=False)\n",
              "          )\n",
              "        )\n",
              "        (3): BertLayer(\n",
              "          (attention): BertAttention(\n",
              "            (self): BertSelfAttention(\n",
              "              (query): Linear(in_features=768, out_features=768, bias=True)\n",
              "              (key): Linear(in_features=768, out_features=768, bias=True)\n",
              "              (value): Linear(in_features=768, out_features=768, bias=True)\n",
              "              (dropout): Dropout(p=0.1, inplace=False)\n",
              "            )\n",
              "            (output): BertSelfOutput(\n",
              "              (dense): Linear(in_features=768, out_features=768, bias=True)\n",
              "              (LayerNorm): LayerNorm((768,), eps=1e-12, elementwise_affine=True)\n",
              "              (dropout): Dropout(p=0.1, inplace=False)\n",
              "            )\n",
              "          )\n",
              "          (intermediate): BertIntermediate(\n",
              "            (dense): Linear(in_features=768, out_features=3072, bias=True)\n",
              "            (intermediate_act_fn): GELUActivation()\n",
              "          )\n",
              "          (output): BertOutput(\n",
              "            (dense): Linear(in_features=3072, out_features=768, bias=True)\n",
              "            (LayerNorm): LayerNorm((768,), eps=1e-12, elementwise_affine=True)\n",
              "            (dropout): Dropout(p=0.1, inplace=False)\n",
              "          )\n",
              "        )\n",
              "        (4): BertLayer(\n",
              "          (attention): BertAttention(\n",
              "            (self): BertSelfAttention(\n",
              "              (query): Linear(in_features=768, out_features=768, bias=True)\n",
              "              (key): Linear(in_features=768, out_features=768, bias=True)\n",
              "              (value): Linear(in_features=768, out_features=768, bias=True)\n",
              "              (dropout): Dropout(p=0.1, inplace=False)\n",
              "            )\n",
              "            (output): BertSelfOutput(\n",
              "              (dense): Linear(in_features=768, out_features=768, bias=True)\n",
              "              (LayerNorm): LayerNorm((768,), eps=1e-12, elementwise_affine=True)\n",
              "              (dropout): Dropout(p=0.1, inplace=False)\n",
              "            )\n",
              "          )\n",
              "          (intermediate): BertIntermediate(\n",
              "            (dense): Linear(in_features=768, out_features=3072, bias=True)\n",
              "            (intermediate_act_fn): GELUActivation()\n",
              "          )\n",
              "          (output): BertOutput(\n",
              "            (dense): Linear(in_features=3072, out_features=768, bias=True)\n",
              "            (LayerNorm): LayerNorm((768,), eps=1e-12, elementwise_affine=True)\n",
              "            (dropout): Dropout(p=0.1, inplace=False)\n",
              "          )\n",
              "        )\n",
              "        (5): BertLayer(\n",
              "          (attention): BertAttention(\n",
              "            (self): BertSelfAttention(\n",
              "              (query): Linear(in_features=768, out_features=768, bias=True)\n",
              "              (key): Linear(in_features=768, out_features=768, bias=True)\n",
              "              (value): Linear(in_features=768, out_features=768, bias=True)\n",
              "              (dropout): Dropout(p=0.1, inplace=False)\n",
              "            )\n",
              "            (output): BertSelfOutput(\n",
              "              (dense): Linear(in_features=768, out_features=768, bias=True)\n",
              "              (LayerNorm): LayerNorm((768,), eps=1e-12, elementwise_affine=True)\n",
              "              (dropout): Dropout(p=0.1, inplace=False)\n",
              "            )\n",
              "          )\n",
              "          (intermediate): BertIntermediate(\n",
              "            (dense): Linear(in_features=768, out_features=3072, bias=True)\n",
              "            (intermediate_act_fn): GELUActivation()\n",
              "          )\n",
              "          (output): BertOutput(\n",
              "            (dense): Linear(in_features=3072, out_features=768, bias=True)\n",
              "            (LayerNorm): LayerNorm((768,), eps=1e-12, elementwise_affine=True)\n",
              "            (dropout): Dropout(p=0.1, inplace=False)\n",
              "          )\n",
              "        )\n",
              "        (6): BertLayer(\n",
              "          (attention): BertAttention(\n",
              "            (self): BertSelfAttention(\n",
              "              (query): Linear(in_features=768, out_features=768, bias=True)\n",
              "              (key): Linear(in_features=768, out_features=768, bias=True)\n",
              "              (value): Linear(in_features=768, out_features=768, bias=True)\n",
              "              (dropout): Dropout(p=0.1, inplace=False)\n",
              "            )\n",
              "            (output): BertSelfOutput(\n",
              "              (dense): Linear(in_features=768, out_features=768, bias=True)\n",
              "              (LayerNorm): LayerNorm((768,), eps=1e-12, elementwise_affine=True)\n",
              "              (dropout): Dropout(p=0.1, inplace=False)\n",
              "            )\n",
              "          )\n",
              "          (intermediate): BertIntermediate(\n",
              "            (dense): Linear(in_features=768, out_features=3072, bias=True)\n",
              "            (intermediate_act_fn): GELUActivation()\n",
              "          )\n",
              "          (output): BertOutput(\n",
              "            (dense): Linear(in_features=3072, out_features=768, bias=True)\n",
              "            (LayerNorm): LayerNorm((768,), eps=1e-12, elementwise_affine=True)\n",
              "            (dropout): Dropout(p=0.1, inplace=False)\n",
              "          )\n",
              "        )\n",
              "        (7): BertLayer(\n",
              "          (attention): BertAttention(\n",
              "            (self): BertSelfAttention(\n",
              "              (query): Linear(in_features=768, out_features=768, bias=True)\n",
              "              (key): Linear(in_features=768, out_features=768, bias=True)\n",
              "              (value): Linear(in_features=768, out_features=768, bias=True)\n",
              "              (dropout): Dropout(p=0.1, inplace=False)\n",
              "            )\n",
              "            (output): BertSelfOutput(\n",
              "              (dense): Linear(in_features=768, out_features=768, bias=True)\n",
              "              (LayerNorm): LayerNorm((768,), eps=1e-12, elementwise_affine=True)\n",
              "              (dropout): Dropout(p=0.1, inplace=False)\n",
              "            )\n",
              "          )\n",
              "          (intermediate): BertIntermediate(\n",
              "            (dense): Linear(in_features=768, out_features=3072, bias=True)\n",
              "            (intermediate_act_fn): GELUActivation()\n",
              "          )\n",
              "          (output): BertOutput(\n",
              "            (dense): Linear(in_features=3072, out_features=768, bias=True)\n",
              "            (LayerNorm): LayerNorm((768,), eps=1e-12, elementwise_affine=True)\n",
              "            (dropout): Dropout(p=0.1, inplace=False)\n",
              "          )\n",
              "        )\n",
              "        (8): BertLayer(\n",
              "          (attention): BertAttention(\n",
              "            (self): BertSelfAttention(\n",
              "              (query): Linear(in_features=768, out_features=768, bias=True)\n",
              "              (key): Linear(in_features=768, out_features=768, bias=True)\n",
              "              (value): Linear(in_features=768, out_features=768, bias=True)\n",
              "              (dropout): Dropout(p=0.1, inplace=False)\n",
              "            )\n",
              "            (output): BertSelfOutput(\n",
              "              (dense): Linear(in_features=768, out_features=768, bias=True)\n",
              "              (LayerNorm): LayerNorm((768,), eps=1e-12, elementwise_affine=True)\n",
              "              (dropout): Dropout(p=0.1, inplace=False)\n",
              "            )\n",
              "          )\n",
              "          (intermediate): BertIntermediate(\n",
              "            (dense): Linear(in_features=768, out_features=3072, bias=True)\n",
              "            (intermediate_act_fn): GELUActivation()\n",
              "          )\n",
              "          (output): BertOutput(\n",
              "            (dense): Linear(in_features=3072, out_features=768, bias=True)\n",
              "            (LayerNorm): LayerNorm((768,), eps=1e-12, elementwise_affine=True)\n",
              "            (dropout): Dropout(p=0.1, inplace=False)\n",
              "          )\n",
              "        )\n",
              "        (9): BertLayer(\n",
              "          (attention): BertAttention(\n",
              "            (self): BertSelfAttention(\n",
              "              (query): Linear(in_features=768, out_features=768, bias=True)\n",
              "              (key): Linear(in_features=768, out_features=768, bias=True)\n",
              "              (value): Linear(in_features=768, out_features=768, bias=True)\n",
              "              (dropout): Dropout(p=0.1, inplace=False)\n",
              "            )\n",
              "            (output): BertSelfOutput(\n",
              "              (dense): Linear(in_features=768, out_features=768, bias=True)\n",
              "              (LayerNorm): LayerNorm((768,), eps=1e-12, elementwise_affine=True)\n",
              "              (dropout): Dropout(p=0.1, inplace=False)\n",
              "            )\n",
              "          )\n",
              "          (intermediate): BertIntermediate(\n",
              "            (dense): Linear(in_features=768, out_features=3072, bias=True)\n",
              "            (intermediate_act_fn): GELUActivation()\n",
              "          )\n",
              "          (output): BertOutput(\n",
              "            (dense): Linear(in_features=3072, out_features=768, bias=True)\n",
              "            (LayerNorm): LayerNorm((768,), eps=1e-12, elementwise_affine=True)\n",
              "            (dropout): Dropout(p=0.1, inplace=False)\n",
              "          )\n",
              "        )\n",
              "        (10): BertLayer(\n",
              "          (attention): BertAttention(\n",
              "            (self): BertSelfAttention(\n",
              "              (query): Linear(in_features=768, out_features=768, bias=True)\n",
              "              (key): Linear(in_features=768, out_features=768, bias=True)\n",
              "              (value): Linear(in_features=768, out_features=768, bias=True)\n",
              "              (dropout): Dropout(p=0.1, inplace=False)\n",
              "            )\n",
              "            (output): BertSelfOutput(\n",
              "              (dense): Linear(in_features=768, out_features=768, bias=True)\n",
              "              (LayerNorm): LayerNorm((768,), eps=1e-12, elementwise_affine=True)\n",
              "              (dropout): Dropout(p=0.1, inplace=False)\n",
              "            )\n",
              "          )\n",
              "          (intermediate): BertIntermediate(\n",
              "            (dense): Linear(in_features=768, out_features=3072, bias=True)\n",
              "            (intermediate_act_fn): GELUActivation()\n",
              "          )\n",
              "          (output): BertOutput(\n",
              "            (dense): Linear(in_features=3072, out_features=768, bias=True)\n",
              "            (LayerNorm): LayerNorm((768,), eps=1e-12, elementwise_affine=True)\n",
              "            (dropout): Dropout(p=0.1, inplace=False)\n",
              "          )\n",
              "        )\n",
              "        (11): BertLayer(\n",
              "          (attention): BertAttention(\n",
              "            (self): BertSelfAttention(\n",
              "              (query): Linear(in_features=768, out_features=768, bias=True)\n",
              "              (key): Linear(in_features=768, out_features=768, bias=True)\n",
              "              (value): Linear(in_features=768, out_features=768, bias=True)\n",
              "              (dropout): Dropout(p=0.1, inplace=False)\n",
              "            )\n",
              "            (output): BertSelfOutput(\n",
              "              (dense): Linear(in_features=768, out_features=768, bias=True)\n",
              "              (LayerNorm): LayerNorm((768,), eps=1e-12, elementwise_affine=True)\n",
              "              (dropout): Dropout(p=0.1, inplace=False)\n",
              "            )\n",
              "          )\n",
              "          (intermediate): BertIntermediate(\n",
              "            (dense): Linear(in_features=768, out_features=3072, bias=True)\n",
              "            (intermediate_act_fn): GELUActivation()\n",
              "          )\n",
              "          (output): BertOutput(\n",
              "            (dense): Linear(in_features=3072, out_features=768, bias=True)\n",
              "            (LayerNorm): LayerNorm((768,), eps=1e-12, elementwise_affine=True)\n",
              "            (dropout): Dropout(p=0.1, inplace=False)\n",
              "          )\n",
              "        )\n",
              "      )\n",
              "    )\n",
              "    (pooler): BertPooler(\n",
              "      (dense): Linear(in_features=768, out_features=768, bias=True)\n",
              "      (activation): Tanh()\n",
              "    )\n",
              "  )\n",
              "  (dropout): Dropout(p=0.1, inplace=False)\n",
              "  (classifier): Linear(in_features=768, out_features=3, bias=True)\n",
              ")"
            ]
          },
          "execution_count": 26,
          "metadata": {},
          "output_type": "execute_result"
        }
      ],
      "source": [
        "model = BertForSequenceClassification.from_pretrained(\"bert-base-multilingual-uncased\", num_labels = 3, output_attentions = False, output_hidden_states = False)\n",
        "model.cuda()"
      ]
    },
    {
      "cell_type": "code",
      "execution_count": null,
      "id": "c705d3b8",
      "metadata": {
        "execution": {
          "iopub.execute_input": "2022-11-29T16:41:50.813958Z",
          "iopub.status.busy": "2022-11-29T16:41:50.81237Z",
          "iopub.status.idle": "2022-11-29T16:41:50.821925Z",
          "shell.execute_reply": "2022-11-29T16:41:50.820873Z"
        },
        "papermill": {
          "duration": 0.035795,
          "end_time": "2022-11-29T16:41:50.82454",
          "exception": false,
          "start_time": "2022-11-29T16:41:50.788745",
          "status": "completed"
        },
        "tags": [],
        "id": "c705d3b8",
        "outputId": "9d1221f1-1800-4d38-9f60-1599023c3e8f"
      },
      "outputs": [
        {
          "name": "stdout",
          "output_type": "stream",
          "text": [
            "The BERT model has 201 different named parameters.\n",
            "==== Embedding Layer ====\n",
            "bert.embeddings.word_embeddings.weight                       (105879, 768)\n",
            "bert.embeddings.position_embeddings.weight                     (512, 768)\n",
            "bert.embeddings.token_type_embeddings.weight                     (2, 768)\n",
            "bert.embeddings.LayerNorm.weight                                   (768,)\n",
            "bert.embeddings.LayerNorm.bias                                     (768,)\n",
            "==== First Transformers ====\n",
            "bert.encoder.layer.0.attention.self.query.weight               (768, 768)\n",
            "bert.encoder.layer.0.attention.self.query.bias                     (768,)\n",
            "bert.encoder.layer.0.attention.self.key.weight                 (768, 768)\n",
            "bert.encoder.layer.0.attention.self.key.bias                       (768,)\n",
            "bert.encoder.layer.0.attention.self.value.weight               (768, 768)\n",
            "bert.encoder.layer.0.attention.self.value.bias                     (768,)\n",
            "bert.encoder.layer.0.attention.output.dense.weight             (768, 768)\n",
            "bert.encoder.layer.0.attention.output.dense.bias                   (768,)\n",
            "bert.encoder.layer.0.attention.output.LayerNorm.weight             (768,)\n",
            "bert.encoder.layer.0.attention.output.LayerNorm.bias               (768,)\n",
            "bert.encoder.layer.0.intermediate.dense.weight                (3072, 768)\n",
            "bert.encoder.layer.0.intermediate.dense.bias                      (3072,)\n",
            "bert.encoder.layer.0.output.dense.weight                      (768, 3072)\n",
            "bert.encoder.layer.0.output.dense.bias                             (768,)\n",
            "bert.encoder.layer.0.output.LayerNorm.weight                       (768,)\n",
            "bert.encoder.layer.0.output.LayerNorm.bias                         (768,)\n",
            "==== Output Layer ====\n",
            "bert.pooler.dense.weight                                       (768, 768)\n",
            "bert.pooler.dense.bias                                             (768,)\n",
            "classifier.weight                                                (3, 768)\n",
            "classifier.bias                                                      (3,)\n"
          ]
        }
      ],
      "source": [
        "params = list(model.named_parameters())\n",
        "\n",
        "print(\"The BERT model has {:} different named parameters.\".format(len(params)))\n",
        "\n",
        "print(\"==== Embedding Layer ====\")\n",
        "for p in params[0:5]:\n",
        "  print(\"{:<60} {:>12}\".format(p[0], str(tuple(p[1].size()))))\n",
        "\n",
        "print(\"==== First Transformers ====\")\n",
        "for p in params[5:21]:\n",
        "  print(\"{:<60} {:>12}\".format(p[0], str(tuple(p[1].size()))))\n",
        "\n",
        "print(\"==== Output Layer ====\")\n",
        "for p in params[-4:]:\n",
        "  print(\"{:<60} {:>12}\".format(p[0], str(tuple(p[1].size()))))"
      ]
    },
    {
      "cell_type": "code",
      "execution_count": null,
      "id": "25c626f5",
      "metadata": {
        "execution": {
          "iopub.execute_input": "2022-11-29T16:41:50.874936Z",
          "iopub.status.busy": "2022-11-29T16:41:50.874235Z",
          "iopub.status.idle": "2022-11-29T16:41:50.886679Z",
          "shell.execute_reply": "2022-11-29T16:41:50.885697Z"
        },
        "papermill": {
          "duration": 0.041622,
          "end_time": "2022-11-29T16:41:50.889537",
          "exception": false,
          "start_time": "2022-11-29T16:41:50.847915",
          "status": "completed"
        },
        "tags": [],
        "id": "25c626f5"
      },
      "outputs": [],
      "source": [
        "optimizer = AdamW(model.parameters(), lr = 2e-5, eps = 1e-8 )"
      ]
    },
    {
      "cell_type": "code",
      "execution_count": null,
      "id": "66d9ec56",
      "metadata": {
        "execution": {
          "iopub.execute_input": "2022-11-29T16:41:50.974782Z",
          "iopub.status.busy": "2022-11-29T16:41:50.974262Z",
          "iopub.status.idle": "2022-11-29T16:41:50.981108Z",
          "shell.execute_reply": "2022-11-29T16:41:50.980069Z"
        },
        "papermill": {
          "duration": 0.055478,
          "end_time": "2022-11-29T16:41:50.987514",
          "exception": false,
          "start_time": "2022-11-29T16:41:50.932036",
          "status": "completed"
        },
        "tags": [],
        "id": "66d9ec56"
      },
      "outputs": [],
      "source": [
        "epochs = 4\n",
        "\n",
        "total_steps = len(train_dataloader) * epochs\n",
        "\n",
        "scheduler = get_linear_schedule_with_warmup(optimizer, num_warmup_steps = 0, num_training_steps = total_steps)"
      ]
    },
    {
      "cell_type": "code",
      "execution_count": null,
      "id": "0259cec2",
      "metadata": {
        "execution": {
          "iopub.execute_input": "2022-11-29T16:41:51.079182Z",
          "iopub.status.busy": "2022-11-29T16:41:51.078529Z",
          "iopub.status.idle": "2022-11-29T16:41:51.084845Z",
          "shell.execute_reply": "2022-11-29T16:41:51.083777Z"
        },
        "papermill": {
          "duration": 0.047455,
          "end_time": "2022-11-29T16:41:51.087699",
          "exception": false,
          "start_time": "2022-11-29T16:41:51.040244",
          "status": "completed"
        },
        "tags": [],
        "id": "0259cec2"
      },
      "outputs": [],
      "source": [
        "def flat_accuracy(preds, labels):\n",
        "    pred_flat = np.argmax(preds, axis=1).flatten()\n",
        "    labels_flat = labels.flatten()\n",
        "    return np.sum(pred_flat == labels_flat) / len(labels_flat)"
      ]
    },
    {
      "cell_type": "code",
      "execution_count": null,
      "id": "44a43f79",
      "metadata": {
        "execution": {
          "iopub.execute_input": "2022-11-29T16:41:51.163897Z",
          "iopub.status.busy": "2022-11-29T16:41:51.1635Z",
          "iopub.status.idle": "2022-11-29T16:41:51.168508Z",
          "shell.execute_reply": "2022-11-29T16:41:51.167502Z"
        },
        "papermill": {
          "duration": 0.045687,
          "end_time": "2022-11-29T16:41:51.171248",
          "exception": false,
          "start_time": "2022-11-29T16:41:51.125561",
          "status": "completed"
        },
        "tags": [],
        "id": "44a43f79"
      },
      "outputs": [],
      "source": [
        "def format_time(elapsed):\n",
        "    elapsed_rounded = int(round((elapsed)))\n",
        "    return str(datetime.timedelta(seconds=elapsed_rounded))"
      ]
    },
    {
      "cell_type": "markdown",
      "id": "17443c24",
      "metadata": {
        "papermill": {
          "duration": 0.037328,
          "end_time": "2022-11-29T16:41:51.245716",
          "exception": false,
          "start_time": "2022-11-29T16:41:51.208388",
          "status": "completed"
        },
        "tags": [],
        "id": "17443c24"
      },
      "source": [
        "## Training BERT"
      ]
    },
    {
      "cell_type": "code",
      "execution_count": null,
      "id": "2c48995b",
      "metadata": {
        "execution": {
          "iopub.execute_input": "2022-11-29T16:41:51.318408Z",
          "iopub.status.busy": "2022-11-29T16:41:51.318106Z",
          "iopub.status.idle": "2022-11-30T00:19:55.444621Z",
          "shell.execute_reply": "2022-11-30T00:19:55.443508Z"
        },
        "papermill": {
          "duration": 27484.213204,
          "end_time": "2022-11-30T00:19:55.494287",
          "exception": false,
          "start_time": "2022-11-29T16:41:51.281083",
          "status": "completed"
        },
        "tags": [],
        "id": "2c48995b",
        "outputId": "cbdc94a8-623e-4b0f-ca90-e34aea04410a"
      },
      "outputs": [
        {
          "name": "stdout",
          "output_type": "stream",
          "text": [
            "======= Epoch 1 / 4 =======\n",
            "Training...\n",
            "Batch    40 of 5,089.     Elapsed: 0:00:49\n",
            "Batch    80 of 5,089.     Elapsed: 0:01:38\n",
            "Batch   120 of 5,089.     Elapsed: 0:02:30\n",
            "Batch   160 of 5,089.     Elapsed: 0:03:22\n",
            "Batch   200 of 5,089.     Elapsed: 0:04:14\n",
            "Batch   240 of 5,089.     Elapsed: 0:05:06\n",
            "Batch   280 of 5,089.     Elapsed: 0:05:58\n",
            "Batch   320 of 5,089.     Elapsed: 0:06:50\n",
            "Batch   360 of 5,089.     Elapsed: 0:07:42\n",
            "Batch   400 of 5,089.     Elapsed: 0:08:34\n",
            "Batch   440 of 5,089.     Elapsed: 0:09:25\n",
            "Batch   480 of 5,089.     Elapsed: 0:10:17\n",
            "Batch   520 of 5,089.     Elapsed: 0:11:09\n",
            "Batch   560 of 5,089.     Elapsed: 0:12:01\n",
            "Batch   600 of 5,089.     Elapsed: 0:12:53\n",
            "Batch   640 of 5,089.     Elapsed: 0:13:45\n",
            "Batch   680 of 5,089.     Elapsed: 0:14:37\n",
            "Batch   720 of 5,089.     Elapsed: 0:15:29\n",
            "Batch   760 of 5,089.     Elapsed: 0:16:21\n",
            "Batch   800 of 5,089.     Elapsed: 0:17:12\n",
            "Batch   840 of 5,089.     Elapsed: 0:18:04\n",
            "Batch   880 of 5,089.     Elapsed: 0:18:56\n",
            "Batch   920 of 5,089.     Elapsed: 0:19:48\n",
            "Batch   960 of 5,089.     Elapsed: 0:20:40\n",
            "Batch 1,000 of 5,089.     Elapsed: 0:21:32\n",
            "Batch 1,040 of 5,089.     Elapsed: 0:22:23\n",
            "Batch 1,080 of 5,089.     Elapsed: 0:23:15\n",
            "Batch 1,120 of 5,089.     Elapsed: 0:24:07\n",
            "Batch 1,160 of 5,089.     Elapsed: 0:24:59\n",
            "Batch 1,200 of 5,089.     Elapsed: 0:25:51\n",
            "Batch 1,240 of 5,089.     Elapsed: 0:26:43\n",
            "Batch 1,280 of 5,089.     Elapsed: 0:27:35\n",
            "Batch 1,320 of 5,089.     Elapsed: 0:28:27\n",
            "Batch 1,360 of 5,089.     Elapsed: 0:29:19\n",
            "Batch 1,400 of 5,089.     Elapsed: 0:30:11\n",
            "Batch 1,440 of 5,089.     Elapsed: 0:31:02\n",
            "Batch 1,480 of 5,089.     Elapsed: 0:31:54\n",
            "Batch 1,520 of 5,089.     Elapsed: 0:32:46\n",
            "Batch 1,560 of 5,089.     Elapsed: 0:33:38\n",
            "Batch 1,600 of 5,089.     Elapsed: 0:34:30\n",
            "Batch 1,640 of 5,089.     Elapsed: 0:35:22\n",
            "Batch 1,680 of 5,089.     Elapsed: 0:36:13\n",
            "Batch 1,720 of 5,089.     Elapsed: 0:37:05\n",
            "Batch 1,760 of 5,089.     Elapsed: 0:37:57\n",
            "Batch 1,800 of 5,089.     Elapsed: 0:38:49\n",
            "Batch 1,840 of 5,089.     Elapsed: 0:39:41\n",
            "Batch 1,880 of 5,089.     Elapsed: 0:40:33\n",
            "Batch 1,920 of 5,089.     Elapsed: 0:41:25\n",
            "Batch 1,960 of 5,089.     Elapsed: 0:42:17\n",
            "Batch 2,000 of 5,089.     Elapsed: 0:43:09\n",
            "Batch 2,040 of 5,089.     Elapsed: 0:44:00\n",
            "Batch 2,080 of 5,089.     Elapsed: 0:44:52\n",
            "Batch 2,120 of 5,089.     Elapsed: 0:45:44\n",
            "Batch 2,160 of 5,089.     Elapsed: 0:46:36\n",
            "Batch 2,200 of 5,089.     Elapsed: 0:47:28\n",
            "Batch 2,240 of 5,089.     Elapsed: 0:48:20\n",
            "Batch 2,280 of 5,089.     Elapsed: 0:49:12\n",
            "Batch 2,320 of 5,089.     Elapsed: 0:50:04\n",
            "Batch 2,360 of 5,089.     Elapsed: 0:50:55\n",
            "Batch 2,400 of 5,089.     Elapsed: 0:51:47\n",
            "Batch 2,440 of 5,089.     Elapsed: 0:52:39\n",
            "Batch 2,480 of 5,089.     Elapsed: 0:53:31\n",
            "Batch 2,520 of 5,089.     Elapsed: 0:54:23\n",
            "Batch 2,560 of 5,089.     Elapsed: 0:55:15\n",
            "Batch 2,600 of 5,089.     Elapsed: 0:56:07\n",
            "Batch 2,640 of 5,089.     Elapsed: 0:56:59\n",
            "Batch 2,680 of 5,089.     Elapsed: 0:57:51\n",
            "Batch 2,720 of 5,089.     Elapsed: 0:58:42\n",
            "Batch 2,760 of 5,089.     Elapsed: 0:59:34\n",
            "Batch 2,800 of 5,089.     Elapsed: 1:00:26\n",
            "Batch 2,840 of 5,089.     Elapsed: 1:01:18\n",
            "Batch 2,880 of 5,089.     Elapsed: 1:02:10\n",
            "Batch 2,920 of 5,089.     Elapsed: 1:03:02\n",
            "Batch 2,960 of 5,089.     Elapsed: 1:03:54\n",
            "Batch 3,000 of 5,089.     Elapsed: 1:04:46\n",
            "Batch 3,040 of 5,089.     Elapsed: 1:05:38\n",
            "Batch 3,080 of 5,089.     Elapsed: 1:06:30\n",
            "Batch 3,120 of 5,089.     Elapsed: 1:07:22\n",
            "Batch 3,160 of 5,089.     Elapsed: 1:08:13\n",
            "Batch 3,200 of 5,089.     Elapsed: 1:09:05\n",
            "Batch 3,240 of 5,089.     Elapsed: 1:09:57\n",
            "Batch 3,280 of 5,089.     Elapsed: 1:10:49\n",
            "Batch 3,320 of 5,089.     Elapsed: 1:11:41\n",
            "Batch 3,360 of 5,089.     Elapsed: 1:12:33\n",
            "Batch 3,400 of 5,089.     Elapsed: 1:13:25\n",
            "Batch 3,440 of 5,089.     Elapsed: 1:14:17\n",
            "Batch 3,480 of 5,089.     Elapsed: 1:15:09\n",
            "Batch 3,520 of 5,089.     Elapsed: 1:16:01\n",
            "Batch 3,560 of 5,089.     Elapsed: 1:16:52\n",
            "Batch 3,600 of 5,089.     Elapsed: 1:17:44\n",
            "Batch 3,640 of 5,089.     Elapsed: 1:18:36\n",
            "Batch 3,680 of 5,089.     Elapsed: 1:19:28\n",
            "Batch 3,720 of 5,089.     Elapsed: 1:20:20\n",
            "Batch 3,760 of 5,089.     Elapsed: 1:21:12\n",
            "Batch 3,800 of 5,089.     Elapsed: 1:22:04\n",
            "Batch 3,840 of 5,089.     Elapsed: 1:22:56\n",
            "Batch 3,880 of 5,089.     Elapsed: 1:23:48\n",
            "Batch 3,920 of 5,089.     Elapsed: 1:24:39\n",
            "Batch 3,960 of 5,089.     Elapsed: 1:25:31\n",
            "Batch 4,000 of 5,089.     Elapsed: 1:26:23\n",
            "Batch 4,040 of 5,089.     Elapsed: 1:27:15\n",
            "Batch 4,080 of 5,089.     Elapsed: 1:28:07\n",
            "Batch 4,120 of 5,089.     Elapsed: 1:28:59\n",
            "Batch 4,160 of 5,089.     Elapsed: 1:29:51\n",
            "Batch 4,200 of 5,089.     Elapsed: 1:30:43\n",
            "Batch 4,240 of 5,089.     Elapsed: 1:31:35\n",
            "Batch 4,280 of 5,089.     Elapsed: 1:32:26\n",
            "Batch 4,320 of 5,089.     Elapsed: 1:33:18\n",
            "Batch 4,360 of 5,089.     Elapsed: 1:34:10\n",
            "Batch 4,400 of 5,089.     Elapsed: 1:35:02\n",
            "Batch 4,440 of 5,089.     Elapsed: 1:35:54\n",
            "Batch 4,480 of 5,089.     Elapsed: 1:36:46\n",
            "Batch 4,520 of 5,089.     Elapsed: 1:37:38\n",
            "Batch 4,560 of 5,089.     Elapsed: 1:38:30\n",
            "Batch 4,600 of 5,089.     Elapsed: 1:39:21\n",
            "Batch 4,640 of 5,089.     Elapsed: 1:40:13\n",
            "Batch 4,680 of 5,089.     Elapsed: 1:41:05\n",
            "Batch 4,720 of 5,089.     Elapsed: 1:41:57\n",
            "Batch 4,760 of 5,089.     Elapsed: 1:42:49\n",
            "Batch 4,800 of 5,089.     Elapsed: 1:43:41\n",
            "Batch 4,840 of 5,089.     Elapsed: 1:44:33\n",
            "Batch 4,880 of 5,089.     Elapsed: 1:45:25\n",
            "Batch 4,920 of 5,089.     Elapsed: 1:46:16\n",
            "Batch 4,960 of 5,089.     Elapsed: 1:47:08\n",
            "Batch 5,000 of 5,089.     Elapsed: 1:48:00\n",
            "Batch 5,040 of 5,089.     Elapsed: 1:48:52\n",
            "Batch 5,080 of 5,089.     Elapsed: 1:49:44\n",
            "   Average training loss: 0.21\n",
            "   Training epoch took: 1:49:55\n",
            "Running Validation...\n",
            "Accuracy: 0.94\n",
            "Validation took: 0:04:28\n",
            "======= Epoch 2 / 4 =======\n",
            "Training...\n",
            "Batch    40 of 5,089.     Elapsed: 0:00:52\n",
            "Batch    80 of 5,089.     Elapsed: 0:01:44\n",
            "Batch   120 of 5,089.     Elapsed: 0:02:36\n",
            "Batch   160 of 5,089.     Elapsed: 0:03:28\n",
            "Batch   200 of 5,089.     Elapsed: 0:04:19\n",
            "Batch   240 of 5,089.     Elapsed: 0:05:11\n",
            "Batch   280 of 5,089.     Elapsed: 0:06:03\n",
            "Batch   320 of 5,089.     Elapsed: 0:06:55\n",
            "Batch   360 of 5,089.     Elapsed: 0:07:47\n",
            "Batch   400 of 5,089.     Elapsed: 0:08:39\n",
            "Batch   440 of 5,089.     Elapsed: 0:09:31\n",
            "Batch   480 of 5,089.     Elapsed: 0:10:23\n",
            "Batch   520 of 5,089.     Elapsed: 0:11:15\n",
            "Batch   560 of 5,089.     Elapsed: 0:12:07\n",
            "Batch   600 of 5,089.     Elapsed: 0:12:59\n",
            "Batch   640 of 5,089.     Elapsed: 0:13:51\n",
            "Batch   680 of 5,089.     Elapsed: 0:14:42\n",
            "Batch   720 of 5,089.     Elapsed: 0:15:34\n",
            "Batch   760 of 5,089.     Elapsed: 0:16:26\n",
            "Batch   800 of 5,089.     Elapsed: 0:17:18\n",
            "Batch   840 of 5,089.     Elapsed: 0:18:10\n",
            "Batch   880 of 5,089.     Elapsed: 0:19:02\n",
            "Batch   920 of 5,089.     Elapsed: 0:19:54\n",
            "Batch   960 of 5,089.     Elapsed: 0:20:46\n",
            "Batch 1,000 of 5,089.     Elapsed: 0:21:38\n",
            "Batch 1,040 of 5,089.     Elapsed: 0:22:30\n",
            "Batch 1,080 of 5,089.     Elapsed: 0:23:22\n",
            "Batch 1,120 of 5,089.     Elapsed: 0:24:14\n",
            "Batch 1,160 of 5,089.     Elapsed: 0:25:06\n",
            "Batch 1,200 of 5,089.     Elapsed: 0:25:58\n",
            "Batch 1,240 of 5,089.     Elapsed: 0:26:49\n",
            "Batch 1,280 of 5,089.     Elapsed: 0:27:41\n",
            "Batch 1,320 of 5,089.     Elapsed: 0:28:33\n",
            "Batch 1,360 of 5,089.     Elapsed: 0:29:25\n",
            "Batch 1,400 of 5,089.     Elapsed: 0:30:17\n",
            "Batch 1,440 of 5,089.     Elapsed: 0:31:09\n",
            "Batch 1,480 of 5,089.     Elapsed: 0:32:01\n",
            "Batch 1,520 of 5,089.     Elapsed: 0:32:53\n",
            "Batch 1,560 of 5,089.     Elapsed: 0:33:44\n",
            "Batch 1,600 of 5,089.     Elapsed: 0:34:36\n",
            "Batch 1,640 of 5,089.     Elapsed: 0:35:28\n",
            "Batch 1,680 of 5,089.     Elapsed: 0:36:20\n",
            "Batch 1,720 of 5,089.     Elapsed: 0:37:12\n",
            "Batch 1,760 of 5,089.     Elapsed: 0:38:04\n",
            "Batch 1,800 of 5,089.     Elapsed: 0:38:56\n",
            "Batch 1,840 of 5,089.     Elapsed: 0:39:48\n",
            "Batch 1,880 of 5,089.     Elapsed: 0:40:40\n",
            "Batch 1,920 of 5,089.     Elapsed: 0:41:32\n",
            "Batch 1,960 of 5,089.     Elapsed: 0:42:23\n",
            "Batch 2,000 of 5,089.     Elapsed: 0:43:15\n",
            "Batch 2,040 of 5,089.     Elapsed: 0:44:07\n",
            "Batch 2,080 of 5,089.     Elapsed: 0:44:59\n",
            "Batch 2,120 of 5,089.     Elapsed: 0:45:51\n",
            "Batch 2,160 of 5,089.     Elapsed: 0:46:43\n",
            "Batch 2,200 of 5,089.     Elapsed: 0:47:35\n",
            "Batch 2,240 of 5,089.     Elapsed: 0:48:27\n",
            "Batch 2,280 of 5,089.     Elapsed: 0:49:19\n",
            "Batch 2,320 of 5,089.     Elapsed: 0:50:11\n",
            "Batch 2,360 of 5,089.     Elapsed: 0:51:02\n",
            "Batch 2,400 of 5,089.     Elapsed: 0:51:54\n",
            "Batch 2,440 of 5,089.     Elapsed: 0:52:46\n",
            "Batch 2,480 of 5,089.     Elapsed: 0:53:38\n",
            "Batch 2,520 of 5,089.     Elapsed: 0:54:30\n",
            "Batch 2,560 of 5,089.     Elapsed: 0:55:22\n",
            "Batch 2,600 of 5,089.     Elapsed: 0:56:14\n",
            "Batch 2,640 of 5,089.     Elapsed: 0:57:06\n",
            "Batch 2,680 of 5,089.     Elapsed: 0:57:58\n",
            "Batch 2,720 of 5,089.     Elapsed: 0:58:50\n",
            "Batch 2,760 of 5,089.     Elapsed: 0:59:42\n",
            "Batch 2,800 of 5,089.     Elapsed: 1:00:34\n",
            "Batch 2,840 of 5,089.     Elapsed: 1:01:25\n",
            "Batch 2,880 of 5,089.     Elapsed: 1:02:17\n",
            "Batch 2,920 of 5,089.     Elapsed: 1:03:09\n",
            "Batch 2,960 of 5,089.     Elapsed: 1:04:01\n",
            "Batch 3,000 of 5,089.     Elapsed: 1:04:53\n",
            "Batch 3,040 of 5,089.     Elapsed: 1:05:45\n",
            "Batch 3,080 of 5,089.     Elapsed: 1:06:37\n",
            "Batch 3,120 of 5,089.     Elapsed: 1:07:29\n",
            "Batch 3,160 of 5,089.     Elapsed: 1:08:21\n",
            "Batch 3,200 of 5,089.     Elapsed: 1:09:12\n",
            "Batch 3,240 of 5,089.     Elapsed: 1:10:04\n",
            "Batch 3,280 of 5,089.     Elapsed: 1:10:56\n",
            "Batch 3,320 of 5,089.     Elapsed: 1:11:48\n",
            "Batch 3,360 of 5,089.     Elapsed: 1:12:40\n",
            "Batch 3,400 of 5,089.     Elapsed: 1:13:32\n",
            "Batch 3,440 of 5,089.     Elapsed: 1:14:24\n",
            "Batch 3,480 of 5,089.     Elapsed: 1:15:16\n",
            "Batch 3,520 of 5,089.     Elapsed: 1:16:07\n",
            "Batch 3,560 of 5,089.     Elapsed: 1:16:59\n",
            "Batch 3,600 of 5,089.     Elapsed: 1:17:51\n",
            "Batch 3,640 of 5,089.     Elapsed: 1:18:43\n",
            "Batch 3,680 of 5,089.     Elapsed: 1:19:35\n",
            "Batch 3,720 of 5,089.     Elapsed: 1:20:27\n",
            "Batch 3,760 of 5,089.     Elapsed: 1:21:19\n",
            "Batch 3,800 of 5,089.     Elapsed: 1:22:10\n",
            "Batch 3,840 of 5,089.     Elapsed: 1:23:02\n",
            "Batch 3,880 of 5,089.     Elapsed: 1:23:54\n",
            "Batch 3,920 of 5,089.     Elapsed: 1:24:46\n",
            "Batch 3,960 of 5,089.     Elapsed: 1:25:38\n",
            "Batch 4,000 of 5,089.     Elapsed: 1:26:30\n",
            "Batch 4,040 of 5,089.     Elapsed: 1:27:22\n",
            "Batch 4,080 of 5,089.     Elapsed: 1:28:14\n",
            "Batch 4,120 of 5,089.     Elapsed: 1:29:06\n",
            "Batch 4,160 of 5,089.     Elapsed: 1:29:58\n",
            "Batch 4,200 of 5,089.     Elapsed: 1:30:50\n",
            "Batch 4,240 of 5,089.     Elapsed: 1:31:41\n",
            "Batch 4,280 of 5,089.     Elapsed: 1:32:33\n",
            "Batch 4,320 of 5,089.     Elapsed: 1:33:25\n",
            "Batch 4,360 of 5,089.     Elapsed: 1:34:17\n",
            "Batch 4,400 of 5,089.     Elapsed: 1:35:09\n",
            "Batch 4,440 of 5,089.     Elapsed: 1:36:01\n",
            "Batch 4,480 of 5,089.     Elapsed: 1:36:53\n",
            "Batch 4,520 of 5,089.     Elapsed: 1:37:45\n",
            "Batch 4,560 of 5,089.     Elapsed: 1:38:36\n",
            "Batch 4,600 of 5,089.     Elapsed: 1:39:28\n",
            "Batch 4,640 of 5,089.     Elapsed: 1:40:20\n",
            "Batch 4,680 of 5,089.     Elapsed: 1:41:12\n",
            "Batch 4,720 of 5,089.     Elapsed: 1:42:04\n",
            "Batch 4,760 of 5,089.     Elapsed: 1:42:56\n",
            "Batch 4,800 of 5,089.     Elapsed: 1:43:48\n",
            "Batch 4,840 of 5,089.     Elapsed: 1:44:40\n",
            "Batch 4,880 of 5,089.     Elapsed: 1:45:32\n",
            "Batch 4,920 of 5,089.     Elapsed: 1:46:24\n",
            "Batch 4,960 of 5,089.     Elapsed: 1:47:16\n",
            "Batch 5,000 of 5,089.     Elapsed: 1:48:08\n",
            "Batch 5,040 of 5,089.     Elapsed: 1:49:00\n",
            "Batch 5,080 of 5,089.     Elapsed: 1:49:51\n",
            "   Average training loss: 0.17\n",
            "   Training epoch took: 1:50:03\n",
            "Running Validation...\n",
            "Accuracy: 0.94\n",
            "Validation took: 0:04:29\n",
            "======= Epoch 3 / 4 =======\n",
            "Training...\n",
            "Batch    40 of 5,089.     Elapsed: 0:00:52\n",
            "Batch    80 of 5,089.     Elapsed: 0:01:44\n",
            "Batch   120 of 5,089.     Elapsed: 0:02:36\n",
            "Batch   160 of 5,089.     Elapsed: 0:03:28\n",
            "Batch   200 of 5,089.     Elapsed: 0:04:19\n",
            "Batch   240 of 5,089.     Elapsed: 0:05:11\n",
            "Batch   280 of 5,089.     Elapsed: 0:06:03\n",
            "Batch   320 of 5,089.     Elapsed: 0:06:55\n",
            "Batch   360 of 5,089.     Elapsed: 0:07:47\n",
            "Batch   400 of 5,089.     Elapsed: 0:08:39\n",
            "Batch   440 of 5,089.     Elapsed: 0:09:31\n",
            "Batch   480 of 5,089.     Elapsed: 0:10:23\n",
            "Batch   520 of 5,089.     Elapsed: 0:11:15\n",
            "Batch   560 of 5,089.     Elapsed: 0:12:07\n",
            "Batch   600 of 5,089.     Elapsed: 0:12:59\n",
            "Batch   640 of 5,089.     Elapsed: 0:13:50\n",
            "Batch   680 of 5,089.     Elapsed: 0:14:42\n",
            "Batch   720 of 5,089.     Elapsed: 0:15:34\n",
            "Batch   760 of 5,089.     Elapsed: 0:16:26\n",
            "Batch   800 of 5,089.     Elapsed: 0:17:18\n",
            "Batch   840 of 5,089.     Elapsed: 0:18:10\n",
            "Batch   880 of 5,089.     Elapsed: 0:19:02\n",
            "Batch   920 of 5,089.     Elapsed: 0:19:54\n",
            "Batch   960 of 5,089.     Elapsed: 0:20:46\n",
            "Batch 1,000 of 5,089.     Elapsed: 0:21:38\n",
            "Batch 1,040 of 5,089.     Elapsed: 0:22:30\n",
            "Batch 1,080 of 5,089.     Elapsed: 0:23:22\n",
            "Batch 1,120 of 5,089.     Elapsed: 0:24:13\n",
            "Batch 1,160 of 5,089.     Elapsed: 0:25:05\n",
            "Batch 1,200 of 5,089.     Elapsed: 0:25:57\n",
            "Batch 1,240 of 5,089.     Elapsed: 0:26:49\n",
            "Batch 1,280 of 5,089.     Elapsed: 0:27:41\n",
            "Batch 1,320 of 5,089.     Elapsed: 0:28:33\n",
            "Batch 1,360 of 5,089.     Elapsed: 0:29:25\n",
            "Batch 1,400 of 5,089.     Elapsed: 0:30:17\n",
            "Batch 1,440 of 5,089.     Elapsed: 0:31:09\n",
            "Batch 1,480 of 5,089.     Elapsed: 0:32:01\n",
            "Batch 1,520 of 5,089.     Elapsed: 0:32:53\n",
            "Batch 1,560 of 5,089.     Elapsed: 0:33:45\n",
            "Batch 1,600 of 5,089.     Elapsed: 0:34:37\n",
            "Batch 1,640 of 5,089.     Elapsed: 0:35:29\n",
            "Batch 1,680 of 5,089.     Elapsed: 0:36:21\n",
            "Batch 1,720 of 5,089.     Elapsed: 0:37:13\n",
            "Batch 1,760 of 5,089.     Elapsed: 0:38:04\n",
            "Batch 1,800 of 5,089.     Elapsed: 0:38:56\n",
            "Batch 1,840 of 5,089.     Elapsed: 0:39:48\n",
            "Batch 1,880 of 5,089.     Elapsed: 0:40:40\n",
            "Batch 1,920 of 5,089.     Elapsed: 0:41:32\n",
            "Batch 1,960 of 5,089.     Elapsed: 0:42:24\n",
            "Batch 2,000 of 5,089.     Elapsed: 0:43:16\n",
            "Batch 2,040 of 5,089.     Elapsed: 0:44:08\n",
            "Batch 2,080 of 5,089.     Elapsed: 0:45:00\n",
            "Batch 2,120 of 5,089.     Elapsed: 0:45:52\n",
            "Batch 2,160 of 5,089.     Elapsed: 0:46:44\n",
            "Batch 2,200 of 5,089.     Elapsed: 0:47:35\n",
            "Batch 2,240 of 5,089.     Elapsed: 0:48:27\n",
            "Batch 2,280 of 5,089.     Elapsed: 0:49:19\n",
            "Batch 2,320 of 5,089.     Elapsed: 0:50:11\n",
            "Batch 2,360 of 5,089.     Elapsed: 0:51:03\n",
            "Batch 2,400 of 5,089.     Elapsed: 0:51:55\n",
            "Batch 2,440 of 5,089.     Elapsed: 0:52:47\n",
            "Batch 2,480 of 5,089.     Elapsed: 0:53:39\n",
            "Batch 2,520 of 5,089.     Elapsed: 0:54:31\n",
            "Batch 2,560 of 5,089.     Elapsed: 0:55:23\n",
            "Batch 2,600 of 5,089.     Elapsed: 0:56:15\n",
            "Batch 2,640 of 5,089.     Elapsed: 0:57:06\n",
            "Batch 2,680 of 5,089.     Elapsed: 0:57:58\n",
            "Batch 2,720 of 5,089.     Elapsed: 0:58:50\n",
            "Batch 2,760 of 5,089.     Elapsed: 0:59:42\n",
            "Batch 2,800 of 5,089.     Elapsed: 1:00:34\n",
            "Batch 2,840 of 5,089.     Elapsed: 1:01:26\n",
            "Batch 2,880 of 5,089.     Elapsed: 1:02:18\n",
            "Batch 2,920 of 5,089.     Elapsed: 1:03:10\n",
            "Batch 2,960 of 5,089.     Elapsed: 1:04:02\n",
            "Batch 3,000 of 5,089.     Elapsed: 1:04:54\n",
            "Batch 3,040 of 5,089.     Elapsed: 1:05:45\n",
            "Batch 3,080 of 5,089.     Elapsed: 1:06:37\n",
            "Batch 3,120 of 5,089.     Elapsed: 1:07:29\n",
            "Batch 3,160 of 5,089.     Elapsed: 1:08:21\n",
            "Batch 3,200 of 5,089.     Elapsed: 1:09:13\n",
            "Batch 3,240 of 5,089.     Elapsed: 1:10:05\n",
            "Batch 3,280 of 5,089.     Elapsed: 1:10:57\n",
            "Batch 3,320 of 5,089.     Elapsed: 1:11:49\n",
            "Batch 3,360 of 5,089.     Elapsed: 1:12:41\n",
            "Batch 3,400 of 5,089.     Elapsed: 1:13:33\n",
            "Batch 3,440 of 5,089.     Elapsed: 1:14:25\n",
            "Batch 3,480 of 5,089.     Elapsed: 1:15:17\n",
            "Batch 3,520 of 5,089.     Elapsed: 1:16:08\n",
            "Batch 3,560 of 5,089.     Elapsed: 1:17:00\n",
            "Batch 3,600 of 5,089.     Elapsed: 1:17:52\n",
            "Batch 3,640 of 5,089.     Elapsed: 1:18:44\n",
            "Batch 3,680 of 5,089.     Elapsed: 1:19:36\n",
            "Batch 3,720 of 5,089.     Elapsed: 1:20:28\n",
            "Batch 3,760 of 5,089.     Elapsed: 1:21:20\n",
            "Batch 3,800 of 5,089.     Elapsed: 1:22:12\n",
            "Batch 3,840 of 5,089.     Elapsed: 1:23:04\n",
            "Batch 3,880 of 5,089.     Elapsed: 1:23:56\n",
            "Batch 3,920 of 5,089.     Elapsed: 1:24:48\n",
            "Batch 3,960 of 5,089.     Elapsed: 1:25:39\n",
            "Batch 4,000 of 5,089.     Elapsed: 1:26:31\n",
            "Batch 4,040 of 5,089.     Elapsed: 1:27:23\n",
            "Batch 4,080 of 5,089.     Elapsed: 1:28:15\n",
            "Batch 4,120 of 5,089.     Elapsed: 1:29:07\n",
            "Batch 4,160 of 5,089.     Elapsed: 1:29:59\n",
            "Batch 4,200 of 5,089.     Elapsed: 1:30:51\n",
            "Batch 4,240 of 5,089.     Elapsed: 1:31:43\n",
            "Batch 4,280 of 5,089.     Elapsed: 1:32:35\n",
            "Batch 4,320 of 5,089.     Elapsed: 1:33:27\n",
            "Batch 4,360 of 5,089.     Elapsed: 1:34:19\n",
            "Batch 4,400 of 5,089.     Elapsed: 1:35:11\n",
            "Batch 4,440 of 5,089.     Elapsed: 1:36:03\n",
            "Batch 4,480 of 5,089.     Elapsed: 1:36:55\n",
            "Batch 4,520 of 5,089.     Elapsed: 1:37:47\n",
            "Batch 4,560 of 5,089.     Elapsed: 1:38:38\n",
            "Batch 4,600 of 5,089.     Elapsed: 1:39:30\n",
            "Batch 4,640 of 5,089.     Elapsed: 1:40:22\n",
            "Batch 4,680 of 5,089.     Elapsed: 1:41:14\n",
            "Batch 4,720 of 5,089.     Elapsed: 1:42:06\n",
            "Batch 4,760 of 5,089.     Elapsed: 1:42:58\n",
            "Batch 4,800 of 5,089.     Elapsed: 1:43:50\n",
            "Batch 4,840 of 5,089.     Elapsed: 1:44:42\n",
            "Batch 4,880 of 5,089.     Elapsed: 1:45:34\n",
            "Batch 4,920 of 5,089.     Elapsed: 1:46:26\n",
            "Batch 4,960 of 5,089.     Elapsed: 1:47:18\n",
            "Batch 5,000 of 5,089.     Elapsed: 1:48:09\n",
            "Batch 5,040 of 5,089.     Elapsed: 1:49:01\n",
            "Batch 5,080 of 5,089.     Elapsed: 1:49:53\n",
            "   Average training loss: 0.15\n",
            "   Training epoch took: 1:50:05\n",
            "Running Validation...\n",
            "Accuracy: 0.94\n",
            "Validation took: 0:04:29\n",
            "======= Epoch 4 / 4 =======\n",
            "Training...\n",
            "Batch    40 of 5,089.     Elapsed: 0:00:52\n",
            "Batch    80 of 5,089.     Elapsed: 0:01:44\n",
            "Batch   120 of 5,089.     Elapsed: 0:02:36\n",
            "Batch   160 of 5,089.     Elapsed: 0:03:28\n",
            "Batch   200 of 5,089.     Elapsed: 0:04:20\n",
            "Batch   240 of 5,089.     Elapsed: 0:05:12\n",
            "Batch   280 of 5,089.     Elapsed: 0:06:04\n",
            "Batch   320 of 5,089.     Elapsed: 0:06:55\n",
            "Batch   360 of 5,089.     Elapsed: 0:07:47\n",
            "Batch   400 of 5,089.     Elapsed: 0:08:39\n",
            "Batch   440 of 5,089.     Elapsed: 0:09:31\n",
            "Batch   480 of 5,089.     Elapsed: 0:10:23\n",
            "Batch   520 of 5,089.     Elapsed: 0:11:15\n",
            "Batch   560 of 5,089.     Elapsed: 0:12:07\n",
            "Batch   600 of 5,089.     Elapsed: 0:12:59\n",
            "Batch   640 of 5,089.     Elapsed: 0:13:51\n",
            "Batch   680 of 5,089.     Elapsed: 0:14:43\n",
            "Batch   720 of 5,089.     Elapsed: 0:15:35\n",
            "Batch   760 of 5,089.     Elapsed: 0:16:27\n",
            "Batch   800 of 5,089.     Elapsed: 0:17:19\n",
            "Batch   840 of 5,089.     Elapsed: 0:18:11\n",
            "Batch   880 of 5,089.     Elapsed: 0:19:03\n",
            "Batch   920 of 5,089.     Elapsed: 0:19:54\n",
            "Batch   960 of 5,089.     Elapsed: 0:20:46\n",
            "Batch 1,000 of 5,089.     Elapsed: 0:21:38\n",
            "Batch 1,040 of 5,089.     Elapsed: 0:22:30\n",
            "Batch 1,080 of 5,089.     Elapsed: 0:23:22\n",
            "Batch 1,120 of 5,089.     Elapsed: 0:24:14\n",
            "Batch 1,160 of 5,089.     Elapsed: 0:25:06\n",
            "Batch 1,200 of 5,089.     Elapsed: 0:25:58\n",
            "Batch 1,240 of 5,089.     Elapsed: 0:26:50\n",
            "Batch 1,280 of 5,089.     Elapsed: 0:27:42\n",
            "Batch 1,320 of 5,089.     Elapsed: 0:28:34\n",
            "Batch 1,360 of 5,089.     Elapsed: 0:29:26\n",
            "Batch 1,400 of 5,089.     Elapsed: 0:30:18\n",
            "Batch 1,440 of 5,089.     Elapsed: 0:31:09\n",
            "Batch 1,480 of 5,089.     Elapsed: 0:32:01\n",
            "Batch 1,520 of 5,089.     Elapsed: 0:32:53\n",
            "Batch 1,560 of 5,089.     Elapsed: 0:33:45\n",
            "Batch 1,600 of 5,089.     Elapsed: 0:34:37\n",
            "Batch 1,640 of 5,089.     Elapsed: 0:35:29\n",
            "Batch 1,680 of 5,089.     Elapsed: 0:36:21\n",
            "Batch 1,720 of 5,089.     Elapsed: 0:37:13\n",
            "Batch 1,760 of 5,089.     Elapsed: 0:38:05\n",
            "Batch 1,800 of 5,089.     Elapsed: 0:38:57\n",
            "Batch 1,840 of 5,089.     Elapsed: 0:39:49\n",
            "Batch 1,880 of 5,089.     Elapsed: 0:40:41\n",
            "Batch 1,920 of 5,089.     Elapsed: 0:41:33\n",
            "Batch 1,960 of 5,089.     Elapsed: 0:42:25\n",
            "Batch 2,000 of 5,089.     Elapsed: 0:43:17\n",
            "Batch 2,040 of 5,089.     Elapsed: 0:44:09\n",
            "Batch 2,080 of 5,089.     Elapsed: 0:45:00\n",
            "Batch 2,120 of 5,089.     Elapsed: 0:45:52\n",
            "Batch 2,160 of 5,089.     Elapsed: 0:46:44\n",
            "Batch 2,200 of 5,089.     Elapsed: 0:47:36\n",
            "Batch 2,240 of 5,089.     Elapsed: 0:48:28\n",
            "Batch 2,280 of 5,089.     Elapsed: 0:49:20\n",
            "Batch 2,320 of 5,089.     Elapsed: 0:50:12\n",
            "Batch 2,360 of 5,089.     Elapsed: 0:51:04\n",
            "Batch 2,400 of 5,089.     Elapsed: 0:51:56\n",
            "Batch 2,440 of 5,089.     Elapsed: 0:52:48\n",
            "Batch 2,480 of 5,089.     Elapsed: 0:53:40\n",
            "Batch 2,520 of 5,089.     Elapsed: 0:54:32\n",
            "Batch 2,560 of 5,089.     Elapsed: 0:55:24\n",
            "Batch 2,600 of 5,089.     Elapsed: 0:56:16\n",
            "Batch 2,640 of 5,089.     Elapsed: 0:57:07\n",
            "Batch 2,680 of 5,089.     Elapsed: 0:57:59\n",
            "Batch 2,720 of 5,089.     Elapsed: 0:58:51\n",
            "Batch 2,760 of 5,089.     Elapsed: 0:59:43\n",
            "Batch 2,800 of 5,089.     Elapsed: 1:00:35\n",
            "Batch 2,840 of 5,089.     Elapsed: 1:01:27\n",
            "Batch 2,880 of 5,089.     Elapsed: 1:02:19\n",
            "Batch 2,920 of 5,089.     Elapsed: 1:03:11\n",
            "Batch 2,960 of 5,089.     Elapsed: 1:04:03\n",
            "Batch 3,000 of 5,089.     Elapsed: 1:04:55\n",
            "Batch 3,040 of 5,089.     Elapsed: 1:05:47\n",
            "Batch 3,080 of 5,089.     Elapsed: 1:06:39\n",
            "Batch 3,120 of 5,089.     Elapsed: 1:07:31\n",
            "Batch 3,160 of 5,089.     Elapsed: 1:08:22\n",
            "Batch 3,200 of 5,089.     Elapsed: 1:09:14\n",
            "Batch 3,240 of 5,089.     Elapsed: 1:10:06\n",
            "Batch 3,280 of 5,089.     Elapsed: 1:10:58\n",
            "Batch 3,320 of 5,089.     Elapsed: 1:11:50\n",
            "Batch 3,360 of 5,089.     Elapsed: 1:12:42\n",
            "Batch 3,400 of 5,089.     Elapsed: 1:13:34\n",
            "Batch 3,440 of 5,089.     Elapsed: 1:14:26\n",
            "Batch 3,480 of 5,089.     Elapsed: 1:15:18\n",
            "Batch 3,520 of 5,089.     Elapsed: 1:16:10\n",
            "Batch 3,560 of 5,089.     Elapsed: 1:17:01\n",
            "Batch 3,600 of 5,089.     Elapsed: 1:17:53\n",
            "Batch 3,640 of 5,089.     Elapsed: 1:18:45\n",
            "Batch 3,680 of 5,089.     Elapsed: 1:19:37\n",
            "Batch 3,720 of 5,089.     Elapsed: 1:20:29\n",
            "Batch 3,760 of 5,089.     Elapsed: 1:21:21\n",
            "Batch 3,800 of 5,089.     Elapsed: 1:22:13\n",
            "Batch 3,840 of 5,089.     Elapsed: 1:23:05\n",
            "Batch 3,880 of 5,089.     Elapsed: 1:23:57\n",
            "Batch 3,920 of 5,089.     Elapsed: 1:24:49\n",
            "Batch 3,960 of 5,089.     Elapsed: 1:25:41\n",
            "Batch 4,000 of 5,089.     Elapsed: 1:26:32\n",
            "Batch 4,040 of 5,089.     Elapsed: 1:27:24\n",
            "Batch 4,080 of 5,089.     Elapsed: 1:28:16\n",
            "Batch 4,120 of 5,089.     Elapsed: 1:29:08\n",
            "Batch 4,160 of 5,089.     Elapsed: 1:30:00\n",
            "Batch 4,200 of 5,089.     Elapsed: 1:30:52\n",
            "Batch 4,240 of 5,089.     Elapsed: 1:31:44\n",
            "Batch 4,280 of 5,089.     Elapsed: 1:32:36\n",
            "Batch 4,320 of 5,089.     Elapsed: 1:33:28\n",
            "Batch 4,360 of 5,089.     Elapsed: 1:34:20\n",
            "Batch 4,400 of 5,089.     Elapsed: 1:35:12\n",
            "Batch 4,440 of 5,089.     Elapsed: 1:36:03\n",
            "Batch 4,480 of 5,089.     Elapsed: 1:36:55\n",
            "Batch 4,520 of 5,089.     Elapsed: 1:37:47\n",
            "Batch 4,560 of 5,089.     Elapsed: 1:38:39\n",
            "Batch 4,600 of 5,089.     Elapsed: 1:39:31\n",
            "Batch 4,640 of 5,089.     Elapsed: 1:40:23\n",
            "Batch 4,680 of 5,089.     Elapsed: 1:41:15\n",
            "Batch 4,720 of 5,089.     Elapsed: 1:42:07\n",
            "Batch 4,760 of 5,089.     Elapsed: 1:42:59\n",
            "Batch 4,800 of 5,089.     Elapsed: 1:43:51\n",
            "Batch 4,840 of 5,089.     Elapsed: 1:44:42\n",
            "Batch 4,880 of 5,089.     Elapsed: 1:45:34\n",
            "Batch 4,920 of 5,089.     Elapsed: 1:46:26\n",
            "Batch 4,960 of 5,089.     Elapsed: 1:47:18\n",
            "Batch 5,000 of 5,089.     Elapsed: 1:48:10\n",
            "Batch 5,040 of 5,089.     Elapsed: 1:49:02\n",
            "Batch 5,080 of 5,089.     Elapsed: 1:49:54\n",
            "   Average training loss: 0.14\n",
            "   Training epoch took: 1:50:06\n",
            "Running Validation...\n",
            "Accuracy: 0.94\n",
            "Validation took: 0:04:29\n",
            "Training complete!\n"
          ]
        }
      ],
      "source": [
        "seed_val = 42\n",
        "\n",
        "random.seed(seed_val)\n",
        "np.random.seed(seed_val)\n",
        "torch.manual_seed(seed_val)\n",
        "torch.cuda.manual_seed_all(seed_val)\n",
        "\n",
        "loss_values = []\n",
        "\n",
        "for epoch_i in range(0, epochs):\n",
        "\n",
        "  # ===================================\n",
        "  #              Training\n",
        "  # ===================================\n",
        "\n",
        "  print(\"======= Epoch {:} / {:} =======\".format(epoch_i+1, epochs))\n",
        "  print(\"Training...\")\n",
        "\n",
        "  t0 = time.time()\n",
        "\n",
        "  total_loss = 0\n",
        "\n",
        "  model.train()\n",
        "\n",
        "  # For each batch of training data\n",
        "  for step, batch in enumerate(train_dataloader):\n",
        "    \n",
        "    # Progress update every 40 batches\n",
        "    if step % 40 == 0 and not step == 0:\n",
        "      elapsed = format_time(time.time() - t0)\n",
        "\n",
        "      print(\"Batch {:>5,} of {:>5,}.     Elapsed: {:}\".format(step, len(train_dataloader), elapsed))\n",
        "    \n",
        "    b_input_ids = batch[0].to(device)\n",
        "    b_input_mask = batch[1].to(device)\n",
        "    b_labels = batch[2].to(device)\n",
        "\n",
        "    model.zero_grad()\n",
        "\n",
        "    outputs = model(b_input_ids,\n",
        "                    token_type_ids=None,\n",
        "                    attention_mask=b_input_mask,\n",
        "                    labels=b_labels)\n",
        "    \n",
        "    loss = outputs[0]\n",
        "\n",
        "    total_loss += loss.item()\n",
        "\n",
        "    loss.backward()\n",
        "\n",
        "    torch.nn.utils.clip_grad_norm_(model.parameters(), 1.0)\n",
        "\n",
        "    optimizer.step()\n",
        "\n",
        "    scheduler.step()\n",
        "\n",
        "  avg_train_loss = total_loss / len(train_dataloader)\n",
        "\n",
        "  loss_values.append(avg_train_loss)\n",
        "\n",
        "  print(\"   Average training loss: {0:.2f}\".format(avg_train_loss))\n",
        "  print(\"   Training epoch took: {:}\".format(format_time(time.time() - t0)))\n",
        "\n",
        "  # ===================================\n",
        "  #             Validation\n",
        "  # ===================================\n",
        "\n",
        "  print(\"Running Validation...\")\n",
        "\n",
        "  t0 = time.time()\n",
        "\n",
        "  model.eval()\n",
        "\n",
        "  eval_loss, eval_accuracy = 0, 0\n",
        "  nb_eval_steps, nb_eval_examples = 0, 0\n",
        "\n",
        "  for batch in validation_dataloader:\n",
        "\n",
        "    batch = tuple(t.to(device) for t in batch)\n",
        "\n",
        "    b_input_ids, b_input_mask, b_labels = batch\n",
        "\n",
        "    with torch.no_grad():\n",
        "      outputs = model(b_input_ids,\n",
        "                      token_type_ids=None,\n",
        "                      attention_mask=b_input_mask)\n",
        "    \n",
        "    logits = outputs[0]\n",
        "    logits = logits.detach().cpu().numpy()\n",
        "    label_ids = b_labels.to('cpu').numpy()\n",
        "\n",
        "    tmp_eval_accuracy = flat_accuracy(logits, label_ids)\n",
        "\n",
        "    eval_accuracy += tmp_eval_accuracy\n",
        "\n",
        "    nb_eval_steps += 1\n",
        "  \n",
        "  print(\"Accuracy: {0:.2f}\".format(eval_accuracy/nb_eval_steps))\n",
        "  print(\"Validation took: {:}\".format(format_time(time.time() - t0)))\n",
        "\n",
        "print(\"Training complete!\")"
      ]
    },
    {
      "cell_type": "code",
      "execution_count": null,
      "id": "d857b4b6",
      "metadata": {
        "execution": {
          "iopub.execute_input": "2022-11-30T00:19:55.591779Z",
          "iopub.status.busy": "2022-11-30T00:19:55.590675Z",
          "iopub.status.idle": "2022-11-30T00:19:55.844345Z",
          "shell.execute_reply": "2022-11-30T00:19:55.843373Z"
        },
        "papermill": {
          "duration": 0.304617,
          "end_time": "2022-11-30T00:19:55.846891",
          "exception": false,
          "start_time": "2022-11-30T00:19:55.542274",
          "status": "completed"
        },
        "tags": [],
        "id": "d857b4b6",
        "outputId": "d839690f-7615-4559-c1bb-14efc298922a"
      },
      "outputs": [
        {
          "data": {
            "image/png": "[encoded data removed]",
            "text/plain": [
              "<Figure size 864x432 with 1 Axes>"
            ]
          },
          "metadata": {},
          "output_type": "display_data"
        }
      ],
      "source": [
        "import matplotlib.pyplot as plt\n",
        "%matplotlib inline\n",
        "\n",
        "import seaborn as sns\n",
        "\n",
        "sns.set(style='darkgrid')\n",
        "\n",
        "sns.set(font_scale=1.5)\n",
        "plt.rcParams[\"figure.figsize\"] = (12,6)\n",
        "\n",
        "plt.plot(loss_values, 'b-o')\n",
        "\n",
        "plt.title(\"Training loss\")\n",
        "plt.xlabel(\"Epoch\")\n",
        "plt.ylabel(\"Loss\")\n",
        "\n",
        "plt.show()"
      ]
    },
    {
      "cell_type": "markdown",
      "id": "ffbce3d6",
      "metadata": {
        "papermill": {
          "duration": 0.046827,
          "end_time": "2022-11-30T00:19:55.941225",
          "exception": false,
          "start_time": "2022-11-30T00:19:55.894398",
          "status": "completed"
        },
        "tags": [],
        "id": "ffbce3d6"
      },
      "source": [
        "## Predict and Evaluate"
      ]
    },
    {
      "cell_type": "code",
      "execution_count": null,
      "id": "db3887eb",
      "metadata": {
        "execution": {
          "iopub.execute_input": "2022-11-30T00:19:56.038147Z",
          "iopub.status.busy": "2022-11-30T00:19:56.037781Z",
          "iopub.status.idle": "2022-11-30T00:24:56.199319Z",
          "shell.execute_reply": "2022-11-30T00:24:56.198278Z"
        },
        "papermill": {
          "duration": 300.258446,
          "end_time": "2022-11-30T00:24:56.247112",
          "exception": false,
          "start_time": "2022-11-30T00:19:55.988666",
          "status": "completed"
        },
        "tags": [],
        "id": "db3887eb",
        "outputId": "1083b470-664f-441f-fee4-22db9c14b5c6"
      },
      "outputs": [
        {
          "name": "stdout",
          "output_type": "stream",
          "text": [
            "Predicting labels for 20,105 test sentences\n",
            " DONE.\n"
          ]
        }
      ],
      "source": [
        "print(\"Predicting labels for {:,} test sentences\".format(len(test_input)))\n",
        "\n",
        "model.eval()\n",
        "\n",
        "prediction, true_labels = [], []\n",
        "\n",
        "for batch in test_dataloader:\n",
        "  batch = tuple(t.to(device) for t in batch)\n",
        "\n",
        "  b_input_ids, b_input_mask, b_labels = batch\n",
        "\n",
        "  with torch.no_grad():\n",
        "    outputs = model(b_input_ids,\n",
        "                    token_type_ids=None,\n",
        "                    attention_mask=b_input_mask)\n",
        "    \n",
        "  logits = outputs[0]\n",
        "\n",
        "  logits = logits.detach().cpu().numpy()\n",
        "  label_ids = b_labels.to('cpu').numpy()\n",
        "\n",
        "  prediction.append(logits)\n",
        "  true_labels.append(label_ids)\n",
        "\n",
        "print(\" DONE.\")"
      ]
    },
    {
      "cell_type": "code",
      "execution_count": null,
      "id": "ed22c03c",
      "metadata": {
        "execution": {
          "iopub.execute_input": "2022-11-30T00:24:56.344541Z",
          "iopub.status.busy": "2022-11-30T00:24:56.343575Z",
          "iopub.status.idle": "2022-11-30T00:24:56.376836Z",
          "shell.execute_reply": "2022-11-30T00:24:56.375722Z"
        },
        "papermill": {
          "duration": 0.083593,
          "end_time": "2022-11-30T00:24:56.378789",
          "exception": false,
          "start_time": "2022-11-30T00:24:56.295196",
          "status": "completed"
        },
        "tags": [],
        "id": "ed22c03c",
        "outputId": "61e7c3b7-c6c1-4ec7-f19b-685238ea3494"
      },
      "outputs": [
        {
          "name": "stdout",
          "output_type": "stream",
          "text": [
            "MCC: 0.724\n"
          ]
        }
      ],
      "source": [
        "# evaluation fo data imbalance\n",
        "flat_prediction = [item for sublist in prediction for item in sublist]\n",
        "flat_prediction = np.argmax(flat_prediction, axis=1).flatten()\n",
        "\n",
        "flat_true_labels = [item for sublist in true_labels for item in sublist]\n",
        "\n",
        "mcc = matthews_corrcoef(flat_true_labels, flat_prediction)\n",
        "\n",
        "print(\"MCC: %.3f\" %mcc)"
      ]
    },
    {
      "cell_type": "code",
      "execution_count": null,
      "id": "f60b4cc8",
      "metadata": {
        "execution": {
          "iopub.execute_input": "2022-11-30T00:24:56.504279Z",
          "iopub.status.busy": "2022-11-30T00:24:56.503868Z",
          "iopub.status.idle": "2022-11-30T00:24:56.51605Z",
          "shell.execute_reply": "2022-11-30T00:24:56.514778Z"
        },
        "papermill": {
          "duration": 0.09041,
          "end_time": "2022-11-30T00:24:56.518343",
          "exception": false,
          "start_time": "2022-11-30T00:24:56.427933",
          "status": "completed"
        },
        "tags": [],
        "id": "f60b4cc8",
        "outputId": "ce5bcacb-f477-495d-91a7-9474561683d8"
      },
      "outputs": [
        {
          "name": "stdout",
          "output_type": "stream",
          "text": [
            "ACC: 0.940\n"
          ]
        }
      ],
      "source": [
        "acc = accuracy_score(flat_true_labels, flat_prediction)\n",
        "\n",
        "print(\"ACC: %.3f\" %acc)"
      ]
    }
  ],
  "metadata": {
    "kernelspec": {
      "display_name": "Python 3",
      "language": "python",
      "name": "python3"
    },
    "language_info": {
      "codemirror_mode": {
        "name": "ipython",
        "version": 3
      },
      "file_extension": ".py",
      "mimetype": "text/x-python",
      "name": "python",
      "nbconvert_exporter": "python",
      "pygments_lexer": "ipython3",
      "version": "3.7.12"
    },
    "papermill": {
      "default_parameters": {},
      "duration": 28047.628058,
      "end_time": "2022-11-30T00:24:59.464335",
      "environment_variables": {},
      "exception": null,
      "input_path": "__notebook__.ipynb",
      "output_path": "__notebook__.ipynb",
      "parameters": {},
      "start_time": "2022-11-29T16:37:31.836277",
      "version": "2.3.4"
    },
    "colab": {
      "provenance": [],
      "include_colab_link": true
    }
  },
  "nbformat": 4,
  "nbformat_minor": 5
}